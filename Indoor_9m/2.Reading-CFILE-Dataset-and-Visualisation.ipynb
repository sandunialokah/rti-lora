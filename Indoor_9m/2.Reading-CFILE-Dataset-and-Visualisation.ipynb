{
 "cells": [
  {
   "cell_type": "markdown",
   "metadata": {},
   "source": [
    "### Importing Libraries"
   ]
  },
  {
   "cell_type": "code",
   "execution_count": 1,
   "metadata": {},
   "outputs": [],
   "source": [
    "import numpy as np\n",
    "import matplotlib.pyplot as plt\n",
    "import scipy.stats as stats\n",
    "from sklearn.preprocessing import StandardScaler\n",
    "from scipy.spatial import distance\n",
    "from scipy.spatial.distance import cityblock"
   ]
  },
  {
   "cell_type": "markdown",
   "metadata": {},
   "source": [
    "### Function to Read and Load .cfile Data"
   ]
  },
  {
   "cell_type": "code",
   "execution_count": 2,
   "metadata": {},
   "outputs": [],
   "source": [
    "def getData(cfileName):\n",
    "    \"\"\"\n",
    "    Given a name of a *.cfile, this function extracts the interleaved\n",
    "    Inphase-Quadrature data samples and convert it into a numpy array of complex\n",
    "    data elements. *.cfile format has interleaved I and Q samples where each sample\n",
    "    is a float32 type. GNURadio Companion (GRC) scripts output data into a file\n",
    "    though a file sink block in this format.\n",
    "    Read more in SDR data types: https://github.com/miek/inspectrum\n",
    "    \"\"\"\n",
    "    # Read the *.cfile which has each element in float32 format.\n",
    "    data = np.fromfile(cfileName, dtype=\"float32\")\n",
    "    # Take each consecutive interleaved I sample and Q sample to create a single complex element.\n",
    "    data = data[0::2] + 1j*data[1::2]\n",
    "    #print(\"data type=\", type(data))\n",
    "    # Return the complex numpy array.\n",
    "    return data"
   ]
  },
  {
   "cell_type": "markdown",
   "metadata": {},
   "source": [
    "### Calculate RSSI"
   ]
  },
  {
   "cell_type": "code",
   "execution_count": 3,
   "metadata": {},
   "outputs": [],
   "source": [
    "def calculate_rssi(complex_data):\n",
    "    \"\"\"\n",
    "    Calculate RSSI as 10 * log10(I[k]^2 + Q[k]^2) for each sample.\n",
    "    \"\"\"\n",
    "    # Separate I and Q data\n",
    "    I = np.real(complex_data)\n",
    "    Q = np.imag(complex_data)\n",
    "    \n",
    "    # Calculate RSSI for each sample\n",
    "    rssi = 10 * np.log10(I**2 + Q**2)\n",
    "    \n",
    "    return rssi"
   ]
  },
  {
   "cell_type": "markdown",
   "metadata": {},
   "source": [
    "### Plot RSSI function"
   ]
  },
  {
   "cell_type": "code",
   "execution_count": 14,
   "metadata": {},
   "outputs": [],
   "source": [
    "def plot_rssi_vs_time(data, sample_rate):\n",
    "    \"\"\"\n",
    "    Plot RSSI versus time plot for one dataset.\n",
    "    \n",
    "    Parameters:\n",
    "    - rssi1: Array of RSSI values for the first plot\n",
    "    - sample_rate: Sampling rate of the data in Hz\n",
    "    \"\"\"\n",
    "    # Adjust matplotlib settings to handle large data sets\n",
    "    plt.rcParams['agg.path.chunksize'] = 10000  # Handle large data sets\n",
    "    plt.rcParams['path.simplify_threshold'] = 1.0  # Path simplification threshold\n",
    "\n",
    "    rssi = calculate_rssi(data)\n",
    "\n",
    "    # Calculate time vector based on the number of samples and sampling rate\n",
    "    N = len(rssi)\n",
    "\n",
    "    time = np.arange(N) / sample_rate\n",
    "\n",
    "    # Plot RSSI vs Time\n",
    "    plt.figure(figsize=(10, 6))\n",
    "    plt.plot(time, rssi, label=\"RSSI\", alpha=0.7)  # Plot the first dataset\n",
    "    plt.xlabel(\"Time (s)\")\n",
    "    plt.ylabel(\"RSSI (dB)\")\n",
    "    plt.title(\"RSSI vs Time\")\n",
    "    plt.grid(True)\n",
    "    plt.legend()\n",
    "    plt.show()\n"
   ]
  },
  {
   "cell_type": "code",
   "execution_count": 15,
   "metadata": {},
   "outputs": [],
   "source": [
    "def plot_rssi_vs_time_2(data1, data2, sample_rate):\n",
    "    \"\"\"\n",
    "    Plot two RSSI versus time plots on top of each other.\n",
    "    \n",
    "    Parameters:\n",
    "    - rssi1: Array of RSSI values for the first plot\n",
    "    - rssi2: Array of RSSI values for the second plot\n",
    "    - sample_rate: Sampling rate of the data in Hz\n",
    "    \"\"\"\n",
    "    # Adjust matplotlib settings to handle large data sets\n",
    "    plt.rcParams['agg.path.chunksize'] = 10000  # Handle large data sets\n",
    "    plt.rcParams['path.simplify_threshold'] = 1.0  # Path simplification threshold\n",
    "\n",
    "    rssi1 = calculate_rssi(data1)\n",
    "    rssi2 = calculate_rssi(data2)\n",
    "\n",
    "    # Calculate time vector based on the number of samples and sampling rate\n",
    "    N1 = len(rssi1)\n",
    "    N2 = len(rssi2)\n",
    "    time1 = np.arange(N1) / sample_rate\n",
    "    time2 = np.arange(N2) / sample_rate\n",
    "\n",
    "    # Plot RSSI vs Time\n",
    "    plt.figure(figsize=(10, 6))\n",
    "    plt.plot(time1, rssi1, label=\"RSSI 1\", alpha=0.7)  # Plot the first dataset\n",
    "    plt.plot(time2, rssi2, label=\"RSSI 2\", alpha=0.7)  # Plot the second dataset\n",
    "    plt.xlabel(\"Time (s)\")\n",
    "    plt.ylabel(\"RSSI (dB)\")\n",
    "    plt.title(\"RSSI vs Time\")\n",
    "    plt.grid(True)\n",
    "    plt.legend()\n",
    "    plt.show()"
   ]
  },
  {
   "cell_type": "markdown",
   "metadata": {},
   "source": [
    "### Calculate IQ Angle"
   ]
  },
  {
   "cell_type": "code",
   "execution_count": 4,
   "metadata": {},
   "outputs": [],
   "source": [
    "def calculate_IQ_Angle(complex_data):\n",
    "    I = np.real(complex_data)\n",
    "    Q = np.imag(complex_data)\n",
    "    \n",
    "    # Calculate RSSI for each sample\n",
    "    angle = np.arctan(Q/I)\n",
    "    return angle\n",
    "    "
   ]
  },
  {
   "cell_type": "markdown",
   "metadata": {},
   "source": [
    "### Plot IQ Angle"
   ]
  },
  {
   "cell_type": "code",
   "execution_count": 25,
   "metadata": {},
   "outputs": [],
   "source": [
    "def plot_IQ_Angle(complex_data):\n",
    "    I = np.real(complex_data)\n",
    "    Q = np.imag(complex_data)\n",
    "    \n",
    "    # Calculate RSSI for each sample\n",
    "    angle = np.arctan(Q/I)\n",
    "\n",
    "    N = len(angle)\n",
    "    sample_rate = 20e6\n",
    "    time = np.arange(N) / sample_rate\n",
    "\n",
    "    plt.plot(time, angle, color='red')\n",
    "    plt.title('IQ Angle Component')\n",
    "    plt.xlabel('Time')\n",
    "    plt.ylabel('Angle')\n",
    "    plt.legend()\n",
    "    plt.show()"
   ]
  },
  {
   "cell_type": "code",
   "execution_count": 22,
   "metadata": {},
   "outputs": [],
   "source": [
    "def plot_IQ_Angle_2(complex_data1, complex_data2):\n",
    "    I1 = np.real(complex_data1)\n",
    "    Q1 = np.imag(complex_data1)\n",
    "\n",
    "    I2 = np.real(complex_data2)\n",
    "    Q2 = np.imag(complex_data2)\n",
    "    \n",
    "    # Calculate RSSI for each sample\n",
    "    angle1 = np.arctan(Q1/I1)\n",
    "    angle2 = np.arctan(Q2/I2)\n",
    "    plt.plot(angle1, color='red')\n",
    "    plt.plot(angle2, color='blue')\n",
    "    plt.title('IQ Angle Component')\n",
    "    plt.xlabel('Sample Number')\n",
    "    plt.ylabel('Angle')\n",
    "    plt.legend()\n",
    "    plt.show()"
   ]
  },
  {
   "cell_type": "markdown",
   "metadata": {},
   "source": [
    "### Calculate IQ Magnitude"
   ]
  },
  {
   "cell_type": "code",
   "execution_count": 3,
   "metadata": {},
   "outputs": [],
   "source": [
    "def calculate_IQMagnitude(complex_data):\n",
    "    # Separate I and Q data\n",
    "    I = np.real(complex_data)\n",
    "    Q = np.imag(complex_data)\n",
    "    \n",
    "    # Calculate RSSI for each sample\n",
    "    magnitude = np.sqrt(I**2 + Q**2)\n",
    "    \n",
    "    return magnitude"
   ]
  },
  {
   "cell_type": "markdown",
   "metadata": {},
   "source": [
    "### Plot IQ Magnitude"
   ]
  },
  {
   "cell_type": "code",
   "execution_count": 29,
   "metadata": {},
   "outputs": [],
   "source": [
    "def plot_IQ_magnitude(complex_data):\n",
    "    magnitude = calculate_IQMagnitude(complex_data)\n",
    "    plt.plot(magnitude, color='red')\n",
    "    plt.title('IQ Magnitude Component')\n",
    "    plt.xlabel('Sample Number')\n",
    "    plt.ylabel('Magnitude')\n",
    "    plt.legend()\n",
    "    plt.show()"
   ]
  },
  {
   "cell_type": "code",
   "execution_count": 3,
   "metadata": {},
   "outputs": [],
   "source": [
    "def plot_IQ_magnitude_2(complex_data1, complex_data2):\n",
    "    I1 = np.real(complex_data1)\n",
    "    Q1 = np.imag(complex_data1)\n",
    "\n",
    "    I2 = np.real(complex_data2)\n",
    "    Q2 = np.imag(complex_data2)\n",
    "    \n",
    "    # Calculate RSSI for each sample\n",
    "    magnitude1 = np.sqrt(I1**2 + Q1**2)\n",
    "    magnitude2 = np.sqrt(I2**2 + Q2**2)\n",
    "    plt.plot(magnitude1, color='red')\n",
    "    plt.plot(magnitude2, color='blue')\n",
    "    plt.title('IQ Magnitude Component')\n",
    "    plt.xlabel('Sample Number')\n",
    "    plt.ylabel('Magnitude')\n",
    "    plt.legend()\n",
    "    plt.show()"
   ]
  },
  {
   "cell_type": "markdown",
   "metadata": {},
   "source": [
    "### Calculate SNR"
   ]
  },
  {
   "cell_type": "code",
   "execution_count": null,
   "metadata": {},
   "outputs": [],
   "source": [
    "def calculate_snr_mean_std(signal_complex_data, noise_complex_data):\n",
    "    \"\"\"\n",
    "    Calculate SNR (Signal-to-Noise Ratio) using mean of the signal and standard deviation of the noise.\n",
    "    \n",
    "    SNR = 20 * log10(mean_signal_power / std_noise_power)\n",
    "    \n",
    "    signal_complex_data: array of complex numbers representing the signal\n",
    "    noise_complex_data: array of complex numbers representing the noise\n",
    "    \"\"\"\n",
    "    # Separate I and Q data for signal and noise\n",
    "    I_signal = np.real(signal_complex_data)\n",
    "    Q_signal = np.imag(signal_complex_data)\n",
    "    \n",
    "    I_noise = np.real(noise_complex_data)\n",
    "    Q_noise = np.imag(noise_complex_data)\n",
    "    \n",
    "    # Calculate power of signal and noise\n",
    "    signal_power = I_signal**2 + Q_signal**2\n",
    "    noise_power = I_noise**2 + Q_noise**2\n",
    "    \n",
    "    # Calculate mean of the signal power and standard deviation of the noise power\n",
    "    mean_signal_power = np.mean(signal_power)\n",
    "    std_noise_power = np.std(noise_power)\n",
    "    \n",
    "    # Calculate SNR\n",
    "    snr = 20 * np.log10(mean_signal_power / std_noise_power)\n",
    "    \n",
    "    return snr"
   ]
  },
  {
   "cell_type": "code",
   "execution_count": 13,
   "metadata": {},
   "outputs": [],
   "source": [
    "def calculate_snr_mean_std_windowed(signal_complex_data, noise_complex_data, window_length):\n",
    "    \"\"\"\n",
    "    Calculate SNR (Signal-to-Noise Ratio) over multiple windows using mean of the signal power \n",
    "    and standard deviation of the noise power.\n",
    "    \n",
    "    SNR for each window = 20 * log10(mean_signal_power / std_noise_power)\n",
    "    \n",
    "    signal_complex_data: array of complex numbers representing the signal\n",
    "    noise_complex_data: array of complex numbers representing the noise\n",
    "    window_length: length of each window to calculate the SNR\n",
    "    \n",
    "    Returns:\n",
    "    snr_array: array of SNR values for each window\n",
    "    \"\"\"\n",
    "    # Ensure input data are numpy arrays\n",
    "    signal_complex_data = np.array(signal_complex_data)\n",
    "    noise_complex_data = np.array(noise_complex_data)\n",
    "    \n",
    "    # Number of windows\n",
    "    num_windows = len(signal_complex_data) // window_length\n",
    "    \n",
    "    # Initialize array to store SNR values for each window\n",
    "    snr_array = []\n",
    "    \n",
    "    # Calculate SNR for each window\n",
    "    for i in range(num_windows):\n",
    "        # Extract window data for signal and noise\n",
    "        window_signal = signal_complex_data[i * window_length: (i + 1) * window_length]\n",
    "        window_noise = noise_complex_data[i * window_length: (i + 1) * window_length]\n",
    "        \n",
    "        # Separate I and Q data for signal and noise\n",
    "        I_signal = np.real(window_signal)\n",
    "        Q_signal = np.imag(window_signal)\n",
    "        \n",
    "        I_noise = np.real(window_noise)\n",
    "        Q_noise = np.imag(window_noise)\n",
    "        \n",
    "        # Calculate power of signal and noise\n",
    "        signal_power = I_signal**2 + Q_signal**2\n",
    "        noise_power = I_noise**2 + Q_noise**2\n",
    "        \n",
    "        # Calculate mean of the signal power and standard deviation of the noise power\n",
    "        mean_signal_power = np.mean(signal_power)\n",
    "        std_noise_power = np.std(noise_power)\n",
    "        \n",
    "        # Calculate SNR for the window\n",
    "        snr = 20 * np.log10(mean_signal_power / std_noise_power)\n",
    "        snr_array.append(snr)\n",
    "    \n",
    "    return np.array(snr_array)"
   ]
  },
  {
   "cell_type": "markdown",
   "metadata": {},
   "source": [
    "### Plot SNR"
   ]
  },
  {
   "cell_type": "code",
   "execution_count": null,
   "metadata": {},
   "outputs": [],
   "source": [
    "def plot_snr(signal_complex_data, noise_complex_data):\n",
    "    \"\"\"\n",
    "    Calculate SNR using mean/std method and plot the SNR values with samples on the x-axis.\n",
    "    \"\"\"\n",
    "    # Calculate SNR for the given data\n",
    "    snr_value = calculate_snr_mean_std_windowed(signal_complex_data, noise_complex_data)\n",
    "    \n",
    "    # Plot SNR\n",
    "    plt.figure(figsize=(10, 6))\n",
    "    plt.plot(np.arange(len(signal_complex_data)), snr_value * np.ones(len(signal_complex_data)), label=f'SNR: {snr_value:.2f} dB')\n",
    "    plt.xlabel('Samples')\n",
    "    plt.ylabel('SNR (dB)')\n",
    "    plt.title('SNR vs Samples')\n",
    "    plt.legend()\n",
    "    plt.grid(True)\n",
    "    plt.show()"
   ]
  },
  {
   "cell_type": "markdown",
   "metadata": {},
   "source": [
    "### Plot I vs Q"
   ]
  },
  {
   "cell_type": "code",
   "execution_count": 3,
   "metadata": {},
   "outputs": [],
   "source": [
    "def plot_I_vs_Q(complex_data):\n",
    "    \"\"\"\n",
    "    Plot the in-phase (I) component against the quadrature (Q) component.\n",
    "    \n",
    "    I is on the x-axis and Q is on the y-axis.\n",
    "    \"\"\"\n",
    "    # Separate I and Q data\n",
    "    I = np.real(complex_data)\n",
    "    Q = np.imag(complex_data)\n",
    "    samples = np.arange(len(complex_data))\n",
    "    \n",
    "    # Plot I vs Q\n",
    "    plt.figure(figsize=(8, 8))\n",
    "    plt.scatter(I, Q, c='blue', marker='o', alpha=0.5)\n",
    "    plt.xlabel('In-Phase (I)')\n",
    "    plt.ylabel('Quadrature (Q)')\n",
    "    plt.title('I vs Q Plot')\n",
    "    plt.grid(True)\n",
    "    plt.axhline(0, color='black', linewidth=0.5)\n",
    "    plt.axvline(0, color='black', linewidth=0.5)\n",
    "    plt.show()\n",
    "\n",
    "    # fig = plt.figure(figsize = (10, 7))\n",
    "    # ax = plt.axes(projection =\"3d\")\n",
    "    \n",
    "    # # Creating plot\n",
    "    # ax.scatter3D(I, Q, samples, color = \"green\")\n",
    "    # plt.title(\"simple 3D scatter plot\")\n",
    "    \n",
    "    # # show plot\n",
    "    # plt.show()"
   ]
  },
  {
   "cell_type": "code",
   "execution_count": 4,
   "metadata": {},
   "outputs": [],
   "source": [
    "def plot_I_vs_Q_2(complex_data1, complex_data2):\n",
    "    \"\"\"\n",
    "    Plot the in-phase (I) component against the quadrature (Q) component.\n",
    "    \n",
    "    I is on the x-axis and Q is on the y-axis.\n",
    "    \"\"\"\n",
    "    # Separate I and Q data\n",
    "    I1 = np.real(complex_data1)\n",
    "    Q1 = np.imag(complex_data1)\n",
    "\n",
    "    I2 = np.real(complex_data2)\n",
    "    Q2 = np.imag(complex_data2)\n",
    "\n",
    "    samples = np.arange(len(complex_data1))\n",
    "    \n",
    "    # Plot I vs Q\n",
    "    plt.figure(figsize=(8, 8))\n",
    "    plt.scatter(I1, Q1, c='blue', marker='o', alpha=0.5)\n",
    "    plt.scatter(I2, Q2, c='red', marker='o', alpha=0.5)\n",
    "    plt.xlabel('In-Phase (I)')\n",
    "    plt.ylabel('Quadrature (Q)')\n",
    "    plt.title('I vs Q Plot')\n",
    "    plt.grid(True)\n",
    "    plt.axhline(0, color='black', linewidth=0.5)\n",
    "    plt.axvline(0, color='black', linewidth=0.5)\n",
    "    plt.show()\n",
    "\n",
    "    # fig = plt.figure(figsize = (10, 7))\n",
    "    # ax = plt.axes(projection =\"3d\")\n",
    "    \n",
    "    # # Creating plot\n",
    "    # ax.scatter3D(I, Q, samples, color = \"green\")\n",
    "    # plt.title(\"simple 3D scatter plot\")\n",
    "    \n",
    "    # # show plot\n",
    "    # plt.show()"
   ]
  },
  {
   "cell_type": "markdown",
   "metadata": {},
   "source": [
    "### Calculate FFT"
   ]
  },
  {
   "cell_type": "code",
   "execution_count": 6,
   "metadata": {},
   "outputs": [],
   "source": [
    "def calculate_fft(complex_data):\n",
    "    fft_result = np.fft.fft(complex_data)\n",
    "    return fft_result"
   ]
  },
  {
   "cell_type": "code",
   "execution_count": 2,
   "metadata": {},
   "outputs": [],
   "source": [
    "def plot_fft(complex_data):\n",
    "    fft_result = calculate_fft(complex_data)\n",
    "\n",
    "    n = len(complex_data)\n",
    "    sampling_rate = 20e6  \n",
    "    freqs = np.fft.fftfreq(n, d=1/sampling_rate)\n",
    "\n",
    "    plt.figure(figsize=(10, 6))\n",
    "    plt.plot(freqs[:n // 2], np.abs(fft_result)[:n // 2]) \n",
    "    plt.title(\"FFT\")\n",
    "    plt.xlabel(\"Frequency (Hz)\")\n",
    "    plt.ylabel(\"Magnitude\")\n",
    "    plt.grid()\n",
    "    plt.show()\n",
    "\n",
    "    # N = len(complex_data)\n",
    "    # sample_rate = 20e6\n",
    "    # time = np.arange(N) / sample_rate"
   ]
  },
  {
   "cell_type": "markdown",
   "metadata": {},
   "source": [
    "### Calculate Two Sample T Test"
   ]
  },
  {
   "cell_type": "code",
   "execution_count": 3,
   "metadata": {},
   "outputs": [],
   "source": [
    "from scipy.stats import ttest_ind\n",
    "\n",
    "def compute_two_sample_ttest(complex_data1, complex_data2):\n",
    "    \"\"\"\n",
    "    Performs a two-sample t-test between the in-phase (I) and quadrature (Q) components of IQ data.\n",
    "    Used to compare the means of I and Q if both are normally distributed\n",
    "    Parameters:\n",
    "    complex_data (numpy array): An array of complex numbers representing IQ data.\n",
    "\n",
    "    Returns:\n",
    "    tuple: A tuple containing the t-statistic and the p-value.\n",
    "    \"\"\"\n",
    "    # Extract in-phase (I) and quadrature (Q) components\n",
    "    I1 = np.real(complex_data1)\n",
    "    Q1 = np.imag(complex_data1)\n",
    "    magnitude1 = np.sqrt(I1**2 + Q1**2)\n",
    "\n",
    "    I2 = np.real(complex_data2)\n",
    "    Q2 = np.imag(complex_data2)\n",
    "    magnitude2 = np.sqrt(I2**2 + Q2**2)\n",
    "    \n",
    "    # Perform two-sample t-test\n",
    "    t_statistic, p_value = ttest_ind(magnitude1, magnitude2, equal_var=False)  # `equal_var=False` assumes unequal variance\n",
    "    print(f\"T-Statistic: {t_statistic}\")\n",
    "    print(f\"P-value: {p_value}\")\n",
    "\n",
    "    return t_statistic, p_value"
   ]
  },
  {
   "cell_type": "markdown",
   "metadata": {},
   "source": [
    "### Calculate Covariance"
   ]
  },
  {
   "cell_type": "code",
   "execution_count": 7,
   "metadata": {},
   "outputs": [],
   "source": [
    "def compute_covariance(complex_data1):\n",
    "    return np.cov(np.real(complex_data1), np.imag(complex_data1))"
   ]
  },
  {
   "cell_type": "markdown",
   "metadata": {},
   "source": [
    "### Reading and Loading a .cfile to Numpy Array"
   ]
  },
  {
   "cell_type": "code",
   "execution_count": 6,
   "metadata": {},
   "outputs": [],
   "source": [
    "dataWithOutInterference = getData(\"./nothing.cfile\")"
   ]
  },
  {
   "cell_type": "code",
   "execution_count": 5,
   "metadata": {},
   "outputs": [],
   "source": [
    "dataWithInterferenceLOSCenter = getData(\"./centersecond1.cfile\")\n",
    "dataWithInterferenceLOSFirstQuartile = getData(\"./centerfirst1.cfile\")\n",
    "dataWithInterferenceLOSThirdQuartile = getData(\"./centerthird1.cfile\")"
   ]
  },
  {
   "cell_type": "code",
   "execution_count": 6,
   "metadata": {},
   "outputs": [],
   "source": [
    "dataWithInterferenceLOSCenter2 = getData(\"./centersecond2.cfile\")\n",
    "dataWithInterferenceLOSFirstQuartile2 = getData(\"./centerfirst2.cfile\")\n",
    "dataWithInterferenceLOSThirdQuartile2 = getData(\"./centerthird2.cfile\")"
   ]
  },
  {
   "cell_type": "code",
   "execution_count": 7,
   "metadata": {},
   "outputs": [],
   "source": [
    "dataWithInterferenceLOSCenter4 = getData(\"./centersecond4.cfile\")\n",
    "dataWithInterferenceLOSFirstQuartile4 = getData(\"./centerfirst4.cfile\")\n",
    "dataWithInterferenceLOSThirdQuartile4 = getData(\"./centerthird4.cfile\")"
   ]
  },
  {
   "cell_type": "code",
   "execution_count": 8,
   "metadata": {},
   "outputs": [],
   "source": [
    "dataWithInterferenceNLOSLeftCenter = getData(\"./leftsecond1.cfile\")\n",
    "dataWithInterferenceNLOSLeftFirstQuartile = getData(\"./leftfirst1.cfile\")\n",
    "dataWithInterferenceNLOSLeftThirdQuartile = getData(\"./leftthird1.cfile\")"
   ]
  },
  {
   "cell_type": "code",
   "execution_count": 9,
   "metadata": {},
   "outputs": [],
   "source": [
    "dataWithInterferenceNLOSLeftCenter2 = getData(\"./leftsecond2.cfile\")\n",
    "dataWithInterferenceNLOSLeftFirstQuartile2 = getData(\"./leftfirst2.cfile\")\n",
    "dataWithInterferenceNLOSLeftThirdQuartile2 = getData(\"./leftthird2.cfile\")"
   ]
  },
  {
   "cell_type": "code",
   "execution_count": null,
   "metadata": {},
   "outputs": [],
   "source": [
    "dataWithInterferenceNLOSLeftCenter4 = getData(\"./leftsecond4.cfile\")\n",
    "dataWithInterferenceNLOSLeftFirstQuartile4 = getData(\"./leftfirst4.cfile\")\n",
    "dataWithInterferenceNLOSLeftThirdQuartile4 = getData(\"./leftthird4.cfile\")"
   ]
  },
  {
   "cell_type": "code",
   "execution_count": null,
   "metadata": {},
   "outputs": [],
   "source": [
    "dataWithInterferenceNLOSRightCenter = getData(\"./rightsecond1.cfile\")\n",
    "dataWithInterferenceNLOSRightFirstQuartile = getData(\"./rightfirst1.cfile\")\n",
    "dataWithInterferenceNLOSRightThirdQuartile = getData(\"./rightthird1.cfile\")"
   ]
  },
  {
   "cell_type": "code",
   "execution_count": null,
   "metadata": {},
   "outputs": [],
   "source": [
    "dataWithInterferenceNLOSRightCenter2 = getData(\"./rightsecond2.cfile\")\n",
    "dataWithInterferenceNLOSRightFirstQuartile2 = getData(\"./rightfirst2.cfile\")\n",
    "dataWithInterferenceNLOSRightThirdQuartile2 = getData(\"./rightthird2.cfile\")"
   ]
  },
  {
   "cell_type": "code",
   "execution_count": null,
   "metadata": {},
   "outputs": [],
   "source": [
    "dataWithInterferenceNLOSRightCenter4 = getData(\"./rightsecond4.cfile\")\n",
    "dataWithInterferenceNLOSRightFirstQuartile4 = getData(\"./rightfirst4.cfile\")\n",
    "dataWithInterferenceNLOSRightThirdQuartile4 = getData(\"./rightthird4.cfile\")"
   ]
  },
  {
   "cell_type": "markdown",
   "metadata": {},
   "source": [
    "### Removing NoObstruction"
   ]
  },
  {
   "cell_type": "code",
   "execution_count": null,
   "metadata": {},
   "outputs": [],
   "source": [
    "dataWithInterferenceLOSCenter = dataWithInterferenceLOSCenter - dataWithOutInterference"
   ]
  },
  {
   "cell_type": "markdown",
   "metadata": {},
   "source": [
    "### DC Offset Removal"
   ]
  },
  {
   "cell_type": "code",
   "execution_count": 11,
   "metadata": {},
   "outputs": [],
   "source": [
    "dataWithInterferenceLOSCenterDC = dataWithInterferenceLOSCenter - np.mean(dataWithInterferenceLOSCenter)"
   ]
  },
  {
   "cell_type": "code",
   "execution_count": 12,
   "metadata": {},
   "outputs": [],
   "source": [
    "dataWithInterferenceLOSFirstQuartileDC = dataWithInterferenceLOSFirstQuartile - np.mean(dataWithInterferenceLOSFirstQuartile)"
   ]
  },
  {
   "cell_type": "code",
   "execution_count": 13,
   "metadata": {},
   "outputs": [],
   "source": [
    "dataWithInterferenceLOSThirdQuartileDC = dataWithInterferenceLOSThirdQuartile - np.mean(dataWithInterferenceLOSThirdQuartile)"
   ]
  },
  {
   "cell_type": "code",
   "execution_count": 14,
   "metadata": {},
   "outputs": [],
   "source": [
    "dataWithInterferenceNLOSLeftCenterDC = dataWithInterferenceNLOSLeftCenter - np.mean(dataWithInterferenceNLOSLeftCenter)"
   ]
  },
  {
   "cell_type": "code",
   "execution_count": 15,
   "metadata": {},
   "outputs": [],
   "source": [
    "dataWithInterferenceNLOSLeftFirstQuartileDC = dataWithInterferenceNLOSLeftFirstQuartile - np.mean(dataWithInterferenceNLOSLeftFirstQuartile)"
   ]
  },
  {
   "cell_type": "code",
   "execution_count": 16,
   "metadata": {},
   "outputs": [],
   "source": [
    "dataWithInterferenceNLOSLeftThirdQuartileDC =  dataWithInterferenceNLOSLeftThirdQuartile - np.mean(dataWithInterferenceNLOSLeftThirdQuartile)"
   ]
  },
  {
   "cell_type": "code",
   "execution_count": 18,
   "metadata": {},
   "outputs": [],
   "source": [
    "dataWithInterferenceNLOSRightCenterDC = dataWithInterferenceNLOSRightCenter - np.mean(dataWithInterferenceNLOSRightCenter)"
   ]
  },
  {
   "cell_type": "code",
   "execution_count": 17,
   "metadata": {},
   "outputs": [],
   "source": [
    "dataWithInterferenceNLOSRightFirstQuartileDC = dataWithInterferenceNLOSRightFirstQuartile - np.mean(dataWithInterferenceNLOSRightFirstQuartile)"
   ]
  },
  {
   "cell_type": "code",
   "execution_count": 19,
   "metadata": {},
   "outputs": [],
   "source": [
    "dataWithInterferenceNLOSRightThirdQuartileDC = dataWithInterferenceNLOSRightThirdQuartile - np.mean(dataWithInterferenceNLOSRightThirdQuartile)"
   ]
  },
  {
   "cell_type": "markdown",
   "metadata": {},
   "source": [
    "### Calculate Covariance"
   ]
  },
  {
   "cell_type": "code",
   "execution_count": null,
   "metadata": {},
   "outputs": [],
   "source": [
    "print(\"Covariance Matrix dataWithInterferenceLOSCenterDC:\", compute_covariance(dataWithInterferenceLOSCenterDC))\n",
    "print(\"Covariance Matrix dataWithInterferenceLOSFirstQuartileDC:\", compute_covariance(dataWithInterferenceLOSFirstQuartileDC))\n",
    "print(\"Covariance Matrix dataWithInterferenceLOSThirdQuartileDC:\", compute_covariance(dataWithInterferenceLOSThirdQuartileDC))"
   ]
  },
  {
   "cell_type": "markdown",
   "metadata": {},
   "source": [
    "### Frequency Analysis"
   ]
  },
  {
   "cell_type": "code",
   "execution_count": null,
   "metadata": {},
   "outputs": [],
   "source": [
    "fft_dataWithInterferenceLOSCenterDC = np.abs(np.fft.fft(dataWithInterferenceLOSCenterDC))\n",
    "fft_dataWithInterferenceLOSFirstQuartileDC = np.abs(np.fft.fft(dataWithInterferenceLOSFirstQuartileDC))\n",
    "\n",
    "sampling_rate = 20e6\n",
    "frequencies1 = np.fft.fftfreq(len(dataWithInterferenceLOSCenterDC), d=1/sampling_rate)\n",
    "frequencies2 = np.fft.fftfreq(len(fft_dataWithInterferenceLOSFirstQuartileDC), d=1/sampling_rate)\n",
    "\n",
    "# Compare frequency spectra\n",
    "import matplotlib.pyplot as plt\n",
    "plt.plot(frequencies1[:len(frequencies1)//2], fft_dataWithInterferenceLOSCenterDC[:len(fft_dataWithInterferenceLOSCenterDC)//2], label=\"LOS Center\")\n",
    "plt.plot(frequencies2[:len(frequencies2)//2], fft_dataWithInterferenceLOSFirstQuartileDC[:len(fft_dataWithInterferenceLOSFirstQuartileDC)//2], label=\"LOS First Quartile\")\n",
    "plt.legend()\n",
    "plt.xlabel(\"Frequency (Hz)\")\n",
    "plt.ylabel(\"Amplitude\")\n",
    "plt.title(\"Frequency Spectrum Comparison\")\n",
    "plt.show()"
   ]
  },
  {
   "cell_type": "code",
   "execution_count": null,
   "metadata": {},
   "outputs": [],
   "source": [
    "fft_dataWithInterferenceLOSCenterDC = np.abs(np.fft.fft(dataWithInterferenceLOSCenterDC))\n",
    "fft_dataWithInterferenceLOSThirdQuartileDC = np.abs(np.fft.fft(dataWithInterferenceLOSThirdQuartileDC))\n",
    "\n",
    "sampling_rate = 20e6\n",
    "frequencies1 = np.fft.fftfreq(len(dataWithInterferenceLOSCenterDC), d=1/sampling_rate)\n",
    "frequencies2 = np.fft.fftfreq(len(fft_dataWithInterferenceLOSThirdQuartileDC), d=1/sampling_rate)\n",
    "\n",
    "# Compare frequency spectra\n",
    "import matplotlib.pyplot as plt\n",
    "plt.plot(frequencies1[:len(frequencies1)//2], fft_dataWithInterferenceLOSCenterDC[:len(fft_dataWithInterferenceLOSCenterDC)//2], label=\"LOS Center\")\n",
    "plt.plot(frequencies2[:len(frequencies2)//2], fft_dataWithInterferenceLOSThirdQuartileDC[:len(fft_dataWithInterferenceLOSThirdQuartileDC)//2], label=\"LOS Third Quartile\")\n",
    "plt.legend()\n",
    "plt.xlabel(\"Frequency (Hz)\")\n",
    "plt.ylabel(\"Amplitude\")\n",
    "plt.title(\"Frequency Spectrum Comparison\")\n",
    "plt.show()"
   ]
  },
  {
   "cell_type": "markdown",
   "metadata": {},
   "source": [
    "### Calculate Two Sample T Test"
   ]
  },
  {
   "cell_type": "code",
   "execution_count": null,
   "metadata": {},
   "outputs": [],
   "source": [
    "t_statistic_without, p_value_without = compute_two_sample_ttest(dataWithOutInterference)"
   ]
  },
  {
   "cell_type": "code",
   "execution_count": null,
   "metadata": {},
   "outputs": [],
   "source": [
    "t_statistic_with_LOS_center, p_value_with_LOS_center = compute_two_sample_ttest(dataWithInterferenceLOSCenter)"
   ]
  },
  {
   "cell_type": "code",
   "execution_count": null,
   "metadata": {},
   "outputs": [],
   "source": [
    "t_statistic_walkinhTowardsReceiver, p_value_walkinhTowardsReceiver = compute_two_sample_ttest(dataWalkingTowardsReceiver)"
   ]
  },
  {
   "cell_type": "code",
   "execution_count": null,
   "metadata": {},
   "outputs": [],
   "source": [
    "t_statistic_without, p_value_without = compute_two_sample_ttest(dataWithOutInterference, dataWithInterferenceLOSCenter)"
   ]
  },
  {
   "cell_type": "code",
   "execution_count": null,
   "metadata": {},
   "outputs": [],
   "source": [
    "t_statistic_without, p_value_without = compute_two_sample_ttest(dataWithOutInterference, dataWithInterferenceLOSThirdQuartile)"
   ]
  },
  {
   "cell_type": "code",
   "execution_count": null,
   "metadata": {},
   "outputs": [],
   "source": [
    "t_statistic_without, p_value_without = compute_two_sample_ttest(dataWithOutInterference, dataWithInterferenceLOSFirstQuartile)"
   ]
  },
  {
   "cell_type": "code",
   "execution_count": null,
   "metadata": {},
   "outputs": [],
   "source": [
    "t_statistic_without, p_value_without = compute_two_sample_ttest(dataWithOutInterference, dataWithInterferenceNLOSLeftCenter)"
   ]
  },
  {
   "cell_type": "code",
   "execution_count": null,
   "metadata": {},
   "outputs": [],
   "source": [
    "t_statistic_without, p_value_without = compute_two_sample_ttest(dataWithOutInterference, dataWithInterferenceNLOSLeftThirdQuartile)"
   ]
  },
  {
   "cell_type": "code",
   "execution_count": null,
   "metadata": {},
   "outputs": [],
   "source": [
    "t_statistic_without, p_value_without = compute_two_sample_ttest(dataWithOutInterference, dataWithInterferenceNLOSLeftFirstQuartile)"
   ]
  },
  {
   "cell_type": "code",
   "execution_count": null,
   "metadata": {},
   "outputs": [],
   "source": [
    "t_statistic_without, p_value_without = compute_two_sample_ttest(dataWithOutInterference, dataWithInterferenceNLOSRightCenter)"
   ]
  },
  {
   "cell_type": "code",
   "execution_count": null,
   "metadata": {},
   "outputs": [],
   "source": [
    "t_statistic_without, p_value_without = compute_two_sample_ttest(dataWithOutInterference, dataWithInterferenceNLOSRightThirdQuartile)"
   ]
  },
  {
   "cell_type": "code",
   "execution_count": null,
   "metadata": {},
   "outputs": [],
   "source": [
    "t_statistic_without, p_value_without = compute_two_sample_ttest(dataWithOutInterference, dataWithInterferenceNLOSRightFirstQuartile)"
   ]
  },
  {
   "cell_type": "code",
   "execution_count": null,
   "metadata": {},
   "outputs": [],
   "source": [
    "t_statistic_without, p_value_without = compute_two_sample_ttest(dataWithInterferenceNLOSLeftFirstQuartile, dataWithInterferenceNLOSRightFirstQuartile)"
   ]
  },
  {
   "cell_type": "code",
   "execution_count": null,
   "metadata": {},
   "outputs": [],
   "source": [
    "t_statistic_without, p_value_without = compute_two_sample_ttest(dataWithInterferenceNLOSLeftCenter, dataWithInterferenceNLOSRightCenter)"
   ]
  },
  {
   "cell_type": "code",
   "execution_count": null,
   "metadata": {},
   "outputs": [],
   "source": [
    "t_statistic_without, p_value_without = compute_two_sample_ttest(dataWithInterferenceNLOSLeftThirdQuartile, dataWithInterferenceNLOSRightThirdQuartile)"
   ]
  },
  {
   "cell_type": "code",
   "execution_count": null,
   "metadata": {},
   "outputs": [],
   "source": [
    "t_statistic_without, p_value_without = compute_two_sample_ttest(dataWithInterferenceLOSCenter, dataWithInterferenceLOSFirstQuartile)"
   ]
  },
  {
   "cell_type": "code",
   "execution_count": null,
   "metadata": {},
   "outputs": [],
   "source": [
    "t_statistic_without, p_value_without = compute_two_sample_ttest(dataWithInterferenceLOSCenter, dataWithInterferenceLOSThirdQuartile)"
   ]
  },
  {
   "cell_type": "code",
   "execution_count": null,
   "metadata": {},
   "outputs": [],
   "source": [
    "t_statistic_without, p_value_without = compute_two_sample_ttest(dataWithInterferenceLOSCenter, dataWithInterferenceLOSFirstQuartile)"
   ]
  },
  {
   "cell_type": "code",
   "execution_count": null,
   "metadata": {},
   "outputs": [],
   "source": [
    "t_statistic_without, p_value_without = compute_two_sample_ttest(dataWithInterferenceLOSCenter, dataWithInterferenceLOSThirdQuartile)"
   ]
  },
  {
   "cell_type": "code",
   "execution_count": null,
   "metadata": {},
   "outputs": [],
   "source": [
    "t_statistic_without, p_value_without = compute_two_sample_ttest(dataWithInterferenceLOSFirstQuartile, dataWithInterferenceLOSThirdQuartile)"
   ]
  },
  {
   "cell_type": "code",
   "execution_count": null,
   "metadata": {},
   "outputs": [],
   "source": [
    "t_statistic_without, p_value_without = compute_two_sample_ttest(dataWithInterferenceLOSCenter, dataWithInterferenceNLOSLeftCenter)"
   ]
  },
  {
   "cell_type": "code",
   "execution_count": null,
   "metadata": {},
   "outputs": [],
   "source": [
    "t_statistic_without, p_value_without = compute_two_sample_ttest(dataWithInterferenceLOSCenter, dataWithInterferenceNLOSLeftFirstQuartile)"
   ]
  },
  {
   "cell_type": "code",
   "execution_count": null,
   "metadata": {},
   "outputs": [],
   "source": [
    "t_statistic_without, p_value_without = compute_two_sample_ttest(dataWithInterferenceLOSCenter, dataWithInterferenceNLOSLeftThirdQuartile)"
   ]
  },
  {
   "cell_type": "code",
   "execution_count": null,
   "metadata": {},
   "outputs": [],
   "source": [
    "t_statistic_without, p_value_without = compute_two_sample_ttest(dataWithInterferenceLOSFirstQuartile, dataWithInterferenceNLOSLeftCenter)"
   ]
  },
  {
   "cell_type": "code",
   "execution_count": null,
   "metadata": {},
   "outputs": [],
   "source": [
    "t_statistic_without, p_value_without = compute_two_sample_ttest(dataWithInterferenceLOSFirstQuartile, dataWithInterferenceNLOSLeftFirstQuartile)"
   ]
  },
  {
   "cell_type": "code",
   "execution_count": null,
   "metadata": {},
   "outputs": [],
   "source": [
    "t_statistic_without, p_value_without = compute_two_sample_ttest(dataWithInterferenceLOSFirstQuartile, dataWithInterferenceNLOSLeftThirdQuartile)"
   ]
  },
  {
   "cell_type": "code",
   "execution_count": null,
   "metadata": {},
   "outputs": [],
   "source": [
    "t_statistic_without, p_value_without = compute_two_sample_ttest(dataWithInterferenceLOSThirdQuartile, dataWithInterferenceNLOSLeftCenter)"
   ]
  },
  {
   "cell_type": "code",
   "execution_count": null,
   "metadata": {},
   "outputs": [],
   "source": [
    "t_statistic_without, p_value_without = compute_two_sample_ttest(dataWithInterferenceLOSThirdQuartile, dataWithInterferenceNLOSLeftFirstQuartile)"
   ]
  },
  {
   "cell_type": "code",
   "execution_count": null,
   "metadata": {},
   "outputs": [],
   "source": [
    "t_statistic_without, p_value_without = compute_two_sample_ttest(dataWithInterferenceLOSThirdQuartile, dataWithInterferenceNLOSLeftThirdQuartile)"
   ]
  },
  {
   "cell_type": "code",
   "execution_count": null,
   "metadata": {},
   "outputs": [],
   "source": [
    "t_statistic_without, p_value_without = compute_two_sample_ttest(dataWithInterferenceNLOSLeftCenter, dataWithInterferenceNLOSLeftThirdQuartile)"
   ]
  },
  {
   "cell_type": "code",
   "execution_count": null,
   "metadata": {},
   "outputs": [],
   "source": [
    "t_statistic_without, p_value_without = compute_two_sample_ttest(dataWithInterferenceNLOSLeftCenter, dataWithInterferenceNLOSLeftFirstQuartile)"
   ]
  },
  {
   "cell_type": "code",
   "execution_count": null,
   "metadata": {},
   "outputs": [],
   "source": [
    "t_statistic_without, p_value_without = compute_two_sample_ttest(dataWithInterferenceNLOSLeftFirstQuartile, dataWithInterferenceNLOSLeftThirdQuartile)"
   ]
  },
  {
   "cell_type": "code",
   "execution_count": null,
   "metadata": {},
   "outputs": [],
   "source": [
    "t_statistic_without, p_value_without = compute_two_sample_ttest(dataWithInterferenceLOSCenter, dataWithInterferenceNLOSRightFirstQuartile)"
   ]
  },
  {
   "cell_type": "code",
   "execution_count": null,
   "metadata": {},
   "outputs": [],
   "source": [
    "t_statistic_without, p_value_without = compute_two_sample_ttest(dataWithInterferenceLOSCenter, dataWithInterferenceNLOSRightThirdQuartile)"
   ]
  },
  {
   "cell_type": "code",
   "execution_count": null,
   "metadata": {},
   "outputs": [],
   "source": [
    "t_statistic_without, p_value_without = compute_two_sample_ttest(dataWithInterferenceLOSCenter, dataWithInterferenceNLOSRightCenter)"
   ]
  },
  {
   "cell_type": "code",
   "execution_count": null,
   "metadata": {},
   "outputs": [],
   "source": [
    "t_statistic_without, p_value_without = compute_two_sample_ttest(dataWithInterferenceLOSFirstQuartile, dataWithInterferenceNLOSRightFirstQuartile)"
   ]
  },
  {
   "cell_type": "code",
   "execution_count": null,
   "metadata": {},
   "outputs": [],
   "source": [
    "t_statistic_without, p_value_without = compute_two_sample_ttest(dataWithInterferenceLOSFirstQuartile, dataWithInterferenceNLOSRightThirdQuartile)"
   ]
  },
  {
   "cell_type": "code",
   "execution_count": null,
   "metadata": {},
   "outputs": [],
   "source": [
    "t_statistic_without, p_value_without = compute_two_sample_ttest(dataWithInterferenceLOSFirstQuartile, dataWithInterferenceNLOSRightCenter)"
   ]
  },
  {
   "cell_type": "code",
   "execution_count": null,
   "metadata": {},
   "outputs": [],
   "source": [
    "t_statistic_without, p_value_without = compute_two_sample_ttest(dataWithInterferenceLOSThirdQuartile, dataWithInterferenceNLOSRightFirstQuartile)"
   ]
  },
  {
   "cell_type": "code",
   "execution_count": null,
   "metadata": {},
   "outputs": [],
   "source": [
    "t_statistic_without, p_value_without = compute_two_sample_ttest(dataWithInterferenceLOSThirdQuartile, dataWithInterferenceNLOSRightThirdQuartile)"
   ]
  },
  {
   "cell_type": "code",
   "execution_count": null,
   "metadata": {},
   "outputs": [],
   "source": [
    "t_statistic_without, p_value_without = compute_two_sample_ttest(dataWithInterferenceLOSThirdQuartile, dataWithInterferenceNLOSRightCenter)"
   ]
  },
  {
   "cell_type": "code",
   "execution_count": null,
   "metadata": {},
   "outputs": [],
   "source": [
    "t_statistic_without, p_value_without = compute_two_sample_ttest(dataWithInterferenceNLOSRightCenter, dataWithInterferenceNLOSRightThirdQuartile)"
   ]
  },
  {
   "cell_type": "code",
   "execution_count": null,
   "metadata": {},
   "outputs": [],
   "source": [
    "t_statistic_without, p_value_without = compute_two_sample_ttest(dataWithInterferenceNLOSRightCenter, dataWithInterferenceNLOSRightFirstQuartile)"
   ]
  },
  {
   "cell_type": "code",
   "execution_count": null,
   "metadata": {},
   "outputs": [],
   "source": [
    "t_statistic_without, p_value_without = compute_two_sample_ttest(dataWithInterferenceNLOSRightFirstQuartile, dataWithInterferenceNLOSRightThirdQuartile)"
   ]
  },
  {
   "cell_type": "code",
   "execution_count": null,
   "metadata": {},
   "outputs": [],
   "source": [
    "t_statistic_without, p_value_without = compute_two_sample_ttest(dataWithInterferenceNLOSLeftCenter, dataWithInterferenceNLOSRightThirdQuartile)"
   ]
  },
  {
   "cell_type": "code",
   "execution_count": null,
   "metadata": {},
   "outputs": [],
   "source": [
    "t_statistic_without, p_value_without = compute_two_sample_ttest(dataWithInterferenceNLOSLeftCenter, dataWithInterferenceNLOSRightFirstQuartile)"
   ]
  },
  {
   "cell_type": "code",
   "execution_count": null,
   "metadata": {},
   "outputs": [],
   "source": [
    "t_statistic_without, p_value_without = compute_two_sample_ttest(dataWithInterferenceNLOSLeftFirstQuartile, dataWithInterferenceNLOSRightThirdQuartile)"
   ]
  },
  {
   "cell_type": "code",
   "execution_count": null,
   "metadata": {},
   "outputs": [],
   "source": [
    "t_statistic_without, p_value_without = compute_two_sample_ttest(dataWithInterferenceNLOSLeftFirstQuartile, dataWithInterferenceNLOSRightCenter)"
   ]
  },
  {
   "cell_type": "code",
   "execution_count": null,
   "metadata": {},
   "outputs": [],
   "source": [
    "t_statistic_without, p_value_without = compute_two_sample_ttest(dataWithInterferenceNLOSLeftThirdQuartile, dataWithInterferenceNLOSRightCenter)"
   ]
  },
  {
   "cell_type": "code",
   "execution_count": null,
   "metadata": {},
   "outputs": [],
   "source": [
    "t_statistic_without, p_value_without = compute_two_sample_ttest(dataWithInterferenceNLOSLeftThirdQuartile, dataWithInterferenceNLOSRightFirstQuartile)"
   ]
  },
  {
   "cell_type": "code",
   "execution_count": null,
   "metadata": {},
   "outputs": [],
   "source": [
    "t_statistic_without, p_value_without = compute_two_sample_ttest(dataWithInterferenceNLOSLeftThirdQuartile, dataWithInterferenceNLOSLeftThirdQuartile)"
   ]
  },
  {
   "cell_type": "markdown",
   "metadata": {},
   "source": [
    "### Plot SNR"
   ]
  },
  {
   "cell_type": "code",
   "execution_count": null,
   "metadata": {},
   "outputs": [],
   "source": [
    "snr_values = calculate_snr_mean_std_windowed(dataWithOutInterference, dataWithOutInterference, window_length=100)\n",
    "snr_values_without = calculate_snr_mean_std_windowed(dataWithInterferenceLOSCenter, dataWithInterferenceLOSCenter, window_length=100)\n",
    "\n",
    "plt.plot(snr_values_without, color='blue')\n",
    "# plt.plot(snr_values, color='red', label='SNR with noise reduction')\n",
    "plt.xlabel('Window Index')\n",
    "plt.ylabel('SNR (dB)')\n",
    "plt.title('SNR over Time')\n",
    "plt.show()"
   ]
  },
  {
   "cell_type": "code",
   "execution_count": null,
   "metadata": {},
   "outputs": [],
   "source": [
    "# plt.plot(snr_values_without, color='blue', label='SNR without noise reduction')\n",
    "plt.plot(snr_values, color='red')\n",
    "plt.xlabel('Window Index')\n",
    "plt.ylabel('SNR (dB)')\n",
    "plt.title('SNR over Time')\n",
    "plt.show()"
   ]
  },
  {
   "cell_type": "code",
   "execution_count": null,
   "metadata": {},
   "outputs": [],
   "source": [
    "plt.plot(snr_values_without, color='blue')\n",
    "plt.plot(snr_values, color='red')\n",
    "plt.xlabel('Window Index')\n",
    "plt.ylabel('SNR (dB)')\n",
    "plt.title('SNR over Time')\n",
    "plt.show()"
   ]
  },
  {
   "cell_type": "markdown",
   "metadata": {},
   "source": [
    "### Plot RSSI"
   ]
  },
  {
   "cell_type": "code",
   "execution_count": null,
   "metadata": {},
   "outputs": [],
   "source": [
    "sample_rate = 20e6\n",
    "plot_rssi_vs_time_2(dataWithOutInterference, dataWithInterferenceLOSCenter, sample_rate)"
   ]
  },
  {
   "cell_type": "code",
   "execution_count": null,
   "metadata": {},
   "outputs": [],
   "source": [
    "sample_rate = 20e6\n",
    "plot_rssi_vs_time_2(dataWithInterferenceLOSCenter, dataWithOutInterference,sample_rate)"
   ]
  },
  {
   "cell_type": "code",
   "execution_count": null,
   "metadata": {},
   "outputs": [],
   "source": [
    "sample_rate = 20e6\n",
    "plot_rssi_vs_time_2(dataWithInterferenceLOSCenter, dataWithInterferenceLOSFirstQuartile, sample_rate)"
   ]
  },
  {
   "cell_type": "code",
   "execution_count": null,
   "metadata": {},
   "outputs": [],
   "source": [
    "sample_rate = 20e6\n",
    "plot_rssi_vs_time_2(dataWithInterferenceLOSCenter, dataWithInterferenceLOSThirdQuartile, sample_rate)"
   ]
  },
  {
   "cell_type": "markdown",
   "metadata": {},
   "source": [
    "### Plot I/Q ( in-phase and quadrature)"
   ]
  },
  {
   "cell_type": "code",
   "execution_count": null,
   "metadata": {},
   "outputs": [],
   "source": [
    "plt.figure(figsize=(12, 6))\n",
    "\n",
    "plt.subplot(2, 1, 1)\n",
    "plt.plot(np.real(dataWithOutInterference), label='Real Part (I)', color='blue')\n",
    "plt.title('In-phase (I) Component')\n",
    "plt.xlabel('Sample Number')\n",
    "plt.ylabel('Amplitude')\n",
    "plt.legend()\n",
    "\n",
    "plt.subplot(2, 1, 2)\n",
    "plt.plot(np.imag(dataWithOutInterference), label='Imaginary Part (Q)', color='red')\n",
    "plt.title('Quadrature (Q) Component')\n",
    "plt.xlabel('Sample Number')\n",
    "plt.ylabel('Amplitude')\n",
    "plt.legend()\n",
    "\n",
    "plt.tight_layout()\n",
    "plt.show()"
   ]
  },
  {
   "cell_type": "code",
   "execution_count": null,
   "metadata": {},
   "outputs": [],
   "source": [
    "plt.figure(figsize=(12, 6))\n",
    "\n",
    "plt.subplot(2, 1, 1)\n",
    "plt.plot(np.real(dataWithInterferenceLOSCenter), label='Real Part (I)', color='blue')\n",
    "plt.title('In-phase (I) Component')\n",
    "plt.xlabel('Sample Number')\n",
    "plt.ylabel('Amplitude')\n",
    "plt.legend()\n",
    "\n",
    "plt.subplot(2, 1, 2)\n",
    "plt.plot(np.imag(dataWithInterferenceLOSCenter), label='Imaginary Part (Q)', color='red')\n",
    "plt.title('Quadrature (Q) Component')\n",
    "plt.xlabel('Sample Number')\n",
    "plt.ylabel('Amplitude')\n",
    "plt.legend()\n",
    "\n",
    "plt.tight_layout()\n",
    "plt.show()"
   ]
  },
  {
   "cell_type": "markdown",
   "metadata": {},
   "source": [
    "### Plot IQ Magnitude vs Time"
   ]
  },
  {
   "cell_type": "code",
   "execution_count": null,
   "metadata": {},
   "outputs": [],
   "source": [
    "plot_IQ_magnitude(dataWithOutInterference)"
   ]
  },
  {
   "cell_type": "code",
   "execution_count": null,
   "metadata": {},
   "outputs": [],
   "source": [
    "plot_IQ_magnitude(dataWithInterferenceLOSCenter)"
   ]
  },
  {
   "cell_type": "code",
   "execution_count": null,
   "metadata": {},
   "outputs": [],
   "source": [
    "plot_IQ_magnitude_2(dataWithInterferenceLOSCenter, dataWithOutInterference)"
   ]
  },
  {
   "cell_type": "code",
   "execution_count": null,
   "metadata": {},
   "outputs": [],
   "source": [
    "plot_IQ_magnitude_2(dataWithInterferenceLOSCenter, dataWithInterferenceLOSFirstQuartile)"
   ]
  },
  {
   "cell_type": "code",
   "execution_count": null,
   "metadata": {},
   "outputs": [],
   "source": [
    "plot_IQ_magnitude_2(dataWithInterferenceLOSCenter, dataWithInterferenceLOSThirdQuartile)"
   ]
  },
  {
   "cell_type": "markdown",
   "metadata": {},
   "source": [
    "### Plot IQ Angle vs Time"
   ]
  },
  {
   "cell_type": "code",
   "execution_count": null,
   "metadata": {},
   "outputs": [],
   "source": [
    "plot_IQ_Angle(dataWithOutInterference)"
   ]
  },
  {
   "cell_type": "code",
   "execution_count": null,
   "metadata": {},
   "outputs": [],
   "source": [
    "plot_IQ_Angle(dataWithInterferenceLOSCenter)"
   ]
  },
  {
   "cell_type": "code",
   "execution_count": null,
   "metadata": {},
   "outputs": [],
   "source": [
    "plot_IQ_Angle(dataWithInterferenceLOSFirstQuartile)"
   ]
  },
  {
   "cell_type": "code",
   "execution_count": null,
   "metadata": {},
   "outputs": [],
   "source": [
    "plot_IQ_Angle_2(dataWithOutInterference, dataWithInterferenceLOSCenter)"
   ]
  },
  {
   "cell_type": "code",
   "execution_count": null,
   "metadata": {},
   "outputs": [],
   "source": [
    "plot_IQ_Angle_2(dataWithInterferenceLOSCenter, dataWithOutInterference)"
   ]
  },
  {
   "cell_type": "markdown",
   "metadata": {},
   "source": [
    "### Plot I vs Q"
   ]
  },
  {
   "cell_type": "code",
   "execution_count": null,
   "metadata": {},
   "outputs": [],
   "source": [
    "plot_I_vs_Q(dataWithOutInterference)"
   ]
  },
  {
   "cell_type": "code",
   "execution_count": null,
   "metadata": {},
   "outputs": [],
   "source": [
    "plot_I_vs_Q(dataWithInterferenceLOSCenter)"
   ]
  },
  {
   "cell_type": "code",
   "execution_count": 7,
   "metadata": {},
   "outputs": [
    {
     "data": {
      "image/png": "[encoded data removed]",
      "text/plain": [
       "<Figure size 800x800 with 1 Axes>"
      ]
     },
     "metadata": {},
     "output_type": "display_data"
    }
   ],
   "source": [
    "plot_I_vs_Q_2(dataWithOutInterference, dataWithInterferenceLOSCenter)"
   ]
  },
  {
   "cell_type": "code",
   "execution_count": null,
   "metadata": {},
   "outputs": [],
   "source": [
    "plot_I_vs_Q_2(dataWithInterferenceLOSFirstQuartile, dataWithInterferenceLOSCenter)"
   ]
  },
  {
   "cell_type": "code",
   "execution_count": null,
   "metadata": {},
   "outputs": [],
   "source": [
    "plot_I_vs_Q_2(dataWithInterferenceLOSCenter, dataWithInterferenceLOSFirstQuartile)"
   ]
  },
  {
   "cell_type": "markdown",
   "metadata": {},
   "source": [
    "### Plot FFT"
   ]
  },
  {
   "cell_type": "code",
   "execution_count": null,
   "metadata": {},
   "outputs": [],
   "source": [
    "plot_fft(dataWithInterferenceLOSCenter)"
   ]
  },
  {
   "cell_type": "code",
   "execution_count": null,
   "metadata": {},
   "outputs": [],
   "source": [
    "plot_fft(dataWithInterferenceLOSCenterDC)"
   ]
  },
  {
   "cell_type": "markdown",
   "metadata": {},
   "source": [
    "### Calculate FFT"
   ]
  },
  {
   "cell_type": "code",
   "execution_count": null,
   "metadata": {},
   "outputs": [],
   "source": [
    "print(calculate_fft(dataWithInterferenceLOSCenter))"
   ]
  },
  {
   "cell_type": "code",
   "execution_count": null,
   "metadata": {},
   "outputs": [],
   "source": [
    "print(calculate_fft(dataWithInterferenceLOSCenterDC))"
   ]
  },
  {
   "cell_type": "code",
   "execution_count": 23,
   "metadata": {},
   "outputs": [],
   "source": [
    "dataWithInterferenceLOSCenterFFT = calculate_fft(dataWithInterferenceLOSCenterDC)\n",
    "dataWithInterferenceLOSFirstQuartileFFT = calculate_fft(dataWithInterferenceLOSFirstQuartileDC)\n",
    "dataWithInterferenceLOSThirdQuartileFFT = calculate_fft(dataWithInterferenceLOSThirdQuartileDC)\n",
    "dataWithInterferenceNLOSLeftCenterFFT = calculate_fft(dataWithInterferenceNLOSLeftCenterDC)\n",
    "dataWithInterferenceNLOSLeftFirstQuartileFFT = calculate_fft(dataWithInterferenceNLOSLeftFirstQuartileDC)\n",
    "dataWithInterferenceNLOSLeftThirdQuartileFFT = calculate_fft(dataWithInterferenceNLOSLeftThirdQuartileDC)\n",
    "dataWithInterferenceNLOSRightCenterFFT = calculate_fft(dataWithInterferenceNLOSRightCenterDC)\n",
    "dataWithInterferenceNLOSRightFirstQuartileFFT = calculate_fft(dataWithInterferenceNLOSRightFirstQuartileDC)\n",
    "dataWithInterferenceNLOSRightThirdQuartileFFT = calculate_fft(dataWithInterferenceNLOSRightThirdQuartileDC)"
   ]
  },
  {
   "cell_type": "markdown",
   "metadata": {},
   "source": [
    "### Absolute of Complex IQ data Plot"
   ]
  },
  {
   "cell_type": "code",
   "execution_count": null,
   "metadata": {},
   "outputs": [],
   "source": [
    "# combined = I + 1j * Q\n",
    "plt.plot(np.abs(dataWithOutInterference))\n",
    "plt.show()"
   ]
  },
  {
   "cell_type": "code",
   "execution_count": null,
   "metadata": {},
   "outputs": [],
   "source": [
    "plt.plot(np.abs(dataWithInterferenceLOSCenter))\n",
    "plt.show()"
   ]
  },
  {
   "cell_type": "markdown",
   "metadata": {},
   "source": [
    "### Plotting Power Spectral Density (PSD)"
   ]
  },
  {
   "cell_type": "code",
   "execution_count": null,
   "metadata": {
    "scrolled": true
   },
   "outputs": [],
   "source": [
    "fig = plt.figure()\n",
    "plt.psd(dataWithOutInterference, NFFT=2048, Fc=435e6, Fs=20e6)\n",
    "#plt.xlim(4326, 434e6)\n",
    "plt.show()"
   ]
  },
  {
   "cell_type": "code",
   "execution_count": null,
   "metadata": {},
   "outputs": [],
   "source": [
    "fig = plt.figure()\n",
    "plt.psd(dataWithInterferenceLOSCenter, NFFT=2048, Fc=435e6, Fs=20e6)\n",
    "#plt.xlim(432e6, 434e6)\n",
    "plt.show()"
   ]
  },
  {
   "cell_type": "code",
   "execution_count": null,
   "metadata": {},
   "outputs": [],
   "source": [
    "fig = plt.figure()\n",
    "plt.psd(dataWithInterferenceLOSFirstQuartile, NFFT=2048, Fc=435e6, Fs=20e6)\n",
    "#plt.xlim(432e6, 434e6)\n",
    "plt.show()"
   ]
  },
  {
   "cell_type": "code",
   "execution_count": null,
   "metadata": {},
   "outputs": [],
   "source": [
    "fig = plt.figure()\n",
    "plt.psd(dataWithInterferenceLOSThirdQuartile, NFFT=2048, Fc=435e6, Fs=20e6)\n",
    "#plt.xlim(432e6, 434e6)\n",
    "plt.show()"
   ]
  },
  {
   "cell_type": "markdown",
   "metadata": {},
   "source": [
    "### Plotting Spectrogram"
   ]
  },
  {
   "cell_type": "code",
   "execution_count": null,
   "metadata": {},
   "outputs": [],
   "source": [
    "fig = plt.figure()\n",
    "pxx, freq, t, cax = plt.specgram(dataWithOutInterference, NFFT=1024, Fs=20e6, Fc=435e6, mode='magnitude')\n",
    "fig.colorbar(cax).set_label('Intensity [dB]')\n",
    "plt.xlabel(\"Time (s)\")\n",
    "plt.ylabel(\"Frequency (Hz)\")\n",
    "plt.ylim(432e6, 434e6)\n",
    "plt.show()"
   ]
  },
  {
   "cell_type": "code",
   "execution_count": null,
   "metadata": {},
   "outputs": [],
   "source": [
    "fig = plt.figure()\n",
    "pxx, freq, t, cax = plt.specgram(dataWithInterferenceLOSCenter, NFFT=1024, Fs=20e6, Fc=435e6, mode='magnitude')\n",
    "fig.colorbar(cax).set_label('Intensity [dB]')\n",
    "plt.xlabel(\"Time (s)\")\n",
    "plt.ylabel(\"Frequency (Hz)\")\n",
    "plt.ylim(432.75e6, 433.5e6)\n",
    "plt.show()"
   ]
  },
  {
   "cell_type": "code",
   "execution_count": null,
   "metadata": {},
   "outputs": [],
   "source": [
    "fig = plt.figure()\n",
    "pxx, freq, t, cax = plt.specgram(dataWithInterferenceLOSFirstQuartile, NFFT=1024, Fs=20e6, Fc=435e6, mode='magnitude')\n",
    "fig.colorbar(cax).set_label('Intensity [dB]')\n",
    "plt.xlabel(\"Time (s)\")\n",
    "plt.ylabel(\"Frequency (Hz)\")\n",
    "plt.ylim(432.75e6, 433.5e6)"
   ]
  },
  {
   "cell_type": "markdown",
   "metadata": {},
   "source": [
    "### Statistical Values for Locations"
   ]
  },
  {
   "cell_type": "markdown",
   "metadata": {},
   "source": [
    "#### LOS"
   ]
  },
  {
   "cell_type": "code",
   "execution_count": null,
   "metadata": {},
   "outputs": [],
   "source": [
    "#LOS Center\n",
    "LOS_Center_rssi = calculate_rssi(dataWithInterferenceLOSCenterDC)\n",
    "LOS_Center_magnitude = calculate_IQMagnitude(dataWithInterferenceLOSCenterDC)\n",
    "LOS_Center_phase = calculate_IQ_Angle(dataWithInterferenceLOSCenterDC)\n",
    "LOS_Center_cov = compute_covariance(dataWithInterferenceLOSCenterDC)\n",
    "LOS_Center_mode = stats.mode(dataWithInterferenceLOSCenterDC)\n",
    "LOS_Center_skewness = stats.skew(dataWithInterferenceLOSCenterDC)\n",
    "LOS_Center_kurtosis = stats.kurtosis(dataWithInterferenceLOSCenterDC)\n",
    "LOS_Center_correlation_coefficient = np.corrcoef(dataWithInterferenceLOSCenterDC, dataWithInterferenceLOSCenterDC)[0, 1]\n",
    "LOS_Center_z_scores = stats.zscore(dataWithInterferenceLOSCenterDC)\n",
    "\n",
    "# LOS_Center_q1 = np.percentile(dataWithInterferenceLOSCenterDC, 25)\n",
    "# LOS_Center_q3 = np.percentile(dataWithInterferenceLOSCenterDC, 75)\n",
    "# LOS_Center_iqr = LOS_Center_q3 - LOS_Center_q1\n",
    "# LOS_Center_percentiles = np.percentile(dataWithInterferenceLOSCenterDC, [10, 25, 50, 75, 90])\n",
    "\n",
    "LOS_Center_correlation_coefficient_withmag = np.corrcoef(LOS_Center_magnitude, LOS_Center_magnitude)\n",
    "\n",
    "print(\"LOS Center RSSI:\", LOS_Center_rssi)\n",
    "print(\"LOS Center Magnitude:\", LOS_Center_magnitude)\n",
    "print(\"LOS Center Phase:\", LOS_Center_phase)\n",
    "print(\"LOS Center Amplitude:\", LOS_Center_amplitude)\n",
    "print(\"LOS Center Covariance:\", LOS_Center_cov)\n",
    "print(\"LOS Center Mode:\", LOS_Center_mode)\n",
    "print(\"LOS Center Skewness:\", LOS_Center_skewness)\n",
    "print(\"LOS Center Kurtosis:\", LOS_Center_kurtosis)\n",
    "print(\"LOS Center Correlation Coefficient:\", LOS_Center_correlation_coefficient)\n",
    "print(\"LOS Center Z-scores:\", LOS_Center_z_scores)\n",
    "\n",
    "print(\"LOS Center Correlation Coefficient:\", LOS_Center_correlation_coefficient_withmag)\n",
    "\n",
    "\n",
    "#Used for the statistical vector\n",
    "\n",
    "LOS_Center_magnitude = calculate_IQMagnitude(dataWithInterferenceLOSCenterDC)\n",
    "LOS_Center_mean = np.mean(dataWithInterferenceLOSCenterDC)\n",
    "LOS_Center_var = np.var(dataWithInterferenceLOSCenterDC)\n",
    "LOS_Center_median = np.median(dataWithInterferenceLOSCenterDC)\n",
    "LOS_Center_std_dev = np.std(dataWithInterferenceLOSCenterDC)\n",
    "LOS_Center_min = np.min(dataWithInterferenceLOSCenterDC)\n",
    "LOS_Center_max = np.max(dataWithInterferenceLOSCenterDC)\n",
    "LOS_Center_range = LOS_Center_max - LOS_Center_min\n",
    "LOS_Center_mad = np.mean(np.abs(dataWithInterferenceLOSCenterDC - LOS_Center_mean))\n",
    "LOS_Center_coefficient_of_variance = LOS_Center_std_dev / LOS_Center_mean if LOS_Center_mean != 0 else np.nan\n",
    "\n",
    "\n",
    "LOS_Center_mean_withmag = np.mean(LOS_Center_magnitude)\n",
    "LOS_Center_var_withmag = np.var(LOS_Center_magnitude)\n",
    "LOS_Center_median_withmag = np.median(LOS_Center_magnitude)\n",
    "LOS_Center_std_dev_withmag = np.std(LOS_Center_magnitude)\n",
    "LOS_Center_min_withmag = np.min(LOS_Center_magnitude)\n",
    "LOS_Center_max_withmag = np.max(LOS_Center_magnitude)\n",
    "LOS_Center_range_withmag = LOS_Center_max_withmag - LOS_Center_min_withmag\n",
    "LOS_Center_mad_withmag = np.mean(np.abs(LOS_Center_magnitude - LOS_Center_mean_withmag))\n",
    "LOS_Center_coefficient_of_variance_withmag = LOS_Center_std_dev_withmag / LOS_Center_mean_withmag if LOS_Center_mean_withmag != 0 else np.nan\n",
    "\n",
    "\n",
    "LOS_Center_skewness_withmag = stats.skew(LOS_Center_magnitude)\n",
    "LOS_Center_kurtosis_withmag = stats.kurtosis(LOS_Center_magnitude)\n",
    "LOS_Center_q1_withmag = np.percentile(LOS_Center_magnitude, 25)\n",
    "LOS_Center_q3_withmag = np.percentile(LOS_Center_magnitude, 75)\n",
    "LOS_Center_iqr_withmag = LOS_Center_q3_withmag - LOS_Center_q1_withmag\n",
    "LOS_Center_percentiles_withmag = np.percentile(LOS_Center_magnitude, [10, 25, 50, 75, 90])\n",
    "\n",
    "\n",
    "LOS_Center_mean_FFT = np.mean(dataWithInterferenceLOSCenterFFT)\n",
    "LOS_Center_var_FFT = np.var(dataWithInterferenceLOSCenterFFT)\n",
    "LOS_Center_median_FFT = np.median(dataWithInterferenceLOSCenterFFT)\n",
    "LOS_Center_std_dev_FFT = np.std(dataWithInterferenceLOSCenterFFT)\n",
    "LOS_Center_min_FFT = np.min(dataWithInterferenceLOSCenterFFT)\n",
    "LOS_Center_max_FFT = np.max(dataWithInterferenceLOSCenterFFT)\n",
    "LOS_Center_range_FFT = LOS_Center_max_FFT - LOS_Center_min_FFT\n",
    "LOS_Center_mad_FFT = np.mean(np.abs(dataWithInterferenceLOSCenterFFT - LOS_Center_mean_FFT))\n",
    "LOS_Center_coefficient_of_variance_FFT = LOS_Center_std_dev_FFT / LOS_Center_mean_FFT if LOS_Center_mean_FFT != 0 else np.nan\n",
    "LOS_Center_skewness_FFT = stats.skew(dataWithInterferenceLOSCenterFFT)\n",
    "LOS_Center_kurtosis_FFT = stats.kurtosis(dataWithInterferenceLOSCenterFFT)\n",
    "# LOS_Center_q1_FFT = np.percentile(dataWithInterferenceLOSCenterFFT, 25)\n",
    "# LOS_Center_q3_FFT = np.percentile(dataWithInterferenceLOSCenterFFT, 75)\n",
    "# LOS_Center_iqr_FFT = LOS_Center_q3_FFT - LOS_Center_q1_FFT\n",
    "# LOS_Center_percentiles_FFT = np.percentile(dataWithInterferenceLOSCenterFFT, [10, 25, 50, 75, 90])\n",
    "\n",
    "\n",
    "\n",
    "print(\"LOS Center Mean:\", LOS_Center_mean)\n",
    "print(\"LOS Center Variance:\", LOS_Center_var)\n",
    "print(\"LOS Center Median:\", LOS_Center_median)\n",
    "print(\"LOS Center Standard Deviation:\", LOS_Center_std_dev)\n",
    "print(\"LOS Center Min:\", LOS_Center_min)\n",
    "print(\"LOS Center Max:\", LOS_Center_max)\n",
    "print(\"LOS Center Range:\", LOS_Center_range)\n",
    "print(\"LOS Center MAD:\", LOS_Center_mad)\n",
    "print(\"LOS Center Coefficient of Variance:\", LOS_Center_coefficient_of_variance)\n",
    "\n",
    "\n",
    "print(\"\\n\\n\")\n",
    "print(\"Magnitude\\n\")\n",
    "print(\"LOS Center Mean:\", LOS_Center_mean_withmag)\n",
    "print(\"LOS Center Variance:\", LOS_Center_var_withmag)\n",
    "print(\"LOS Center Median:\", LOS_Center_median_withmag)\n",
    "print(\"LOS Center Standard Deviation:\", LOS_Center_std_dev_withmag)\n",
    "print(\"LOS Center Min:\", LOS_Center_min_withmag)\n",
    "print(\"LOS Center Max:\", LOS_Center_max_withmag)\n",
    "print(\"LOS Center Range:\", LOS_Center_range_withmag)\n",
    "print(\"LOS Center MAD:\", LOS_Center_mad_withmag)\n",
    "print(\"LOS Center Coefficient of Variance:\", LOS_Center_coefficient_of_variance_withmag)\n",
    "\n",
    "print(\"\\n\\n\")\n",
    "print(\"LOS Center Q1:\", LOS_Center_q1_withmag)\n",
    "print(\"LOS Center Q3:\", LOS_Center_q3_withmag)\n",
    "print(\"LOS Center IQR:\", LOS_Center_iqr_withmag)\n",
    "print(\"LOS Center Percentiles (10th, 25th, 50th, 75th, 90th):\", LOS_Center_percentiles_withmag)\n",
    "print(\"LOS Center Skewness:\", LOS_Center_skewness_withmag)\n",
    "print(\"LOS Center Kurtosis:\", LOS_Center_kurtosis_withmag)\n",
    "\n",
    "print(\"\\n\\n\")\n",
    "print(\"FFT\\n\")\n",
    "print(\"LOS Center Mean:\", LOS_Center_mean_FFT)\n",
    "print(\"LOS Center Variance:\", LOS_Center_var_FFT)\n",
    "print(\"LOS Center Median:\", LOS_Center_median_FFT)\n",
    "print(\"LOS Center Standard Deviation:\", LOS_Center_std_dev_FFT)\n",
    "print(\"LOS Center Min:\", LOS_Center_min_FFT)\n",
    "print(\"LOS Center Max:\", LOS_Center_max_FFT)\n",
    "print(\"LOS Center Range:\", LOS_Center_range_FFT)\n",
    "print(\"LOS Center MAD:\", LOS_Center_mad_FFT)\n",
    "print(\"LOS Center Coefficient of Variance:\", LOS_Center_coefficient_of_variance_FFT)\n",
    "# print(\"LOS Center Q1:\", LOS_Center_q1_FFT)\n",
    "# print(\"LOS Center Q3:\", LOS_Center_q3_FFT)\n",
    "# print(\"LOS Center IQR:\", LOS_Center_iqr_FFT)\n",
    "# print(\"LOS Center Percentiles (10th, 25th, 50th, 75th, 90th):\", LOS_Center_percentiles_FFT)\n",
    "print(\"LOS Center Skewness:\", LOS_Center_skewness_FFT)\n",
    "print(\"LOS Center Kurtosis:\", LOS_Center_kurtosis_FFT)\n",
    "\n",
    "\n"
   ]
  },
  {
   "cell_type": "code",
   "execution_count": 20,
   "metadata": {},
   "outputs": [],
   "source": [
    "LOS_Center_amplitude = np.abs(dataWithInterferenceLOSCenterDC)\n",
    "LOS_Center_angle = np.angle(dataWithInterferenceLOSCenterDC)"
   ]
  },
  {
   "cell_type": "code",
   "execution_count": null,
   "metadata": {},
   "outputs": [],
   "source": [
    "LOS_Center_vector = np.array([\n",
    "    LOS_Center_mean,\n",
    "    LOS_Center_var,\n",
    "    LOS_Center_median,\n",
    "    LOS_Center_std_dev,\n",
    "    LOS_Center_min,\n",
    "    LOS_Center_max,\n",
    "    LOS_Center_range,\n",
    "    LOS_Center_mad,\n",
    "    LOS_Center_coefficient_of_variance,\n",
    "    LOS_Center_skewness_withmag,\n",
    "    LOS_Center_kurtosis_withmag,\n",
    "    LOS_Center_q1_withmag,\n",
    "    LOS_Center_q3_withmag,\n",
    "    LOS_Center_iqr_withmag,\n",
    "    *LOS_Center_percentiles_withmag  # Unpack percentiles into the vector\n",
    "])\n",
    "\n",
    "\n",
    "\n",
    "# Print the vector\n",
    "print(\"LOS Center Vector:\", LOS_Center_vector)\n"
   ]
  },
  {
   "cell_type": "code",
   "execution_count": null,
   "metadata": {},
   "outputs": [],
   "source": [
    "LOS_Center_vector_withmag = np.array([\n",
    "    LOS_Center_mean_withmag,\n",
    "    LOS_Center_var_withmag,\n",
    "    LOS_Center_median_withmag,\n",
    "    LOS_Center_std_dev_withmag,\n",
    "    LOS_Center_min_withmag,\n",
    "    LOS_Center_max_withmag,\n",
    "    LOS_Center_range_withmag,\n",
    "    LOS_Center_mad_withmag,\n",
    "    LOS_Center_coefficient_of_variance_withmag,\n",
    "    LOS_Center_skewness_withmag,\n",
    "    LOS_Center_kurtosis_withmag,\n",
    "    LOS_Center_q1_withmag,\n",
    "    LOS_Center_q3_withmag,\n",
    "    LOS_Center_iqr_withmag,\n",
    "    *LOS_Center_percentiles_withmag  # Unpack percentiles into the vector\n",
    "], dtype=float)\n",
    "print(\"LOS Center Vector:\", LOS_Center_vector_withmag)\n",
    "\n",
    "LOS_Center_vector_FFT = np.array([\n",
    "    LOS_Center_mean_FFT,\n",
    "    LOS_Center_var_FFT,\n",
    "    LOS_Center_median_FFT,\n",
    "    LOS_Center_std_dev_FFT,\n",
    "    LOS_Center_min_FFT,\n",
    "    LOS_Center_max_FFT,\n",
    "    LOS_Center_range_FFT,\n",
    "    LOS_Center_mad_FFT,\n",
    "    LOS_Center_coefficient_of_variance_FFT,\n",
    "], dtype=float)\n",
    "print(\"LOS Center Vector FFT:\", LOS_Center_vector_FFT)"
   ]
  },
  {
   "cell_type": "code",
   "execution_count": null,
   "metadata": {},
   "outputs": [],
   "source": [
    "#LOS First Quartile\n",
    "# LOS_first_quartile_rssi = calculate_rssi(dataWithInterferenceLOSFirstQuartileDC)\n",
    "# LOS_first_quartile_mean = np.mean(dataWithInterferenceLOSFirstQuartileDC)\n",
    "# LOS_first_quartile_magnitude = calculate_IQMagnitude(dataWithInterferenceLOSFirstQuartileDC)\n",
    "# LOS_first_quartile_var = np.var(dataWithInterferenceLOSFirstQuartileDC)\n",
    "# LOS_first_quartile_phase = calculate_IQ_Angle(dataWithInterferenceLOSFirstQuartileDC)\n",
    "# LOS_first_quartile_cov = compute_covariance(dataWithInterferenceLOSFirstQuartileDC)\n",
    "\n",
    "# print(\"LOS First Quartile RSSI:\", LOS_first_quartile_rssi)\n",
    "# print(\"LOS First Quartile Mean:\", LOS_first_quartile_mean)\n",
    "# print(\"LOS First Quartile Magnitude:\", LOS_first_quartile_magnitude)\n",
    "# print(\"LOS First Quartile Variance:\", LOS_first_quartile_var)\n",
    "# print(\"LOS First Quartile Phase:\", LOS_first_quartile_phase)\n",
    "# print(\"LOS First Quartile Amplitude:\", LOS_first_quartile_amplitude)\n",
    "# print(\"LOS First Quartile Covariance:\", LOS_first_quartile_cov)\n",
    "\n",
    "LOS_First_Quartile_magnitude = calculate_IQMagnitude(dataWithInterferenceLOSFirstQuartileDC)\n",
    "LOS_First_Quartile_mean = np.mean(dataWithInterferenceLOSFirstQuartileDC)\n",
    "LOS_First_Quartile_var = np.var(dataWithInterferenceLOSFirstQuartileDC)\n",
    "LOS_First_Quartile_median = np.median(dataWithInterferenceLOSFirstQuartileDC)\n",
    "LOS_First_Quartile_std_dev = np.std(dataWithInterferenceLOSFirstQuartileDC)\n",
    "LOS_First_Quartile_min = np.min(dataWithInterferenceLOSFirstQuartileDC)\n",
    "LOS_First_Quartile_max = np.max(dataWithInterferenceLOSFirstQuartileDC)\n",
    "LOS_First_Quartile_range = LOS_First_Quartile_max - LOS_First_Quartile_min\n",
    "LOS_First_Quartile_mad = np.mean(np.abs(dataWithInterferenceLOSFirstQuartileDC - LOS_First_Quartile_mean))\n",
    "LOS_First_Quartile_coefficient_of_variance = (\n",
    "    LOS_First_Quartile_std_dev / LOS_First_Quartile_mean if LOS_First_Quartile_mean != 0 else np.nan\n",
    ")\n",
    "\n",
    "LOS_First_Quartile_mean_withmag = np.mean(LOS_First_Quartile_magnitude)\n",
    "LOS_First_Quartile_var_withmag = np.var(LOS_First_Quartile_magnitude)\n",
    "LOS_First_Quartile_median_withmag = np.median(LOS_First_Quartile_magnitude)\n",
    "LOS_First_Quartile_std_dev_withmag = np.std(LOS_First_Quartile_magnitude)\n",
    "LOS_First_Quartile_min_withmag = np.min(LOS_First_Quartile_magnitude)\n",
    "LOS_First_Quartile_max_withmag = np.max(LOS_First_Quartile_magnitude)\n",
    "LOS_First_Quartile_range_withmag = LOS_First_Quartile_max_withmag - LOS_First_Quartile_min_withmag\n",
    "LOS_First_Quartile_mad_withmag = np.mean(np.abs(LOS_First_Quartile_magnitude - LOS_First_Quartile_mean_withmag))\n",
    "LOS_First_Quartile_coefficient_of_variance_withmag = (\n",
    "    LOS_First_Quartile_std_dev_withmag / LOS_First_Quartile_mean_withmag if LOS_First_Quartile_mean_withmag != 0 else np.nan\n",
    ")\n",
    "\n",
    "LOS_First_Quartile_skewness_withmag = stats.skew(LOS_First_Quartile_magnitude)\n",
    "LOS_First_Quartile_kurtosis_withmag = stats.kurtosis(LOS_First_Quartile_magnitude)\n",
    "LOS_First_Quartile_q1_withmag = np.percentile(LOS_First_Quartile_magnitude, 25)\n",
    "LOS_First_Quartile_q3_withmag = np.percentile(LOS_First_Quartile_magnitude, 75)\n",
    "LOS_First_Quartile_iqr_withmag = LOS_First_Quartile_q3_withmag - LOS_First_Quartile_q1_withmag\n",
    "LOS_First_Quartile_percentiles_withmag = np.percentile(LOS_First_Quartile_magnitude, [10, 25, 50, 75, 90])\n",
    "\n",
    "LOS_First_Quartile_mean_FFT = np.mean(dataWithInterferenceLOSFirstQuartileFFT)\n",
    "LOS_First_Quartile_var_FFT = np.var(dataWithInterferenceLOSFirstQuartileFFT)\n",
    "LOS_First_Quartile_median_FFT = np.median(dataWithInterferenceLOSFirstQuartileFFT)\n",
    "LOS_First_Quartile_std_dev_FFT = np.std(dataWithInterferenceLOSFirstQuartileFFT)\n",
    "LOS_First_Quartile_min_FFT = np.min(dataWithInterferenceLOSFirstQuartileFFT)\n",
    "LOS_First_Quartile_max_FFT = np.max(dataWithInterferenceLOSFirstQuartileFFT)\n",
    "LOS_First_Quartile_range_FFT = LOS_First_Quartile_max_FFT - LOS_First_Quartile_min_FFT\n",
    "LOS_First_Quartile_mad_FFT = np.mean(np.abs(dataWithInterferenceLOSFirstQuartileFFT - LOS_First_Quartile_mean_FFT))\n",
    "LOS_First_Quartile_coefficient_of_variance_FFT = (\n",
    "    LOS_First_Quartile_std_dev_FFT / LOS_First_Quartile_mean_FFT if LOS_First_Quartile_mean_FFT != 0 else np.nan\n",
    ")\n",
    "\n",
    "LOS_First_Quartile_skewness_FFT = stats.skew(dataWithInterferenceLOSFirstQuartileFFT)\n",
    "LOS_First_Quartile_kurtosis_FFT = stats.kurtosis(dataWithInterferenceLOSFirstQuartileFFT)\n",
    "\n",
    "print(\"LOS First Quartile Mean:\", LOS_First_Quartile_mean)\n",
    "print(\"LOS First Quartile Variance:\", LOS_First_Quartile_var)\n",
    "print(\"LOS First Quartile Median:\", LOS_First_Quartile_median)\n",
    "print(\"LOS First Quartile Standard Deviation:\", LOS_First_Quartile_std_dev)\n",
    "print(\"LOS First Quartile Min:\", LOS_First_Quartile_min)\n",
    "print(\"LOS First Quartile Max:\", LOS_First_Quartile_max)\n",
    "print(\"LOS First Quartile Range:\", LOS_First_Quartile_range)\n",
    "print(\"LOS First Quartile MAD:\", LOS_First_Quartile_mad)\n",
    "print(\"LOS First Quartile Coefficient of Variance:\", LOS_First_Quartile_coefficient_of_variance)\n",
    "\n",
    "print(\"\\n\\n\")\n",
    "print(\"Magnitude\")\n",
    "print(\"LOS First Quartile Mean:\", LOS_First_Quartile_mean_withmag)\n",
    "print(\"LOS First Quartile Variance:\", LOS_First_Quartile_var_withmag)\n",
    "print(\"LOS First Quartile Median:\", LOS_First_Quartile_median_withmag)\n",
    "print(\"LOS First Quartile Standard Deviation:\", LOS_First_Quartile_std_dev_withmag)\n",
    "print(\"LOS First Quartile Min:\", LOS_First_Quartile_min_withmag)\n",
    "print(\"LOS First Quartile Max:\", LOS_First_Quartile_max_withmag)\n",
    "print(\"LOS First Quartile Range:\", LOS_First_Quartile_range_withmag)\n",
    "print(\"LOS First Quartile MAD:\", LOS_First_Quartile_mad_withmag)\n",
    "print(\"LOS First Quartile Coefficient of Variance:\", LOS_First_Quartile_coefficient_of_variance_withmag)\n",
    "\n",
    "print(\"\\n\")\n",
    "print(\"LOS First Quartile Q1:\", LOS_First_Quartile_q1_withmag)\n",
    "print(\"LOS First Quartile Q3:\", LOS_First_Quartile_q3_withmag)\n",
    "print(\"LOS First Quartile IQR:\", LOS_First_Quartile_iqr_withmag)\n",
    "print(\"LOS First Quartile Percentiles (10th, 25th, 50th, 75th, 90th):\", LOS_First_Quartile_percentiles_withmag)\n",
    "print(\"LOS First Quartile Skewness:\", LOS_First_Quartile_skewness_withmag)\n",
    "print(\"LOS First Quartile Kurtosis:\", LOS_First_Quartile_kurtosis_withmag)\n",
    "\n",
    "print(\"\\n\\n\")\n",
    "print(\"FFT\")\n",
    "print(\"LOS First Quartile Mean:\", LOS_First_Quartile_mean_FFT)\n",
    "print(\"LOS First Quartile Variance:\", LOS_First_Quartile_var_FFT)\n",
    "print(\"LOS First Quartile Median:\", LOS_First_Quartile_median_withmag)\n",
    "print(\"LOS First Quartile Standard Deviation:\", LOS_First_Quartile_std_dev_FFT)\n",
    "print(\"LOS First Quartile Min:\", LOS_First_Quartile_min_FFT)\n",
    "print(\"LOS First Quartile Max:\", LOS_First_Quartile_max_FFT)\n",
    "print(\"LOS First Quartile Range:\", LOS_First_Quartile_range_FFT)\n",
    "print(\"LOS First Quartile MAD:\", LOS_First_Quartile_mad_FFT)\n",
    "print(\"LOS First Quartile Coefficient of Variance:\", LOS_First_Quartile_coefficient_of_variance_FFT)\n",
    "\n"
   ]
  },
  {
   "cell_type": "code",
   "execution_count": 22,
   "metadata": {},
   "outputs": [],
   "source": [
    "LOS_first_quartile_amplitude = np.abs(dataWithInterferenceLOSFirstQuartileDC)\n",
    "LOS_first_quartile_angle = np.angle(dataWithInterferenceLOSFirstQuartileDC)"
   ]
  },
  {
   "cell_type": "code",
   "execution_count": null,
   "metadata": {},
   "outputs": [],
   "source": [
    "LOS_First_Quartile_vector = np.array([\n",
    "    LOS_First_Quartile_mean,\n",
    "    LOS_First_Quartile_var,\n",
    "    LOS_First_Quartile_median,\n",
    "    LOS_First_Quartile_std_dev,\n",
    "    LOS_First_Quartile_min,\n",
    "    LOS_First_Quartile_max,\n",
    "    LOS_First_Quartile_range,\n",
    "    LOS_First_Quartile_mad,\n",
    "    LOS_First_Quartile_coefficient_of_variance,\n",
    "    LOS_First_Quartile_skewness_withmag,\n",
    "    LOS_First_Quartile_kurtosis_withmag,\n",
    "    LOS_First_Quartile_q1_withmag,\n",
    "    LOS_First_Quartile_q3_withmag,\n",
    "    LOS_First_Quartile_iqr_withmag,\n",
    "    *LOS_First_Quartile_percentiles_withmag  # Unpack percentiles into the vector\n",
    "])\n",
    "\n",
    "\n",
    "\n",
    "# Print the vector\n",
    "print(\"LOS First Quartile Vector:\", LOS_First_Quartile_vector)\n",
    "\n"
   ]
  },
  {
   "cell_type": "code",
   "execution_count": null,
   "metadata": {},
   "outputs": [],
   "source": [
    "LOS_First_Quartile_vector_withmag = np.array([\n",
    "    LOS_First_Quartile_mean_withmag,\n",
    "    LOS_First_Quartile_var_withmag,\n",
    "    LOS_First_Quartile_median_withmag,\n",
    "    LOS_First_Quartile_std_dev_withmag,\n",
    "    LOS_First_Quartile_min_withmag,\n",
    "    LOS_First_Quartile_max_withmag,\n",
    "    LOS_First_Quartile_range_withmag,\n",
    "    LOS_First_Quartile_mad_withmag,\n",
    "    LOS_First_Quartile_coefficient_of_variance_withmag,\n",
    "    LOS_First_Quartile_skewness_withmag,\n",
    "    LOS_First_Quartile_kurtosis_withmag,\n",
    "    LOS_First_Quartile_q1_withmag,\n",
    "    LOS_First_Quartile_q3_withmag,\n",
    "    LOS_First_Quartile_iqr_withmag,\n",
    "    *LOS_First_Quartile_percentiles_withmag  # Unpack percentiles into the vector\n",
    "], dtype=float)\n",
    "\n",
    "print(\"\\n\\n\")\n",
    "print(\"LOS First Quartile Vector:\", LOS_First_Quartile_vector_withmag)\n",
    "\n",
    "LOS_First_Quartile_vector_FFT = np.array([\n",
    "    LOS_First_Quartile_mean_FFT,\n",
    "    LOS_First_Quartile_var_FFT,\n",
    "    LOS_First_Quartile_median_FFT,\n",
    "    LOS_First_Quartile_std_dev_FFT,\n",
    "    LOS_First_Quartile_min_FFT,\n",
    "    LOS_First_Quartile_max_FFT,\n",
    "    LOS_First_Quartile_range_FFT,\n",
    "    LOS_First_Quartile_mad_FFT,\n",
    "    LOS_First_Quartile_coefficient_of_variance_FFT,\n",
    "], dtype=float)\n",
    "\n",
    "print(\"\\n\\n\")\n",
    "print(\"LOS First Quartile Vector:\", LOS_First_Quartile_vector_FFT)"
   ]
  },
  {
   "cell_type": "code",
   "execution_count": null,
   "metadata": {},
   "outputs": [],
   "source": [
    "#LOS Third Quartile\n",
    "# LOS_third_quartile_rssi = calculate_rssi(dataWithInterferenceLOSThirdQuartileDC)\n",
    "# LOS_third_quartile_mean = np.mean(dataWithInterferenceLOSThirdQuartileDC)\n",
    "# LOS_third_quartile_magnitude = calculate_IQMagnitude(dataWithInterferenceLOSThirdQuartileDC)\n",
    "# LOS_third_quartile_var = np.var(dataWithInterferenceLOSThirdQuartileDC)\n",
    "# LOS_third_quartile_phase = calculate_IQ_Angle(dataWithInterferenceLOSThirdQuartileDC)\n",
    "# LOS_third_quartile_cov = compute_covariance(dataWithInterferenceLOSThirdQuartileDC)\n",
    "\n",
    "# print(\"LOS Third Quartile RSSI:\", LOS_third_quartile_rssi)\n",
    "# print(\"LOS Third Quartile Mean:\", LOS_third_quartile_mean)\n",
    "# print(\"LOS Third Quartile Magnitude:\", LOS_third_quartile_magnitude)\n",
    "# print(\"LOS Third Quartile Variance:\", LOS_third_quartile_var)\n",
    "# print(\"LOS Third Quartile Phase:\", LOS_third_quartile_phase)\n",
    "# print(\"LOS Third Quartile Amplitude:\", LOS_third_quartile_amplitude)\n",
    "# print(\"LOS Third Quartile Covariance:\", LOS_third_quartile_cov)\n",
    "\n",
    "LOS_Third_Quartile_magnitude = calculate_IQMagnitude(dataWithInterferenceLOSThirdQuartileDC)\n",
    "LOS_Third_Quartile_mean = np.mean(dataWithInterferenceLOSThirdQuartileDC)\n",
    "LOS_Third_Quartile_var = np.var(dataWithInterferenceLOSThirdQuartileDC)\n",
    "LOS_Third_Quartile_median = np.median(dataWithInterferenceLOSThirdQuartileDC)\n",
    "LOS_Third_Quartile_std_dev = np.std(dataWithInterferenceLOSThirdQuartileDC)\n",
    "LOS_Third_Quartile_min = np.min(dataWithInterferenceLOSThirdQuartileDC)\n",
    "LOS_Third_Quartile_max = np.max(dataWithInterferenceLOSThirdQuartileDC)\n",
    "LOS_Third_Quartile_range = LOS_Third_Quartile_max - LOS_Third_Quartile_min\n",
    "LOS_Third_Quartile_mad = np.mean(np.abs(dataWithInterferenceLOSThirdQuartileDC - LOS_Third_Quartile_mean))\n",
    "LOS_Third_Quartile_coefficient_of_variance = LOS_Third_Quartile_std_dev / LOS_Third_Quartile_mean if LOS_Third_Quartile_mean != 0 else np.nan\n",
    "\n",
    "LOS_Third_Quartile_mean_withmag = np.mean(LOS_Third_Quartile_magnitude)\n",
    "LOS_Third_Quartile_var_withmag = np.var(LOS_Third_Quartile_magnitude)\n",
    "LOS_Third_Quartile_median_withmag = np.median(LOS_Third_Quartile_magnitude)\n",
    "LOS_Third_Quartile_std_dev_withmag = np.std(LOS_Third_Quartile_magnitude)\n",
    "LOS_Third_Quartile_min_withmag = np.min(LOS_Third_Quartile_magnitude)\n",
    "LOS_Third_Quartile_max_withmag = np.max(LOS_Third_Quartile_magnitude)\n",
    "LOS_Third_Quartile_range_withmag = LOS_Third_Quartile_max_withmag - LOS_Third_Quartile_min_withmag\n",
    "LOS_Third_Quartile_mad_withmag = np.mean(np.abs(LOS_Third_Quartile_magnitude - LOS_Third_Quartile_mean_withmag))\n",
    "LOS_Third_Quartile_coefficient_of_variance_withmag = LOS_Third_Quartile_std_dev_withmag / LOS_Third_Quartile_mean_withmag if LOS_Third_Quartile_mean_withmag != 0 else np.nan\n",
    "\n",
    "LOS_Third_Quartile_skewness_withmag = stats.skew(LOS_Third_Quartile_magnitude)\n",
    "LOS_Third_Quartile_kurtosis_withmag = stats.kurtosis(LOS_Third_Quartile_magnitude)\n",
    "LOS_Third_Quartile_q1_withmag = np.percentile(LOS_Third_Quartile_magnitude, 25)\n",
    "LOS_Third_Quartile_q3_withmag = np.percentile(LOS_Third_Quartile_magnitude, 75)\n",
    "LOS_Third_Quartile_iqr_withmag = LOS_Third_Quartile_q3_withmag - LOS_Third_Quartile_q1_withmag\n",
    "LOS_Third_Quartile_percentiles_withmag = np.percentile(LOS_Third_Quartile_magnitude, [10, 25, 50, 75, 90])\n",
    "\n",
    "LOS_Third_Quartile_mean_FFT = np.mean(dataWithInterferenceLOSThirdQuartileFFT)\n",
    "LOS_Third_Quartile_var_FFT = np.var(dataWithInterferenceLOSThirdQuartileFFT)\n",
    "LOS_Third_Quartile_median_FFT = np.median(dataWithInterferenceLOSThirdQuartileFFT)\n",
    "LOS_Third_Quartile_std_dev_FFT = np.std(dataWithInterferenceLOSThirdQuartileFFT)\n",
    "LOS_Third_Quartile_min_FFT = np.min(dataWithInterferenceLOSThirdQuartileFFT)\n",
    "LOS_Third_Quartile_max_FFT = np.max(dataWithInterferenceLOSThirdQuartileFFT)\n",
    "LOS_Third_Quartile_range_FFT = LOS_Third_Quartile_max_FFT - LOS_Third_Quartile_min_FFT\n",
    "LOS_Third_Quartile_mad_FFT = np.mean(np.abs(dataWithInterferenceLOSThirdQuartileFFT - LOS_Third_Quartile_mean_FFT))\n",
    "LOS_Third_Quartile_coefficient_of_variance_FFT = (\n",
    "    LOS_Third_Quartile_std_dev_FFT / LOS_Third_Quartile_mean_FFT \n",
    "    if LOS_Third_Quartile_mean_FFT != 0 else np.nan\n",
    ")\n",
    "\n",
    "print(\"LOS Third Quartile Mean:\", LOS_Third_Quartile_mean)\n",
    "print(\"LOS Third Quartile Variance:\", LOS_Third_Quartile_var)\n",
    "print(\"LOS Third Quartile Median:\", LOS_Third_Quartile_median)\n",
    "print(\"LOS Third Quartile Standard Deviation:\", LOS_Third_Quartile_std_dev)\n",
    "print(\"LOS Third Quartile Min:\", LOS_Third_Quartile_min)\n",
    "print(\"LOS Third Quartile Max:\", LOS_Third_Quartile_max)\n",
    "print(\"LOS Third Quartile Range:\", LOS_Third_Quartile_range)\n",
    "print(\"LOS Third Quartile MAD:\", LOS_Third_Quartile_mad)\n",
    "print(\"LOS Third Quartile Coefficient of Variance:\", LOS_Third_Quartile_coefficient_of_variance)\n",
    "\n",
    "print(\"\\n\\n\")\n",
    "print(\"Magnitude\")\n",
    "print(\"LOS Third Quartile Mean:\", LOS_Third_Quartile_mean_withmag)\n",
    "print(\"LOS Third Quartile Variance:\", LOS_Third_Quartile_var_withmag)\n",
    "print(\"LOS Third Quartile Median:\", LOS_Third_Quartile_median_withmag)\n",
    "print(\"LOS Third Quartile Standard Deviation:\", LOS_Third_Quartile_std_dev_withmag)\n",
    "print(\"LOS Third Quartile Min:\", LOS_Third_Quartile_min_withmag)\n",
    "print(\"LOS Third Quartile Max:\", LOS_Third_Quartile_max_withmag)\n",
    "print(\"LOS Third Quartile Range:\", LOS_Third_Quartile_range_withmag)\n",
    "print(\"LOS Third Quartile MAD:\", LOS_Third_Quartile_mad)\n",
    "print(\"LOS Third Quartile Coefficient of Variance:\", LOS_Third_Quartile_coefficient_of_variance_withmag)\n",
    "\n",
    "print(\"\\n\")\n",
    "print(\"LOS Third Quartile Q1:\", LOS_Third_Quartile_q1_withmag)\n",
    "print(\"LOS Third Quartile Q3:\", LOS_Third_Quartile_q3_withmag)\n",
    "print(\"LOS Third Quartile IQR:\", LOS_Third_Quartile_iqr_withmag)\n",
    "print(\"LOS Third Quartile Percentiles (10th, 25th, 50th, 75th, 90th):\", LOS_Third_Quartile_percentiles_withmag)\n",
    "print(\"LOS Third Quartile Skewness:\", LOS_Third_Quartile_skewness_withmag)\n",
    "print(\"LOS Third Quartile Kurtosis:\", LOS_Third_Quartile_kurtosis_withmag)\n",
    "\n",
    "print(\"\\n\\n\")\n",
    "print(\"FFT\")\n",
    "print(\"LOS Third Quartile Mean:\", LOS_Third_Quartile_mean_FFT)\n",
    "print(\"LOS Third Quartile Variance:\", LOS_Third_Quartile_var_FFT)\n",
    "print(\"LOS Third Quartile Median:\", LOS_Third_Quartile_median_FFT)\n",
    "print(\"LOS Third Quartile Standard Deviation:\", LOS_Third_Quartile_std_dev_FFT)\n",
    "print(\"LOS Third Quartile Min:\", LOS_Third_Quartile_min_FFT)\n",
    "print(\"LOS Third Quartile Max:\", LOS_Third_Quartile_max_FFT)\n",
    "print(\"LOS Third Quartile Range:\", LOS_Third_Quartile_range_FFT)\n",
    "print(\"LOS Third Quartile MAD:\", LOS_Third_Quartile_mad_FFT)\n",
    "print(\"LOS Third Quartile Coefficient of Variance:\", LOS_Third_Quartile_coefficient_of_variance_FFT)\n",
    "\n"
   ]
  },
  {
   "cell_type": "code",
   "execution_count": 21,
   "metadata": {},
   "outputs": [],
   "source": [
    "LOS_third_quartile_amplitude = np.abs(dataWithInterferenceLOSThirdQuartileDC)\n",
    "LOS_third_quartile_angle = np.angle(dataWithInterferenceLOSThirdQuartileDC)"
   ]
  },
  {
   "cell_type": "code",
   "execution_count": null,
   "metadata": {},
   "outputs": [],
   "source": [
    "LOS_Third_Quartile_vector = np.array([\n",
    "    LOS_Third_Quartile_mean,\n",
    "    LOS_Third_Quartile_var,\n",
    "    LOS_Third_Quartile_median,\n",
    "    LOS_Third_Quartile_std_dev,\n",
    "    LOS_Third_Quartile_min,\n",
    "    LOS_Third_Quartile_max,\n",
    "    LOS_Third_Quartile_range,\n",
    "    LOS_Third_Quartile_mad,\n",
    "    LOS_Third_Quartile_coefficient_of_variance,\n",
    "    LOS_Third_Quartile_skewness_withmag,\n",
    "    LOS_Third_Quartile_kurtosis_withmag,\n",
    "    LOS_Third_Quartile_q1_withmag,\n",
    "    LOS_Third_Quartile_q3_withmag,\n",
    "    LOS_Third_Quartile_iqr_withmag,\n",
    "    *LOS_Third_Quartile_percentiles_withmag  # Unpack percentiles into the vector\n",
    "])\n",
    "\n",
    "LOS_Third_Quartile_vector_withmag = np.array([\n",
    "    LOS_Third_Quartile_mean_withmag,\n",
    "    LOS_Third_Quartile_var_withmag,\n",
    "    LOS_Third_Quartile_median_withmag,\n",
    "    LOS_Third_Quartile_std_dev_withmag,\n",
    "    LOS_Third_Quartile_min_withmag,\n",
    "    LOS_Third_Quartile_max_withmag,\n",
    "    LOS_Third_Quartile_range_withmag,\n",
    "    LOS_Third_Quartile_mad_withmag,\n",
    "    LOS_Third_Quartile_coefficient_of_variance_withmag,\n",
    "    LOS_Third_Quartile_skewness_withmag,\n",
    "    LOS_Third_Quartile_kurtosis_withmag,\n",
    "    LOS_Third_Quartile_q1_withmag,\n",
    "    LOS_Third_Quartile_q3_withmag,\n",
    "    LOS_Third_Quartile_iqr_withmag,\n",
    "    *LOS_Third_Quartile_percentiles_withmag  # Unpack percentiles into the vector\n",
    "], dtype=float)\n",
    "\n",
    "# Print the vector\n",
    "print(\"LOS Third Quartile Vector:\", LOS_Third_Quartile_vector)\n",
    "print(\"\\n\")\n",
    "print(\"LOS Third Quartile Vector:\", LOS_Third_Quartile_vector_withmag)\n",
    "\n",
    "LOS_Third_Quartile_vector_FFT = np.array([\n",
    "    LOS_Third_Quartile_mean_FFT,\n",
    "    LOS_Third_Quartile_var_FFT,\n",
    "    LOS_Third_Quartile_median_FFT,\n",
    "    LOS_Third_Quartile_std_dev_FFT,\n",
    "    LOS_Third_Quartile_min_FFT,\n",
    "    LOS_Third_Quartile_max_FFT,\n",
    "    LOS_Third_Quartile_coefficient_of_variance_FFT,\n",
    "    LOS_Third_Quartile_range_FFT,\n",
    "    LOS_Third_Quartile_mad_FFT,\n",
    "], dtype=float)\n",
    "\n",
    "# Print the vector\n",
    "print(\"\\nLOS Third Quartile Vector FFT:\", LOS_Third_Quartile_vector_FFT)\n"
   ]
  },
  {
   "cell_type": "markdown",
   "metadata": {},
   "source": [
    "#### NLOS Left"
   ]
  },
  {
   "cell_type": "code",
   "execution_count": null,
   "metadata": {},
   "outputs": [],
   "source": [
    "# NLOS Left Center\n",
    "# NLOS_left_center_rssi = calculate_rssi(dataWithInterferenceNLOSLeftCenterDC)\n",
    "# NLOS_left_center_mean = np.mean(dataWithInterferenceNLOSLeftCenterDC)\n",
    "# NLOS_left_center_magnitude = calculate_IQMagnitude(dataWithInterferenceNLOSLeftCenterDC)\n",
    "# NLOS_left_center_var = np.var(dataWithInterferenceNLOSLeftCenterDC)\n",
    "# NLOS_left_center_phase = calculate_IQ_Angle(dataWithInterferenceNLOSLeftCenterDC)\n",
    "# NLOS_left_center_amplitude = np.abs(dataWithInterferenceNLOSLeftCenterDC)\n",
    "# NLOS_left_center_cov = compute_covariance(dataWithInterferenceNLOSLeftCenterDC)\n",
    "\n",
    "# print(\"NLOS Left Center RSSI:\", NLOS_left_center_rssi)\n",
    "# print(\"NLOS Left Center Mean:\", NLOS_left_center_mean)\n",
    "# print(\"NLOS Left Center Magnitude:\", NLOS_left_center_magnitude)\n",
    "# print(\"NLOS Left Center Variance:\", NLOS_left_center_var)\n",
    "# print(\"NLOS Left Center Phase:\", NLOS_left_center_phase)\n",
    "# print(\"NLOS Left Center Amplitude:\", NLOS_left_center_amplitude)\n",
    "# print(\"NLOS Left Center Covariance:\", NLOS_left_center_cov)\n",
    "\n",
    "NLOS_Left_Center_magnitude = calculate_IQMagnitude(dataWithInterferenceNLOSLeftCenterDC)\n",
    "NLOS_Left_Center_mean = np.mean(dataWithInterferenceNLOSLeftCenterDC)\n",
    "NLOS_Left_Center_var = np.var(dataWithInterferenceNLOSLeftCenterDC)\n",
    "NLOS_Left_Center_median = np.median(dataWithInterferenceNLOSLeftCenterDC)\n",
    "NLOS_Left_Center_std_dev = np.std(dataWithInterferenceNLOSLeftCenterDC)\n",
    "NLOS_Left_Center_min = np.min(dataWithInterferenceNLOSLeftCenterDC)\n",
    "NLOS_Left_Center_max = np.max(dataWithInterferenceNLOSLeftCenterDC)\n",
    "NLOS_Left_Center_range = NLOS_Left_Center_max - NLOS_Left_Center_min\n",
    "NLOS_Left_Center_mad = np.mean(np.abs(dataWithInterferenceNLOSLeftCenterDC - NLOS_Left_Center_mean))\n",
    "NLOS_Left_Center_coefficient_of_variance = NLOS_Left_Center_std_dev / NLOS_Left_Center_mean if NLOS_Left_Center_mean != 0 else np.nan\n",
    "\n",
    "NLOS_Left_Center_skewness_withmag = stats.skew(NLOS_Left_Center_magnitude)\n",
    "NLOS_Left_Center_kurtosis_withmag = stats.kurtosis(NLOS_Left_Center_magnitude)\n",
    "NLOS_Left_Center_q1_withmag = np.percentile(NLOS_Left_Center_magnitude, 25)\n",
    "NLOS_Left_Center_q3_withmag = np.percentile(NLOS_Left_Center_magnitude, 75)\n",
    "NLOS_Left_Center_iqr_withmag = NLOS_Left_Center_q3_withmag - NLOS_Left_Center_q1_withmag\n",
    "NLOS_Left_Center_percentiles_withmag = np.percentile(NLOS_Left_Center_magnitude, [10, 25, 50, 75, 90])\n",
    "\n",
    "NLOS_Left_Center_mean_withmag = np.mean(NLOS_Left_Center_magnitude)\n",
    "NLOS_Left_Center_var_withmag = np.var(NLOS_Left_Center_magnitude)\n",
    "NLOS_Left_Center_median_withmag = np.median(NLOS_Left_Center_magnitude)\n",
    "NLOS_Left_Center_std_dev_withmag = np.std(NLOS_Left_Center_magnitude)\n",
    "NLOS_Left_Center_min_withmag = np.min(NLOS_Left_Center_magnitude)\n",
    "NLOS_Left_Center_max_withmag = np.max(NLOS_Left_Center_magnitude)\n",
    "NLOS_Left_Center_range_withmag = NLOS_Left_Center_max_withmag - NLOS_Left_Center_min_withmag\n",
    "NLOS_Left_Center_mad_withmag = np.mean(np.abs(NLOS_Left_Center_magnitude - NLOS_Left_Center_mean_withmag))\n",
    "NLOS_Left_Center_coefficient_of_variance_withmag = NLOS_Left_Center_std_dev_withmag / NLOS_Left_Center_mean_withmag if NLOS_Left_Center_mean_withmag != 0 else np.nan\n",
    "\n",
    "NLOS_Left_Center_magnitude_FFT = calculate_IQMagnitude(dataWithInterferenceNLOSLeftCenterFFT)\n",
    "NLOS_Left_Center_mean_FFT = np.mean(dataWithInterferenceNLOSLeftCenterFFT)\n",
    "NLOS_Left_Center_var_FFT = np.var(dataWithInterferenceNLOSLeftCenterFFT)\n",
    "NLOS_Left_Center_median_FFT = np.median(dataWithInterferenceNLOSLeftCenterFFT)\n",
    "NLOS_Left_Center_std_dev_FFT = np.std(dataWithInterferenceNLOSLeftCenterFFT)\n",
    "NLOS_Left_Center_min_FFT = np.min(dataWithInterferenceNLOSLeftCenterFFT)\n",
    "NLOS_Left_Center_max_FFT = np.max(dataWithInterferenceNLOSLeftCenterFFT)\n",
    "NLOS_Left_Center_range_FFT = NLOS_Left_Center_max_FFT - NLOS_Left_Center_min_FFT\n",
    "NLOS_Left_Center_mad_FFT = np.mean(np.abs(dataWithInterferenceNLOSLeftCenterFFT - NLOS_Left_Center_mean_FFT))\n",
    "NLOS_Left_Center_coefficient_of_variance_FFT = NLOS_Left_Center_std_dev_FFT / NLOS_Left_Center_mean_FFT if NLOS_Left_Center_mean_FFT != 0 else np.nan\n",
    "\n",
    "print(\"NLOS Left Center Mean:\", NLOS_Left_Center_mean)\n",
    "print(\"NLOS Left Center Variance:\", NLOS_Left_Center_var)\n",
    "print(\"NLOS Left Center Median:\", NLOS_Left_Center_median)\n",
    "print(\"NLOS Left Center Standard Deviation:\", NLOS_Left_Center_std_dev)\n",
    "print(\"NLOS Left Center Min:\", NLOS_Left_Center_min)\n",
    "print(\"NLOS Left Center Max:\", NLOS_Left_Center_max)\n",
    "print(\"NLOS Left Center Range:\", NLOS_Left_Center_range)\n",
    "print(\"NLOS Left Center MAD:\", NLOS_Left_Center_mad)\n",
    "print(\"NLOS Left Center Coefficient of Variance:\", NLOS_Left_Center_coefficient_of_variance)\n",
    "\n",
    "print(\"NLOS Left Center Q1:\", NLOS_Left_Center_q1_withmag)\n",
    "print(\"NLOS Left Center Q3:\", NLOS_Left_Center_q3_withmag)\n",
    "print(\"NLOS Left Center IQR:\", NLOS_Left_Center_iqr_withmag)\n",
    "print(\"NLOS Left Center Percentiles (10th, 25th, 50th, 75th, 90th):\", NLOS_Left_Center_percentiles_withmag)\n",
    "print(\"NLOS Left Center Skewness:\", NLOS_Left_Center_skewness_withmag)\n",
    "print(\"NLOS Left Center Kurtosis:\", NLOS_Left_Center_kurtosis_withmag)\n",
    "\n",
    "print(\"\\n\\n\")\n",
    "print(\"Eucleidian Distance with Magnitude\")\n",
    "print(\"NLOS Left Center Mean with magnitude:\", NLOS_Left_Center_mean_withmag)\n",
    "print(\"NLOS Left Center Variance:\", NLOS_Left_Center_var_withmag)\n",
    "print(\"NLOS Left Center Median:\", NLOS_Left_Center_median_withmag)\n",
    "print(\"NLOS Left Center Standard Deviation:\", NLOS_Left_Center_std_dev_withmag)\n",
    "print(\"NLOS Left Center Min:\", NLOS_Left_Center_min_withmag)\n",
    "print(\"NLOS Left Center Max:\", NLOS_Left_Center_max_withmag)\n",
    "print(\"NLOS Left Center Range:\", NLOS_Left_Center_range_withmag)\n",
    "print(\"NLOS Left Center MAD:\", NLOS_Left_Center_mad_withmag)\n",
    "print(\"NLOS Left Center Coefficient of Variance:\", NLOS_Left_Center_coefficient_of_variance_withmag)\n",
    "\n",
    "print(\"\\n\\n\")\n",
    "print(\"FFT\")\n",
    "print(\"NLOS Left Center Mean with magnitude:\", NLOS_Left_Center_mean_FFT)\n",
    "print(\"NLOS Left Center Variance:\", NLOS_Left_Center_var_FFT)\n",
    "print(\"NLOS Left Center Median:\", NLOS_Left_Center_median_FFT)\n",
    "print(\"NLOS Left Center Standard Deviation:\", NLOS_Left_Center_std_dev_FFT)\n",
    "print(\"NLOS Left Center Min:\", NLOS_Left_Center_min_FFT)\n",
    "print(\"NLOS Left Center Max:\", NLOS_Left_Center_max_FFT)\n",
    "print(\"NLOS Left Center Range:\", NLOS_Left_Center_range_FFT)\n",
    "print(\"NLOS Left Center MAD:\", NLOS_Left_Center_mad_FFT)\n",
    "print(\"NLOS Left Center Coefficient of Variance:\", NLOS_Left_Center_coefficient_of_variance_FFT)\n",
    "\n"
   ]
  },
  {
   "cell_type": "code",
   "execution_count": null,
   "metadata": {},
   "outputs": [],
   "source": [
    "NLOS_Left_Center_vector = np.array([\n",
    "    NLOS_Left_Center_mean,\n",
    "    NLOS_Left_Center_var,\n",
    "    NLOS_Left_Center_median,\n",
    "    NLOS_Left_Center_std_dev,\n",
    "    NLOS_Left_Center_min,\n",
    "    NLOS_Left_Center_max,\n",
    "    NLOS_Left_Center_range,\n",
    "    NLOS_Left_Center_mad,\n",
    "    NLOS_Left_Center_coefficient_of_variance,\n",
    "    NLOS_Left_Center_skewness_withmag,\n",
    "    NLOS_Left_Center_kurtosis_withmag,\n",
    "    NLOS_Left_Center_q1_withmag,\n",
    "    NLOS_Left_Center_q3_withmag,\n",
    "    NLOS_Left_Center_iqr_withmag,\n",
    "    *NLOS_Left_Center_percentiles_withmag  # Unpack percentiles into the vector\n",
    "])\n",
    "\n",
    "print(\"NLOS Left Center Vector:\", NLOS_Left_Center_vector)\n",
    "\n",
    "NLOS_Left_Center_vector_withmag = np.array([\n",
    "    NLOS_Left_Center_mean_withmag,\n",
    "    NLOS_Left_Center_var_withmag,\n",
    "    NLOS_Left_Center_median_withmag,\n",
    "    NLOS_Left_Center_std_dev_withmag,\n",
    "    NLOS_Left_Center_min_withmag,\n",
    "    NLOS_Left_Center_max_withmag,\n",
    "    NLOS_Left_Center_range_withmag,\n",
    "    NLOS_Left_Center_mad_withmag,\n",
    "    NLOS_Left_Center_coefficient_of_variance_withmag,\n",
    "    NLOS_Left_Center_skewness_withmag,\n",
    "    NLOS_Left_Center_kurtosis_withmag,\n",
    "    NLOS_Left_Center_q1_withmag,\n",
    "    NLOS_Left_Center_q3_withmag,\n",
    "    NLOS_Left_Center_iqr_withmag,\n",
    "    *NLOS_Left_Center_percentiles_withmag  # Unpack percentiles into the vector\n",
    "])\n",
    "\n",
    "print(\"NLOS Left Center Vector with Magnitude:\", NLOS_Left_Center_vector_withmag)\n",
    "\n",
    "NLOS_Left_Center_vector_FFT = np.array([\n",
    "    NLOS_Left_Center_mean_FFT,\n",
    "    NLOS_Left_Center_var_FFT,\n",
    "    NLOS_Left_Center_median_FFT,\n",
    "    NLOS_Left_Center_std_dev_FFT,\n",
    "    NLOS_Left_Center_min_FFT,\n",
    "    NLOS_Left_Center_max_FFT,\n",
    "    NLOS_Left_Center_range_FFT,\n",
    "    NLOS_Left_Center_mad_FFT,\n",
    "    NLOS_Left_Center_coefficient_of_variance_FFT,\n",
    "])\n",
    "print(\"NLOS Left Center Vector with FFT:\", NLOS_Left_Center_vector_FFT)"
   ]
  },
  {
   "cell_type": "code",
   "execution_count": null,
   "metadata": {},
   "outputs": [],
   "source": [
    "# NLOS Left First Quartile\n",
    "# NLOS_left_first_quartile_rssi = calculate_rssi(dataWithInterferenceNLOSLeftFirstQuartileDC)\n",
    "# NLOS_left_first_quartile_mean = np.mean(dataWithInterferenceNLOSLeftFirstQuartileDC)\n",
    "# NLOS_left_first_quartile_magnitude = calculate_IQMagnitude(dataWithInterferenceNLOSLeftFirstQuartileDC)\n",
    "# NLOS_left_first_quartile_var = np.var(dataWithInterferenceNLOSLeftFirstQuartileDC)\n",
    "# NLOS_left_first_quartile_phase = calculate_IQ_Angle(dataWithInterferenceNLOSLeftFirstQuartileDC)\n",
    "# NLOS_left_first_quartile_amplitude = np.abs(dataWithInterferenceNLOSLeftFirstQuartileDC)\n",
    "# NLOS_left_first_quartile_cov = compute_covariance(dataWithInterferenceNLOSLeftFirstQuartileDC)\n",
    "\n",
    "# print(\"NLOS Left First Quartile RSSI:\", NLOS_left_first_quartile_rssi)\n",
    "# print(\"NLOS Left First Quartile Mean:\", NLOS_left_first_quartile_mean)\n",
    "# print(\"NLOS Left First Quartile Magnitude:\", NLOS_left_first_quartile_magnitude)\n",
    "# print(\"NLOS Left First Quartile Variance:\", NLOS_left_first_quartile_var)\n",
    "# print(\"NLOS Left First Quartile Phase:\", NLOS_left_first_quartile_phase)\n",
    "# print(\"NLOS Left First Quartile Amplitude:\", NLOS_left_first_quartile_amplitude)\n",
    "# print(\"NLOS Left First Quartile Covariance:\", NLOS_left_first_quartile_cov)\n",
    "\n",
    "NLOS_Left_First_Quartile_magnitude = calculate_IQMagnitude(dataWithInterferenceNLOSLeftFirstQuartileDC)\n",
    "NLOS_Left_First_Quartile_mean = np.mean(dataWithInterferenceNLOSLeftFirstQuartileDC)\n",
    "NLOS_Left_First_Quartile_var = np.var(dataWithInterferenceNLOSLeftFirstQuartileDC)\n",
    "NLOS_Left_First_Quartile_median = np.median(dataWithInterferenceNLOSLeftFirstQuartileDC)\n",
    "NLOS_Left_First_Quartile_std_dev = np.std(dataWithInterferenceNLOSLeftFirstQuartileDC)\n",
    "NLOS_Left_First_Quartile_min = np.min(dataWithInterferenceNLOSLeftFirstQuartileDC)\n",
    "NLOS_Left_First_Quartile_max = np.max(dataWithInterferenceNLOSLeftFirstQuartileDC)\n",
    "NLOS_Left_First_Quartile_range = NLOS_Left_First_Quartile_max - NLOS_Left_First_Quartile_min\n",
    "NLOS_Left_First_Quartile_mad = np.mean(np.abs(dataWithInterferenceNLOSLeftFirstQuartileDC - NLOS_Left_First_Quartile_mean))\n",
    "NLOS_Left_First_Quartile_coefficient_of_variance = NLOS_Left_First_Quartile_std_dev / NLOS_Left_First_Quartile_mean if NLOS_Left_First_Quartile_mean != 0 else np.nan\n",
    "\n",
    "NLOS_Left_First_Quartile_skewness_withmag = stats.skew(NLOS_Left_First_Quartile_magnitude)\n",
    "NLOS_Left_First_Quartile_kurtosis_withmag = stats.kurtosis(NLOS_Left_First_Quartile_magnitude)\n",
    "NLOS_Left_First_Quartile_q1_withmag = np.percentile(NLOS_Left_First_Quartile_magnitude, 25)\n",
    "NLOS_Left_First_Quartile_q3_withmag = np.percentile(NLOS_Left_First_Quartile_magnitude, 75)\n",
    "NLOS_Left_First_Quartile_iqr_withmag = NLOS_Left_First_Quartile_q3_withmag - NLOS_Left_First_Quartile_q1_withmag\n",
    "NLOS_Left_First_Quartile_percentiles_withmag = np.percentile(NLOS_Left_First_Quartile_magnitude, [10, 25, 50, 75, 90])\n",
    "\n",
    "NLOS_Left_First_Quartile_mean_withmag = np.mean(NLOS_Left_First_Quartile_magnitude)\n",
    "NLOS_Left_First_Quartile_var_withmag = np.var(NLOS_Left_First_Quartile_magnitude)\n",
    "NLOS_Left_First_Quartile_median_withmag = np.median(NLOS_Left_First_Quartile_magnitude)\n",
    "NLOS_Left_First_Quartile_std_dev_withmag = np.std(NLOS_Left_First_Quartile_magnitude)\n",
    "NLOS_Left_First_Quartile_min_withmag = np.min(NLOS_Left_First_Quartile_magnitude)\n",
    "NLOS_Left_First_Quartile_max_withmag = np.max(NLOS_Left_First_Quartile_magnitude)\n",
    "NLOS_Left_First_Quartile_range_withmag = NLOS_Left_First_Quartile_max_withmag - NLOS_Left_First_Quartile_min_withmag\n",
    "NLOS_Left_First_Quartile_mad_withmag = np.mean(np.abs(NLOS_Left_First_Quartile_magnitude - NLOS_Left_First_Quartile_mean_withmag))\n",
    "NLOS_Left_First_Quartile_coefficient_of_variance_withmag = NLOS_Left_First_Quartile_std_dev_withmag / NLOS_Left_First_Quartile_mean_withmag if NLOS_Left_First_Quartile_mean_withmag != 0 else np.nan\n",
    "\n",
    "NLOS_Left_First_Quartile_mean_FFT = np.mean(dataWithInterferenceNLOSLeftFirstQuartileFFT)\n",
    "NLOS_Left_First_Quartile_var_FFT = np.var(dataWithInterferenceNLOSLeftFirstQuartileFFT)\n",
    "NLOS_Left_First_Quartile_median_FFT = np.median(dataWithInterferenceNLOSLeftFirstQuartileFFT)\n",
    "NLOS_Left_First_Quartile_std_dev_FFT = np.std(dataWithInterferenceNLOSLeftFirstQuartileFFT)\n",
    "NLOS_Left_First_Quartile_min_FFT = np.min(dataWithInterferenceNLOSLeftFirstQuartileFFT)\n",
    "NLOS_Left_First_Quartile_max_FFT = np.max(dataWithInterferenceNLOSLeftFirstQuartileFFT)\n",
    "NLOS_Left_First_Quartile_range_FFT = NLOS_Left_First_Quartile_max_FFT - NLOS_Left_First_Quartile_min_FFT\n",
    "NLOS_Left_First_Quartile_mad_FFT = np.mean(np.abs(dataWithInterferenceNLOSLeftFirstQuartileFFT - NLOS_Left_First_Quartile_mean_FFT))\n",
    "NLOS_Left_First_Quartile_coefficient_of_variance_FFT = (\n",
    "    NLOS_Left_First_Quartile_std_dev_FFT / NLOS_Left_First_Quartile_mean_FFT \n",
    "    if NLOS_Left_First_Quartile_mean_FFT != 0 else np.nan\n",
    ")\n",
    "\n",
    "\n",
    "print(\"NLOS Left First Quartile Mean:\", NLOS_Left_First_Quartile_mean)\n",
    "print(\"NLOS Left First Quartile Variance:\", NLOS_Left_First_Quartile_var)\n",
    "print(\"NLOS Left First Quartile Median:\", NLOS_Left_First_Quartile_median)\n",
    "print(\"NLOS Left First Quartile Standard Deviation:\", NLOS_Left_First_Quartile_std_dev)\n",
    "print(\"NLOS Left First Quartile Min:\", NLOS_Left_First_Quartile_min)\n",
    "print(\"NLOS Left First Quartile Max:\", NLOS_Left_First_Quartile_max)\n",
    "print(\"NLOS Left First Quartile Range:\", NLOS_Left_First_Quartile_range)\n",
    "print(\"NLOS Left First Quartile MAD:\", NLOS_Left_First_Quartile_mad)\n",
    "print(\"NLOS Left First Quartile Coefficient of Variance:\", NLOS_Left_First_Quartile_coefficient_of_variance)\n",
    "\n",
    "print(\"NLOS Left First Quartile Q1:\", NLOS_Left_First_Quartile_q1_withmag)\n",
    "print(\"NLOS Left First Quartile Q3:\", NLOS_Left_First_Quartile_q3_withmag)\n",
    "print(\"NLOS Left First Quartile IQR:\", NLOS_Left_First_Quartile_iqr_withmag)\n",
    "print(\"NLOS Left First Quartile Percentiles (10th, 25th, 50th, 75th, 90th):\", NLOS_Left_First_Quartile_percentiles_withmag)\n",
    "print(\"NLOS Left First Quartile Skewness:\", NLOS_Left_First_Quartile_skewness_withmag)\n",
    "print(\"NLOS Left First Quartile Kurtosis:\", NLOS_Left_First_Quartile_kurtosis_withmag)\n",
    "\n",
    "print(\"\\n\\n\")\n",
    "print(\"Eucleidian Distance with Magnitude\")\n",
    "print(\"NLOS Left First Quartile Mean:\", NLOS_Left_First_Quartile_mean_withmag)\n",
    "print(\"NLOS Left First Quartile Variance:\", NLOS_Left_First_Quartile_var_withmag)\n",
    "print(\"NLOS Left First Quartile Median:\", NLOS_Left_First_Quartile_median_withmag)\n",
    "print(\"NLOS Left First Quartile Standard Deviation:\", NLOS_Left_First_Quartile_std_dev_withmag)\n",
    "print(\"NLOS Left First Quartile Min:\", NLOS_Left_First_Quartile_min_withmag)\n",
    "print(\"NLOS Left First Quartile Max:\", NLOS_Left_First_Quartile_max_withmag)\n",
    "print(\"NLOS Left First Quartile Range:\", NLOS_Left_First_Quartile_range_withmag)\n",
    "print(\"NLOS Left First Quartile MAD:\", NLOS_Left_First_Quartile_mad_withmag)\n",
    "print(\"NLOS Left First Quartile Coefficient of Variance:\", NLOS_Left_First_Quartile_coefficient_of_variance_withmag)\n",
    "\n",
    "print(\"\\n\\n\")\n",
    "print(\"FFT\")\n",
    "print(\"NLOS Left First Quartile Mean:\", NLOS_Left_First_Quartile_mean_FFT)\n",
    "print(\"NLOS Left First Quartile Variance:\", NLOS_Left_First_Quartile_var_FFT)\n",
    "print(\"NLOS Left First Quartile Median:\", NLOS_Left_First_Quartile_median_FFT)\n",
    "print(\"NLOS Left First Quartile Standard Deviation:\", NLOS_Left_First_Quartile_std_dev_FFT)\n",
    "print(\"NLOS Left First Quartile Min:\", NLOS_Left_First_Quartile_min_FFT)\n",
    "print(\"NLOS Left First Quartile Max:\", NLOS_Left_First_Quartile_max_FFT)\n",
    "print(\"NLOS Left First Quartile Range:\", NLOS_Left_First_Quartile_range_FFT)\n",
    "print(\"NLOS Left First Quartile MAD:\", NLOS_Left_First_Quartile_mad_FFT)\n",
    "print(\"NLOS Left First Quartile Coefficient of Variance:\", NLOS_Left_First_Quartile_coefficient_of_variance_FFT)\n",
    "\n"
   ]
  },
  {
   "cell_type": "code",
   "execution_count": null,
   "metadata": {},
   "outputs": [],
   "source": [
    "NLOS_Left_First_Quartile_vector = np.array([\n",
    "    NLOS_Left_First_Quartile_mean,\n",
    "    NLOS_Left_First_Quartile_var,\n",
    "    NLOS_Left_First_Quartile_median,\n",
    "    NLOS_Left_First_Quartile_std_dev,\n",
    "    NLOS_Left_First_Quartile_min,\n",
    "    NLOS_Left_First_Quartile_max,\n",
    "    NLOS_Left_First_Quartile_range,\n",
    "    NLOS_Left_First_Quartile_mad,\n",
    "    NLOS_Left_First_Quartile_coefficient_of_variance,\n",
    "    NLOS_Left_First_Quartile_skewness_withmag,\n",
    "    NLOS_Left_First_Quartile_kurtosis_withmag,\n",
    "    NLOS_Left_First_Quartile_q1_withmag,\n",
    "    NLOS_Left_First_Quartile_q3_withmag,\n",
    "    NLOS_Left_First_Quartile_iqr_withmag,\n",
    "    *NLOS_Left_First_Quartile_percentiles_withmag  # Unpack percentiles into the vector\n",
    "])\n",
    "\n",
    "print(\"NLOS Left First Quartile Vector:\", NLOS_Left_First_Quartile_vector)\n",
    "\n",
    "NLOS_Left_First_Quartile_vector_withmag = np.array([\n",
    "    NLOS_Left_First_Quartile_mean_withmag,\n",
    "    NLOS_Left_First_Quartile_var_withmag,\n",
    "    NLOS_Left_First_Quartile_median_withmag,\n",
    "    NLOS_Left_First_Quartile_std_dev_withmag,\n",
    "    NLOS_Left_First_Quartile_min_withmag,\n",
    "    NLOS_Left_First_Quartile_max_withmag,\n",
    "    NLOS_Left_First_Quartile_range_withmag,\n",
    "    NLOS_Left_First_Quartile_mad_withmag,\n",
    "    NLOS_Left_First_Quartile_coefficient_of_variance_withmag,\n",
    "    NLOS_Left_First_Quartile_skewness_withmag,\n",
    "    NLOS_Left_First_Quartile_kurtosis_withmag,\n",
    "    NLOS_Left_First_Quartile_q1_withmag,\n",
    "    NLOS_Left_First_Quartile_q3_withmag,\n",
    "    NLOS_Left_First_Quartile_iqr_withmag,\n",
    "    *NLOS_Left_First_Quartile_percentiles_withmag  # Unpack percentiles into the vector\n",
    "])\n",
    "\n",
    "print(\"NLOS Left First Quartile Vector with Magnitude:\", NLOS_Left_First_Quartile_vector_withmag)\n",
    "\n",
    "NLOS_Left_First_Quartile_vector_FFT = np.array([\n",
    "    NLOS_Left_First_Quartile_mean_FFT,\n",
    "    NLOS_Left_First_Quartile_var_FFT,\n",
    "    NLOS_Left_First_Quartile_median_FFT,\n",
    "    NLOS_Left_First_Quartile_std_dev_FFT,\n",
    "    NLOS_Left_First_Quartile_min_FFT,\n",
    "    NLOS_Left_First_Quartile_max_FFT,\n",
    "    NLOS_Left_First_Quartile_range_FFT,\n",
    "    NLOS_Left_First_Quartile_mad_FFT,\n",
    "    NLOS_Left_First_Quartile_coefficient_of_variance_FFT,\n",
    "])\n",
    "\n",
    "print(\"NLOS Left First Quartile Vector with FFT:\", NLOS_Left_First_Quartile_vector_FFT)\n"
   ]
  },
  {
   "cell_type": "code",
   "execution_count": null,
   "metadata": {},
   "outputs": [],
   "source": [
    "# NLOS Left Third Quartile\n",
    "# NLOS_left_third_quartile_rssi = calculate_rssi(dataWithInterferenceNLOSLeftThirdQuartileDC)\n",
    "# NLOS_left_third_quartile_mean = np.mean(dataWithInterferenceNLOSLeftThirdQuartileDC)\n",
    "# NLOS_left_third_quartile_magnitude = calculate_IQMagnitude(dataWithInterferenceNLOSLeftThirdQuartileDC)\n",
    "# NLOS_left_third_quartile_var = np.var(dataWithInterferenceNLOSLeftThirdQuartileDC)\n",
    "# NLOS_left_third_quartile_phase = calculate_IQ_Angle(dataWithInterferenceNLOSLeftThirdQuartileDC)\n",
    "# NLOS_left_third_quartile_amplitude = np.abs(dataWithInterferenceNLOSLeftThirdQuartileDC)\n",
    "# NLOS_left_third_quartile_cov = compute_covariance(dataWithInterferenceNLOSLeftThirdQuartileDC)\n",
    "\n",
    "# print(\"NLOS Left Third Quartile RSSI:\", NLOS_left_third_quartile_rssi)\n",
    "# print(\"NLOS Left Third Quartile Mean:\", NLOS_left_third_quartile_mean)\n",
    "# print(\"NLOS Left Third Quartile Magnitude:\", NLOS_left_third_quartile_magnitude)\n",
    "# print(\"NLOS Left Third Quartile Variance:\", NLOS_left_third_quartile_var)\n",
    "# print(\"NLOS Left Third Quartile Phase:\", NLOS_left_third_quartile_phase)\n",
    "# print(\"NLOS Left Third Quartile Amplitude:\", NLOS_left_third_quartile_amplitude)\n",
    "# print(\"NLOS Left Third Quartile Covariance:\", NLOS_left_third_quartile_cov)\n",
    "\n",
    "NLOS_Left_Third_Quartile_magnitude = calculate_IQMagnitude(dataWithInterferenceNLOSLeftThirdQuartileDC)\n",
    "NLOS_Left_Third_Quartile_mean = np.mean(dataWithInterferenceNLOSLeftThirdQuartileDC)\n",
    "NLOS_Left_Third_Quartile_var = np.var(dataWithInterferenceNLOSLeftThirdQuartileDC)\n",
    "NLOS_Left_Third_Quartile_median = np.median(dataWithInterferenceNLOSLeftThirdQuartileDC)\n",
    "NLOS_Left_Third_Quartile_std_dev = np.std(dataWithInterferenceNLOSLeftThirdQuartileDC)\n",
    "NLOS_Left_Third_Quartile_min = np.min(dataWithInterferenceNLOSLeftThirdQuartileDC)\n",
    "NLOS_Left_Third_Quartile_max = np.max(dataWithInterferenceNLOSLeftThirdQuartileDC)\n",
    "NLOS_Left_Third_Quartile_range = NLOS_Left_Third_Quartile_max - NLOS_Left_Third_Quartile_min\n",
    "NLOS_Left_Third_Quartile_mad = np.mean(np.abs(dataWithInterferenceNLOSLeftThirdQuartileDC - NLOS_Left_Third_Quartile_mean))\n",
    "NLOS_Left_Third_Quartile_coefficient_of_variance = NLOS_Left_Third_Quartile_std_dev / NLOS_Left_Third_Quartile_mean if NLOS_Left_Third_Quartile_mean != 0 else np.nan\n",
    "\n",
    "NLOS_Left_Third_Quartile_skewness_withmag = stats.skew(NLOS_Left_Third_Quartile_magnitude)\n",
    "NLOS_Left_Third_Quartile_kurtosis_withmag = stats.kurtosis(NLOS_Left_Third_Quartile_magnitude)\n",
    "NLOS_Left_Third_Quartile_q1_withmag = np.percentile(NLOS_Left_Third_Quartile_magnitude, 25)\n",
    "NLOS_Left_Third_Quartile_q3_withmag = np.percentile(NLOS_Left_Third_Quartile_magnitude, 75)\n",
    "NLOS_Left_Third_Quartile_iqr_withmag = NLOS_Left_Third_Quartile_q3_withmag - NLOS_Left_Third_Quartile_q1_withmag\n",
    "NLOS_Left_Third_Quartile_percentiles_withmag = np.percentile(NLOS_Left_Third_Quartile_magnitude, [10, 25, 50, 75, 90])\n",
    "\n",
    "NLOS_Left_Third_Quartile_mean_withmag = np.mean(NLOS_Left_Third_Quartile_magnitude)\n",
    "NLOS_Left_Third_Quartile_var_withmag = np.var(NLOS_Left_Third_Quartile_magnitude)\n",
    "NLOS_Left_Third_Quartile_median_withmag = np.median(NLOS_Left_Third_Quartile_magnitude)\n",
    "NLOS_Left_Third_Quartile_std_dev_withmag = np.std(NLOS_Left_Third_Quartile_magnitude)\n",
    "NLOS_Left_Third_Quartile_min_withmag = np.min(NLOS_Left_Third_Quartile_magnitude)\n",
    "NLOS_Left_Third_Quartile_max_withmag = np.max(NLOS_Left_Third_Quartile_magnitude)\n",
    "NLOS_Left_Third_Quartile_range_withmag = NLOS_Left_Third_Quartile_max_withmag - NLOS_Left_Third_Quartile_min_withmag\n",
    "NLOS_Left_Third_Quartile_mad_withmag = np.mean(np.abs(NLOS_Left_Third_Quartile_magnitude - NLOS_Left_Third_Quartile_mean_withmag))\n",
    "NLOS_Left_Third_Quartile_coefficient_of_variance_withmag = NLOS_Left_Third_Quartile_std_dev_withmag / NLOS_Left_Third_Quartile_mean_withmag if NLOS_Left_Third_Quartile_mean_withmag != 0 else np.nan\n",
    "\n",
    "NLOS_Left_Third_Quartile_mean_FFT = np.mean(dataWithInterferenceNLOSLeftThirdQuartileFFT)\n",
    "NLOS_Left_Third_Quartile_var_FFT = np.var(dataWithInterferenceNLOSLeftThirdQuartileFFT)\n",
    "NLOS_Left_Third_Quartile_median_FFT = np.median(dataWithInterferenceNLOSLeftThirdQuartileFFT)\n",
    "NLOS_Left_Third_Quartile_std_dev_FFT = np.std(dataWithInterferenceNLOSLeftThirdQuartileFFT)\n",
    "NLOS_Left_Third_Quartile_min_FFT = np.min(dataWithInterferenceNLOSLeftThirdQuartileFFT)\n",
    "NLOS_Left_Third_Quartile_max_FFT = np.max(dataWithInterferenceNLOSLeftThirdQuartileFFT)\n",
    "NLOS_Left_Third_Quartile_range_FFT = NLOS_Left_Third_Quartile_max_FFT - NLOS_Left_Third_Quartile_min_FFT\n",
    "NLOS_Left_Third_Quartile_mad_FFT = np.mean(\n",
    "    np.abs(dataWithInterferenceNLOSLeftThirdQuartileFFT - NLOS_Left_Third_Quartile_mean_FFT)\n",
    ")\n",
    "NLOS_Left_Third_Quartile_coefficient_of_variance_FFT = (\n",
    "    NLOS_Left_Third_Quartile_std_dev_FFT / NLOS_Left_Third_Quartile_mean_FFT\n",
    "    if NLOS_Left_Third_Quartile_mean_FFT != 0\n",
    "    else np.nan\n",
    ")\n",
    "\n",
    "\n",
    "\n",
    "print(\"NLOS Left Third Quartile Mean:\", NLOS_Left_Third_Quartile_mean)\n",
    "print(\"NLOS Left Third Quartile Variance:\", NLOS_Left_Third_Quartile_var)\n",
    "print(\"NLOS Left Third Quartile Median:\", NLOS_Left_Third_Quartile_median)\n",
    "print(\"NLOS Left Third Quartile Standard Deviation:\", NLOS_Left_Third_Quartile_std_dev)\n",
    "print(\"NLOS Left Third Quartile Min:\", NLOS_Left_Third_Quartile_min)\n",
    "print(\"NLOS Left Third Quartile Max:\", NLOS_Left_Third_Quartile_max)\n",
    "print(\"NLOS Left Third Quartile Range:\", NLOS_Left_Third_Quartile_range)\n",
    "print(\"NLOS Left Third Quartile MAD:\", NLOS_Left_Third_Quartile_mad)\n",
    "print(\"NLOS Left Third Quartile Coefficient of Variance:\", NLOS_Left_Third_Quartile_coefficient_of_variance)\n",
    "\n",
    "print(\"NLOS Left Third Quartile Q1:\", NLOS_Left_Third_Quartile_q1_withmag)\n",
    "print(\"NLOS Left Third Quartile Q3:\", NLOS_Left_Third_Quartile_q3_withmag)\n",
    "print(\"NLOS Left Third Quartile IQR:\", NLOS_Left_Third_Quartile_iqr_withmag)\n",
    "print(\"NLOS Left Third Quartile Percentiles (10th, 25th, 50th, 75th, 90th):\", NLOS_Left_Third_Quartile_percentiles_withmag)\n",
    "print(\"NLOS Left Third Quartile Skewness:\", NLOS_Left_Third_Quartile_skewness_withmag)\n",
    "print(\"NLOS Left Third Quartile Kurtosis:\", NLOS_Left_Third_Quartile_kurtosis_withmag)\n",
    "\n",
    "print(\"\\n\\n\")\n",
    "print(\"Eucleidian Distance with Magnitude\")\n",
    "print(\"NLOS Left Third Quartile Mean:\", NLOS_Left_Third_Quartile_mean_withmag)\n",
    "print(\"NLOS Left Third Quartile Variance:\", NLOS_Left_Third_Quartile_var_withmag)\n",
    "print(\"NLOS Left Third Quartile Median:\", NLOS_Left_Third_Quartile_median_withmag)\n",
    "print(\"NLOS Left Third Quartile Standard Deviation:\", NLOS_Left_Third_Quartile_std_dev_withmag)\n",
    "print(\"NLOS Left Third Quartile Min:\", NLOS_Left_Third_Quartile_min_withmag)\n",
    "print(\"NLOS Left Third Quartile Max:\", NLOS_Left_Third_Quartile_max_withmag)\n",
    "print(\"NLOS Left Third Quartile Range:\", NLOS_Left_Third_Quartile_range_withmag)\n",
    "print(\"NLOS Left Third Quartile MAD:\", NLOS_Left_Third_Quartile_mad_withmag)\n",
    "print(\"NLOS Left Third Quartile Coefficient of Variance:\", NLOS_Left_Third_Quartile_coefficient_of_variance_withmag)\n",
    "\n",
    "print(\"\\n\\n\")\n",
    "print(\"FFT\")\n",
    "print(\"NLOS Left Third Quartile Mean:\", NLOS_Left_Third_Quartile_mean_FFT)\n",
    "print(\"NLOS Left Third Quartile Variance:\", NLOS_Left_Third_Quartile_var_FFT)\n",
    "print(\"NLOS Left Third Quartile Median:\", NLOS_Left_Third_Quartile_median_FFT)\n",
    "print(\"NLOS Left Third Quartile Standard Deviation:\", NLOS_Left_Third_Quartile_std_dev_FFT)\n",
    "print(\"NLOS Left Third Quartile Min:\", NLOS_Left_Third_Quartile_min_FFT)\n",
    "print(\"NLOS Left Third Quartile Max:\", NLOS_Left_Third_Quartile_max_FFT)\n",
    "print(\"NLOS Left Third Quartile Range:\", NLOS_Left_Third_Quartile_range_FFT)\n",
    "print(\"NLOS Left Third Quartile MAD:\", NLOS_Left_Third_Quartile_mad_FFT)\n",
    "print(\"NLOS Left Third Quartile Coefficient of Variance:\", NLOS_Left_Third_Quartile_coefficient_of_variance_FFT)\n"
   ]
  },
  {
   "cell_type": "code",
   "execution_count": null,
   "metadata": {},
   "outputs": [],
   "source": [
    "NLOS_Left_Third_Quartile_vector = np.array([\n",
    "    NLOS_Left_Third_Quartile_mean,\n",
    "    NLOS_Left_Third_Quartile_var,\n",
    "    NLOS_Left_Third_Quartile_median,\n",
    "    NLOS_Left_Third_Quartile_std_dev,\n",
    "    NLOS_Left_Third_Quartile_min,\n",
    "    NLOS_Left_Third_Quartile_max,\n",
    "    NLOS_Left_Third_Quartile_range,\n",
    "    NLOS_Left_Third_Quartile_mad,\n",
    "    NLOS_Left_Third_Quartile_coefficient_of_variance,\n",
    "    NLOS_Left_Third_Quartile_skewness_withmag,\n",
    "    NLOS_Left_Third_Quartile_kurtosis_withmag,\n",
    "    NLOS_Left_Third_Quartile_q1_withmag,\n",
    "    NLOS_Left_Third_Quartile_q3_withmag,\n",
    "    NLOS_Left_Third_Quartile_iqr_withmag,\n",
    "    *NLOS_Left_Third_Quartile_percentiles_withmag  # Unpack percentiles into the vector\n",
    "])\n",
    "\n",
    "print(\"NLOS Left Third Quartile Vector:\", NLOS_Left_Third_Quartile_vector)\n",
    "\n",
    "NLOS_Left_Third_Quartile_vector_withmag = np.array([\n",
    "    NLOS_Left_Third_Quartile_mean_withmag,\n",
    "    NLOS_Left_Third_Quartile_var_withmag,\n",
    "    NLOS_Left_Third_Quartile_median_withmag,\n",
    "    NLOS_Left_Third_Quartile_std_dev_withmag,\n",
    "    NLOS_Left_Third_Quartile_min_withmag,\n",
    "    NLOS_Left_Third_Quartile_max_withmag,\n",
    "    NLOS_Left_Third_Quartile_range_withmag,\n",
    "    NLOS_Left_Third_Quartile_mad_withmag,\n",
    "    NLOS_Left_Third_Quartile_coefficient_of_variance_withmag,\n",
    "    NLOS_Left_Third_Quartile_skewness_withmag,\n",
    "    NLOS_Left_Third_Quartile_kurtosis_withmag,\n",
    "    NLOS_Left_Third_Quartile_q1_withmag,\n",
    "    NLOS_Left_Third_Quartile_q3_withmag,\n",
    "    NLOS_Left_Third_Quartile_iqr_withmag,\n",
    "    *NLOS_Left_Third_Quartile_percentiles_withmag  # Unpack percentiles into the vector\n",
    "])\n",
    "\n",
    "print(\"NLOS Left Third Quartile Vector with Magnitude:\", NLOS_Left_Third_Quartile_vector_withmag)\n",
    "\n",
    "NLOS_Left_Third_Quartile_vector_FFT = np.array([\n",
    "    NLOS_Left_Third_Quartile_mean_FFT,\n",
    "    NLOS_Left_Third_Quartile_var_FFT,\n",
    "    NLOS_Left_Third_Quartile_median_FFT,\n",
    "    NLOS_Left_Third_Quartile_std_dev_FFT,\n",
    "    NLOS_Left_Third_Quartile_min_FFT,\n",
    "    NLOS_Left_Third_Quartile_max_FFT,\n",
    "    NLOS_Left_Third_Quartile_range_FFT,\n",
    "    NLOS_Left_Third_Quartile_mad_FFT,\n",
    "    NLOS_Left_Third_Quartile_coefficient_of_variance_FFT,\n",
    "])\n",
    "\n",
    "print(\"NLOS Left Third Quartile Vector with FFT:\", NLOS_Left_Third_Quartile_vector_FFT)\n"
   ]
  },
  {
   "cell_type": "markdown",
   "metadata": {},
   "source": [
    "#### NLOS Right"
   ]
  },
  {
   "cell_type": "code",
   "execution_count": null,
   "metadata": {},
   "outputs": [],
   "source": [
    "# NLOS Right Center Metrics\n",
    "# NLOS_right_center_rssi = calculate_rssi(dataWithInterferenceNLOSRightCenterDC)\n",
    "# NLOS_right_center_mean = np.mean(dataWithInterferenceNLOSRightCenterDC)\n",
    "# NLOS_right_center_magnitude = calculate_IQMagnitude(dataWithInterferenceNLOSRightCenterDC)\n",
    "# NLOS_right_center_var = np.var(dataWithInterferenceNLOSRightCenterDC)\n",
    "# NLOS_right_center_phase = calculate_IQ_Angle(dataWithInterferenceNLOSRightCenterDC)\n",
    "# NLOS_right_center_amplitude = np.abs(dataWithInterferenceNLOSRightCenterDC)\n",
    "# NLOS_right_center_cov = compute_covariance(dataWithInterferenceNLOSRightCenterDC)\n",
    "\n",
    "# print(\"NLOS Right Center RSSI:\", NLOS_right_center_rssi)\n",
    "# print(\"NLOS Right Center Mean:\", NLOS_right_center_mean)\n",
    "# print(\"NLOS Right Center Magnitude:\", NLOS_right_center_magnitude)\n",
    "# print(\"NLOS Right Center Variance:\", NLOS_right_center_var)\n",
    "# print(\"NLOS Right Center Phase:\", NLOS_right_center_phase)\n",
    "# print(\"NLOS Right Center Amplitude:\", NLOS_right_center_amplitude)\n",
    "# print(\"NLOS Right Center Covariance:\", NLOS_right_center_cov)\n",
    "\n",
    "NLOS_Right_Center_magnitude = calculate_IQMagnitude(dataWithInterferenceNLOSRightCenterDC)\n",
    "NLOS_Right_Center_mean = np.mean(dataWithInterferenceNLOSRightCenterDC)\n",
    "NLOS_Right_Center_var = np.var(dataWithInterferenceNLOSRightCenterDC)\n",
    "NLOS_Right_Center_median = np.median(dataWithInterferenceNLOSRightCenterDC)\n",
    "NLOS_Right_Center_std_dev = np.std(dataWithInterferenceNLOSRightCenterDC)\n",
    "NLOS_Right_Center_min = np.min(dataWithInterferenceNLOSRightCenterDC)\n",
    "NLOS_Right_Center_max = np.max(dataWithInterferenceNLOSRightCenterDC)\n",
    "NLOS_Right_Center_range = NLOS_Right_Center_max - NLOS_Right_Center_min\n",
    "NLOS_Right_Center_mad = np.mean(np.abs(dataWithInterferenceNLOSRightCenterDC - NLOS_Right_Center_mean))\n",
    "NLOS_Right_Center_coefficient_of_variance = (\n",
    "    NLOS_Right_Center_std_dev / NLOS_Right_Center_mean if NLOS_Right_Center_mean != 0 else np.nan\n",
    ")\n",
    "\n",
    "NLOS_Right_Center_skewness_withmag = stats.skew(NLOS_Right_Center_magnitude)\n",
    "NLOS_Right_Center_kurtosis_withmag = stats.kurtosis(NLOS_Right_Center_magnitude)\n",
    "NLOS_Right_Center_q1_withmag = np.percentile(NLOS_Right_Center_magnitude, 25)\n",
    "NLOS_Right_Center_q3_withmag = np.percentile(NLOS_Right_Center_magnitude, 75)\n",
    "NLOS_Right_Center_iqr_withmag = NLOS_Right_Center_q3_withmag - NLOS_Right_Center_q1_withmag\n",
    "NLOS_Right_Center_percentiles_withmag = np.percentile(NLOS_Right_Center_magnitude, [10, 25, 50, 75, 90])\n",
    "\n",
    "NLOS_Right_Center_mean_withmag = np.mean(NLOS_Right_Center_magnitude)\n",
    "NLOS_Right_Center_var_withmag = np.var(NLOS_Right_Center_magnitude)\n",
    "NLOS_Right_Center_median_withmag = np.median(NLOS_Right_Center_magnitude)\n",
    "NLOS_Right_Center_std_dev_withmag = np.std(NLOS_Right_Center_magnitude)\n",
    "NLOS_Right_Center_min_withmag = np.min(NLOS_Right_Center_magnitude)\n",
    "NLOS_Right_Center_max_withmag = np.max(NLOS_Right_Center_magnitude)\n",
    "NLOS_Right_Center_range_withmag = NLOS_Right_Center_max_withmag - NLOS_Right_Center_min_withmag\n",
    "NLOS_Right_Center_mad_withmag = np.mean(np.abs(NLOS_Right_Center_magnitude - NLOS_Right_Center_mean_withmag))\n",
    "NLOS_Right_Center_coefficient_of_variance_withmag = (\n",
    "    NLOS_Right_Center_std_dev_withmag / NLOS_Right_Center_mean_withmag if NLOS_Right_Center_mean_withmag != 0 else np.nan\n",
    ")\n",
    "\n",
    "NLOS_Right_Center_mean_FFT = np.mean(dataWithInterferenceNLOSRightCenterFFT)\n",
    "NLOS_Right_Center_var_FFT = np.var(dataWithInterferenceNLOSRightCenterFFT)\n",
    "NLOS_Right_Center_median_FFT = np.median(dataWithInterferenceNLOSRightCenterFFT)\n",
    "NLOS_Right_Center_std_dev_FFT = np.std(dataWithInterferenceNLOSRightCenterFFT)\n",
    "NLOS_Right_Center_min_FFT = np.min(dataWithInterferenceNLOSRightCenterFFT)\n",
    "NLOS_Right_Center_max_FFT = np.max(dataWithInterferenceNLOSRightCenterFFT)\n",
    "NLOS_Right_Center_range_FFT = NLOS_Right_Center_max_FFT - NLOS_Right_Center_min_FFT\n",
    "NLOS_Right_Center_mad_FFT = np.mean(np.abs(dataWithInterferenceNLOSRightCenterFFT - NLOS_Right_Center_mean_FFT))\n",
    "NLOS_Right_Center_coefficient_of_variance_FFT = (\n",
    "    NLOS_Right_Center_std_dev_FFT / NLOS_Right_Center_mean_FFT if NLOS_Right_Center_mean_FFT != 0 else np.nan\n",
    ")\n",
    "\n",
    "print(\"NLOS Right Center Mean:\", NLOS_Right_Center_mean)\n",
    "print(\"NLOS Right Center Variance:\", NLOS_Right_Center_var)\n",
    "print(\"NLOS Right Center Median:\", NLOS_Right_Center_median)\n",
    "print(\"NLOS Right Center Standard Deviation:\", NLOS_Right_Center_std_dev)\n",
    "print(\"NLOS Right Center Min:\", NLOS_Right_Center_min)\n",
    "print(\"NLOS Right Center Max:\", NLOS_Right_Center_max)\n",
    "print(\"NLOS Right Center Range:\", NLOS_Right_Center_range)\n",
    "print(\"NLOS Right Center MAD:\", NLOS_Right_Center_mad)\n",
    "print(\"NLOS Right Center Coefficient of Variance:\", NLOS_Right_Center_coefficient_of_variance)\n",
    "\n",
    "print(\"NLOS Right Center Q1:\", NLOS_Right_Center_q1_withmag)\n",
    "print(\"NLOS Right Center Q3:\", NLOS_Right_Center_q3_withmag)\n",
    "print(\"NLOS Right Center IQR:\", NLOS_Right_Center_iqr_withmag)\n",
    "print(\"NLOS Right Center Percentiles (10th, 25th, 50th, 75th, 90th):\", NLOS_Right_Center_percentiles_withmag)\n",
    "print(\"NLOS Right Center Skewness:\", NLOS_Right_Center_skewness_withmag)\n",
    "print(\"NLOS Right Center Kurtosis:\", NLOS_Right_Center_kurtosis_withmag)\n",
    "\n",
    "print(\"\\n\\n\")\n",
    "print(\"Eucleidian Distance with Magnitude\")\n",
    "print(\"NLOS Right Center Mean:\", NLOS_Right_Center_mean_withmag)\n",
    "print(\"NLOS Right Center Variance:\", NLOS_Right_Center_var_withmag)\n",
    "print(\"NLOS Right Center Median:\", NLOS_Right_Center_median_withmag)\n",
    "print(\"NLOS Right Center Standard Deviation:\", NLOS_Right_Center_std_dev_withmag)\n",
    "print(\"NLOS Right Center Min:\", NLOS_Right_Center_min_withmag)\n",
    "print(\"NLOS Right Center Max:\", NLOS_Right_Center_max_withmag)\n",
    "print(\"NLOS Right Center Range:\", NLOS_Right_Center_range_withmag)\n",
    "print(\"NLOS Right Center MAD:\", NLOS_Right_Center_mad_withmag)\n",
    "print(\"NLOS Right Center Coefficient of Variance:\", NLOS_Right_Center_coefficient_of_variance_withmag)\n",
    "\n",
    "\n",
    "print(\"\\n\\n\")\n",
    "print(\"FFT\")\n",
    "print(\"NLOS Right Center Mean:\", NLOS_Right_Center_mean_FFT)\n",
    "print(\"NLOS Right Center Variance:\", NLOS_Right_Center_var_FFT)\n",
    "print(\"NLOS Right Center Median:\", NLOS_Right_Center_median_FFT)\n",
    "print(\"NLOS Right Center Standard Deviation:\", NLOS_Right_Center_std_dev_FFT)\n",
    "print(\"NLOS Right Center Min:\", NLOS_Right_Center_min_FFT)\n",
    "print(\"NLOS Right Center Max:\", NLOS_Right_Center_max_FFT)\n",
    "print(\"NLOS Right Center Range:\", NLOS_Right_Center_range_FFT)\n",
    "print(\"NLOS Right Center MAD:\", NLOS_Right_Center_mad_FFT)\n",
    "print(\"NLOS Right Center Coefficient of Variance:\", NLOS_Right_Center_coefficient_of_variance_FFT)\n",
    "\n"
   ]
  },
  {
   "cell_type": "code",
   "execution_count": null,
   "metadata": {},
   "outputs": [],
   "source": [
    "NLOS_Right_Center_vector = np.array([\n",
    "    NLOS_Right_Center_mean,\n",
    "    NLOS_Right_Center_var,\n",
    "    NLOS_Right_Center_median,\n",
    "    NLOS_Right_Center_std_dev,\n",
    "    NLOS_Right_Center_min,\n",
    "    NLOS_Right_Center_max,\n",
    "    NLOS_Right_Center_range,\n",
    "    NLOS_Right_Center_mad,\n",
    "    NLOS_Right_Center_coefficient_of_variance,\n",
    "    NLOS_Right_Center_skewness_withmag,\n",
    "    NLOS_Right_Center_kurtosis_withmag,\n",
    "    NLOS_Right_Center_q1_withmag,\n",
    "    NLOS_Right_Center_q3_withmag,\n",
    "    NLOS_Right_Center_iqr_withmag,\n",
    "    *NLOS_Right_Center_percentiles_withmag  # Unpack percentiles into the vector\n",
    "])\n",
    "\n",
    "print(\"NLOS Right Center Vector:\", NLOS_Right_Center_vector)\n",
    "\n",
    "NLOS_Right_Center_vector_withmag = np.array([\n",
    "    NLOS_Right_Center_mean_withmag,\n",
    "    NLOS_Right_Center_var_withmag,\n",
    "    NLOS_Right_Center_median_withmag,\n",
    "    NLOS_Right_Center_std_dev_withmag,\n",
    "    NLOS_Right_Center_min_withmag,\n",
    "    NLOS_Right_Center_max_withmag,\n",
    "    NLOS_Right_Center_range_withmag,\n",
    "    NLOS_Right_Center_mad_withmag,\n",
    "    NLOS_Right_Center_coefficient_of_variance_withmag,\n",
    "    NLOS_Right_Center_skewness_withmag,\n",
    "    NLOS_Right_Center_kurtosis_withmag,\n",
    "    NLOS_Right_Center_q1_withmag,\n",
    "    NLOS_Right_Center_q3_withmag,\n",
    "    NLOS_Right_Center_iqr_withmag,\n",
    "    *NLOS_Right_Center_percentiles_withmag  # Unpack percentiles into the vector\n",
    "])\n",
    "\n",
    "print(\"NLOS Right Center Vector with Magnitude:\", NLOS_Right_Center_vector_withmag)\n",
    "\n",
    "NLOS_Right_Center_vector_FFT = np.array([\n",
    "    NLOS_Right_Center_mean_FFT,\n",
    "    NLOS_Right_Center_var_FFT,\n",
    "    NLOS_Right_Center_median_FFT,\n",
    "    NLOS_Right_Center_std_dev_FFT,\n",
    "    NLOS_Right_Center_min_FFT,\n",
    "    NLOS_Right_Center_max_FFT,\n",
    "    NLOS_Right_Center_range_FFT,\n",
    "    NLOS_Right_Center_mad_FFT,\n",
    "    NLOS_Right_Center_coefficient_of_variance_FFT,\n",
    "])\n",
    "\n",
    "print(\"NLOS Right Center Vector with FFT:\", NLOS_Right_Center_vector_FFT)\n",
    "\n",
    "\n"
   ]
  },
  {
   "cell_type": "code",
   "execution_count": null,
   "metadata": {},
   "outputs": [],
   "source": [
    "# NLOS Right First Quartile Metrics\n",
    "# NLOS_right_first_quartile_rssi = calculate_rssi(dataWithInterferenceNLOSRightFirstQuartileDC)\n",
    "# NLOS_right_first_quartile_mean = np.mean(dataWithInterferenceNLOSRightFirstQuartileDC)\n",
    "# NLOS_right_first_quartile_magnitude = calculate_IQMagnitude(dataWithInterferenceNLOSRightFirstQuartileDC)\n",
    "# NLOS_right_first_quartile_var = np.var(dataWithInterferenceNLOSRightFirstQuartileDC)\n",
    "# NLOS_right_first_quartile_phase = calculate_IQ_Angle(dataWithInterferenceNLOSRightFirstQuartileDC)\n",
    "# NLOS_right_first_quartile_amplitude = np.abs(dataWithInterferenceNLOSRightFirstQuartileDC)\n",
    "# NLOS_right_first_quartile_cov = compute_covariance(dataWithInterferenceNLOSRightFirstQuartileDC)\n",
    "\n",
    "# print(\"NLOS Right First Quartile RSSI:\", NLOS_right_first_quartile_rssi)\n",
    "# print(\"NLOS Right First Quartile Mean:\", NLOS_right_first_quartile_mean)\n",
    "# print(\"NLOS Right First Quartile Magnitude:\", NLOS_right_first_quartile_magnitude)\n",
    "# print(\"NLOS Right First Quartile Variance:\", NLOS_right_first_quartile_var)\n",
    "# print(\"NLOS Right First Quartile Phase:\", NLOS_right_first_quartile_phase)\n",
    "# print(\"NLOS Right First Quartile Amplitude:\", NLOS_right_first_quartile_amplitude)\n",
    "# print(\"NLOS Right First Quartile Covariance:\", NLOS_right_first_quartile_cov)\n",
    "\n",
    "NLOS_Right_First_Quartile_magnitude = calculate_IQMagnitude(dataWithInterferenceNLOSRightFirstQuartileDC)\n",
    "NLOS_Right_First_Quartile_mean = np.mean(dataWithInterferenceNLOSRightFirstQuartileDC)\n",
    "NLOS_Right_First_Quartile_var = np.var(dataWithInterferenceNLOSRightFirstQuartileDC)\n",
    "NLOS_Right_First_Quartile_median = np.median(dataWithInterferenceNLOSRightFirstQuartileDC)\n",
    "NLOS_Right_First_Quartile_std_dev = np.std(dataWithInterferenceNLOSRightFirstQuartileDC)\n",
    "NLOS_Right_First_Quartile_min = np.min(dataWithInterferenceNLOSRightFirstQuartileDC)\n",
    "NLOS_Right_First_Quartile_max = np.max(dataWithInterferenceNLOSRightFirstQuartileDC)\n",
    "NLOS_Right_First_Quartile_range = NLOS_Right_First_Quartile_max - NLOS_Right_First_Quartile_min\n",
    "NLOS_Right_First_Quartile_mad = np.mean(\n",
    "    np.abs(dataWithInterferenceNLOSRightFirstQuartileDC - NLOS_Right_First_Quartile_mean)\n",
    ")\n",
    "NLOS_Right_First_Quartile_coefficient_of_variance = (\n",
    "    NLOS_Right_First_Quartile_std_dev / NLOS_Right_First_Quartile_mean\n",
    "    if NLOS_Right_First_Quartile_mean != 0\n",
    "    else np.nan\n",
    ")\n",
    "\n",
    "NLOS_Right_First_Quartile_skewness_withmag = stats.skew(NLOS_Right_First_Quartile_magnitude)\n",
    "NLOS_Right_First_Quartile_kurtosis_withmag = stats.kurtosis(NLOS_Right_First_Quartile_magnitude)\n",
    "NLOS_Right_First_Quartile_q1_withmag = np.percentile(NLOS_Right_First_Quartile_magnitude, 25)\n",
    "NLOS_Right_First_Quartile_q3_withmag = np.percentile(NLOS_Right_First_Quartile_magnitude, 75)\n",
    "NLOS_Right_First_Quartile_iqr_withmag = (\n",
    "    NLOS_Right_First_Quartile_q3_withmag - NLOS_Right_First_Quartile_q1_withmag\n",
    ")\n",
    "NLOS_Right_First_Quartile_percentiles_withmag = np.percentile(\n",
    "    NLOS_Right_First_Quartile_magnitude, [10, 25, 50, 75, 90]\n",
    ")\n",
    "\n",
    "NLOS_Right_First_Quartile_mean_withmag = np.mean(NLOS_Right_First_Quartile_magnitude)\n",
    "NLOS_Right_First_Quartile_var_withmag = np.var(NLOS_Right_First_Quartile_magnitude)\n",
    "NLOS_Right_First_Quartile_median_withmag = np.median(NLOS_Right_First_Quartile_magnitude)\n",
    "NLOS_Right_First_Quartile_std_dev_withmag = np.std(NLOS_Right_First_Quartile_magnitude)\n",
    "NLOS_Right_First_Quartile_min_withmag = np.min(NLOS_Right_First_Quartile_magnitude)\n",
    "NLOS_Right_First_Quartile_max_withmag = np.max(NLOS_Right_First_Quartile_magnitude)\n",
    "NLOS_Right_First_Quartile_range_withmag = NLOS_Right_First_Quartile_max_withmag - NLOS_Right_First_Quartile_min_withmag\n",
    "NLOS_Right_First_Quartile_mad_withmag = np.mean(\n",
    "    np.abs(NLOS_Right_First_Quartile_magnitude - NLOS_Right_First_Quartile_mean_withmag)\n",
    ")\n",
    "NLOS_Right_First_Quartile_coefficient_of_variance_withmag = (\n",
    "    NLOS_Right_First_Quartile_std_dev_withmag / NLOS_Right_First_Quartile_mean_withmag\n",
    "    if NLOS_Right_First_Quartile_mean_withmag != 0\n",
    "    else np.nan\n",
    ")\n",
    "\n",
    "NLOS_Right_First_Quartile_mean_FFT = np.mean(dataWithInterferenceNLOSRightFirstQuartileFFT)\n",
    "NLOS_Right_First_Quartile_var_FFT = np.var(dataWithInterferenceNLOSRightFirstQuartileFFT)\n",
    "NLOS_Right_First_Quartile_median_FFT = np.median(dataWithInterferenceNLOSRightFirstQuartileFFT)\n",
    "NLOS_Right_First_Quartile_std_dev_FFT = np.std(dataWithInterferenceNLOSRightFirstQuartileFFT)\n",
    "NLOS_Right_First_Quartile_min_FFT = np.min(dataWithInterferenceNLOSRightFirstQuartileFFT)\n",
    "NLOS_Right_First_Quartile_max_FFT = np.max(dataWithInterferenceNLOSRightFirstQuartileFFT)\n",
    "NLOS_Right_First_Quartile_range_FFT = NLOS_Right_First_Quartile_max_FFT - NLOS_Right_First_Quartile_min_FFT\n",
    "NLOS_Right_First_Quartile_mad_FFT = np.mean(\n",
    "    np.abs(dataWithInterferenceNLOSRightFirstQuartileFFT - NLOS_Right_First_Quartile_mean_FFT)\n",
    ")\n",
    "NLOS_Right_First_Quartile_coefficient_of_variance_FFT = (\n",
    "    NLOS_Right_First_Quartile_std_dev_FFT / NLOS_Right_First_Quartile_mean_FFT\n",
    "    if NLOS_Right_First_Quartile_mean_FFT != 0\n",
    "    else np.nan\n",
    ")\n",
    "\n",
    "\n",
    "print(\"NLOS Right First Quartile Mean:\", NLOS_Right_First_Quartile_mean)\n",
    "print(\"NLOS Right First Quartile Variance:\", NLOS_Right_First_Quartile_var)\n",
    "print(\"NLOS Right First Quartile Median:\", NLOS_Right_First_Quartile_median)\n",
    "print(\"NLOS Right First Quartile Standard Deviation:\", NLOS_Right_First_Quartile_std_dev)\n",
    "print(\"NLOS Right First Quartile Min:\", NLOS_Right_First_Quartile_min)\n",
    "print(\"NLOS Right First Quartile Max:\", NLOS_Right_First_Quartile_max)\n",
    "print(\"NLOS Right First Quartile Range:\", NLOS_Right_First_Quartile_range)\n",
    "print(\"NLOS Right First Quartile MAD:\", NLOS_Right_First_Quartile_mad)\n",
    "print(\"NLOS Right First Quartile Coefficient of Variance:\", NLOS_Right_First_Quartile_coefficient_of_variance)\n",
    "\n",
    "print(\"NLOS Right First Quartile Skewness:\", NLOS_Right_First_Quartile_skewness_withmag)\n",
    "print(\"NLOS Right First Quartile Kurtosis:\", NLOS_Right_First_Quartile_kurtosis_withmag)\n",
    "print(\"NLOS Right First Quartile Q1:\", NLOS_Right_First_Quartile_q1_withmag)\n",
    "print(\"NLOS Right First Quartile Q3:\", NLOS_Right_First_Quartile_q3_withmag)\n",
    "print(\"NLOS Right First Quartile IQR:\", NLOS_Right_First_Quartile_iqr_withmag)\n",
    "print(\"NLOS Right First Quartile Percentiles (10th, 25th, 50th, 75th, 90th):\", NLOS_Right_First_Quartile_percentiles_withmag)\n",
    "\n",
    "print(\"\\n\\n\")\n",
    "print(\"Eucleidian Distance with Magnitude\")\n",
    "print(\"NLOS Right First Quartile Mean:\", NLOS_Right_First_Quartile_mean_withmag)\n",
    "print(\"NLOS Right First Quartile Variance:\", NLOS_Right_First_Quartile_var_withmag)\n",
    "print(\"NLOS Right First Quartile Median:\", NLOS_Right_First_Quartile_median_withmag)\n",
    "print(\"NLOS Right First Quartile Standard Deviation:\", NLOS_Right_First_Quartile_std_dev_withmag)\n",
    "print(\"NLOS Right First Quartile Min:\", NLOS_Right_First_Quartile_min_withmag)\n",
    "print(\"NLOS Right First Quartile Max:\", NLOS_Right_First_Quartile_max_withmag)\n",
    "print(\"NLOS Right First Quartile Range:\", NLOS_Right_First_Quartile_range_withmag)\n",
    "print(\"NLOS Right First Quartile MAD:\", NLOS_Right_First_Quartile_mad_withmag)\n",
    "print(\"NLOS Right First Quartile Coefficient of Variance:\", NLOS_Right_First_Quartile_coefficient_of_variance_withmag)\n",
    "\n",
    "print(\"\\n\\n\")\n",
    "print(\"FFT\")\n",
    "print(\"NLOS Right First Quartile Mean:\", NLOS_Right_First_Quartile_mean_FFT)\n",
    "print(\"NLOS Right First Quartile Variance:\", NLOS_Right_First_Quartile_var_FFT)\n",
    "print(\"NLOS Right First Quartile Median:\", NLOS_Right_First_Quartile_median_FFT)\n",
    "print(\"NLOS Right First Quartile Standard Deviation:\", NLOS_Right_First_Quartile_std_dev_FFT)\n",
    "print(\"NLOS Right First Quartile Min:\", NLOS_Right_First_Quartile_min_FFT)\n",
    "print(\"NLOS Right First Quartile Max:\", NLOS_Right_First_Quartile_max_FFT)\n",
    "print(\"NLOS Right First Quartile Range:\", NLOS_Right_First_Quartile_range_FFT)\n",
    "print(\"NLOS Right First Quartile MAD:\", NLOS_Right_First_Quartile_mad_FFT)\n",
    "print(\"NLOS Right First Quartile Coefficient of Variance:\", NLOS_Right_First_Quartile_coefficient_of_variance_FFT)\n",
    "\n"
   ]
  },
  {
   "cell_type": "code",
   "execution_count": null,
   "metadata": {},
   "outputs": [],
   "source": [
    "NLOS_Right_First_Quartile_vector = np.array([\n",
    "    NLOS_Right_First_Quartile_mean,\n",
    "    NLOS_Right_First_Quartile_var,\n",
    "    NLOS_Right_First_Quartile_median,\n",
    "    NLOS_Right_First_Quartile_std_dev,\n",
    "    NLOS_Right_First_Quartile_min,\n",
    "    NLOS_Right_First_Quartile_max,\n",
    "    NLOS_Right_First_Quartile_range,\n",
    "    NLOS_Right_First_Quartile_mad,\n",
    "    NLOS_Right_First_Quartile_coefficient_of_variance,\n",
    "    NLOS_Right_First_Quartile_skewness_withmag,\n",
    "    NLOS_Right_First_Quartile_kurtosis_withmag,\n",
    "    NLOS_Right_First_Quartile_q1_withmag,\n",
    "    NLOS_Right_First_Quartile_q3_withmag,\n",
    "    NLOS_Right_First_Quartile_iqr_withmag,\n",
    "    *NLOS_Right_First_Quartile_percentiles_withmag  # Unpack percentiles into the vector\n",
    "])\n",
    "\n",
    "print(\"NLOS Right First Quartile Vector:\", NLOS_Right_First_Quartile_vector)\n",
    "\n",
    "NLOS_Right_First_Quartile_vector_withmag = np.array([\n",
    "    NLOS_Right_First_Quartile_mean_withmag,\n",
    "    NLOS_Right_First_Quartile_var_withmag,\n",
    "    NLOS_Right_First_Quartile_median_withmag,\n",
    "    NLOS_Right_First_Quartile_std_dev_withmag,\n",
    "    NLOS_Right_First_Quartile_min_withmag,\n",
    "    NLOS_Right_First_Quartile_max_withmag,\n",
    "    NLOS_Right_First_Quartile_range_withmag,\n",
    "    NLOS_Right_First_Quartile_mad_withmag,\n",
    "    NLOS_Right_First_Quartile_coefficient_of_variance_withmag,\n",
    "    NLOS_Right_First_Quartile_skewness_withmag,\n",
    "    NLOS_Right_First_Quartile_kurtosis_withmag,\n",
    "    NLOS_Right_First_Quartile_q1_withmag,\n",
    "    NLOS_Right_First_Quartile_q3_withmag,\n",
    "    NLOS_Right_First_Quartile_iqr_withmag,\n",
    "    *NLOS_Right_First_Quartile_percentiles_withmag  # Unpack percentiles into the vector\n",
    "])\n",
    "\n",
    "print(\"NLOS Right First Quartile Vector with Magnitude:\", NLOS_Right_First_Quartile_vector_withmag)\n",
    "\n",
    "NLOS_Right_First_Quartile_vector_FFT = np.array([\n",
    "    NLOS_Right_First_Quartile_mean_FFT,\n",
    "    NLOS_Right_First_Quartile_var_FFT,\n",
    "    NLOS_Right_First_Quartile_median_FFT,\n",
    "    NLOS_Right_First_Quartile_std_dev_FFT,\n",
    "    NLOS_Right_First_Quartile_min_FFT,\n",
    "    NLOS_Right_First_Quartile_max_FFT,\n",
    "    NLOS_Right_First_Quartile_range_FFT,\n",
    "    NLOS_Right_First_Quartile_mad_FFT,\n",
    "    NLOS_Right_First_Quartile_coefficient_of_variance_FFT,\n",
    "])\n",
    "\n",
    "print(\"NLOS Right First Quartile Vector with FFT:\", NLOS_Right_First_Quartile_vector_FFT)\n",
    "\n"
   ]
  },
  {
   "cell_type": "code",
   "execution_count": null,
   "metadata": {},
   "outputs": [],
   "source": [
    "# NLOS Right Third Quartile Metrics\n",
    "# NLOS_right_third_quartile_rssi = calculate_rssi(dataWithInterferenceNLOSRightThirdQuartileDC)\n",
    "# NLOS_right_third_quartile_mean = np.mean(dataWithInterferenceNLOSRightThirdQuartileDC)\n",
    "# NLOS_right_third_quartile_magnitude = calculate_IQMagnitude(dataWithInterferenceNLOSRightThirdQuartileDC)\n",
    "# NLOS_right_third_quartile_var = np.var(dataWithInterferenceNLOSRightThirdQuartileDC)\n",
    "# NLOS_right_third_quartile_phase = calculate_IQ_Angle(dataWithInterferenceNLOSRightThirdQuartileDC)\n",
    "# NLOS_right_third_quartile_amplitude = np.abs(dataWithInterferenceNLOSRightThirdQuartileDC)\n",
    "# NLOS_right_third_quartile_cov = compute_covariance(dataWithInterferenceNLOSRightThirdQuartileDC)\n",
    "\n",
    "# print(\"NLOS Right Third Quartile RSSI:\", NLOS_right_third_quartile_rssi)\n",
    "# print(\"NLOS Right Third Quartile Mean:\", NLOS_right_third_quartile_mean)\n",
    "# print(\"NLOS Right Third Quartile Magnitude:\", NLOS_right_third_quartile_magnitude)\n",
    "# print(\"NLOS Right Third Quartile Variance:\", NLOS_right_third_quartile_var)\n",
    "# print(\"NLOS Right Third Quartile Phase:\", NLOS_right_third_quartile_phase)\n",
    "# print(\"NLOS Right Third Quartile Amplitude:\", NLOS_right_third_quartile_amplitude)\n",
    "# print(\"NLOS Right Third Quartile Covariance:\", NLOS_right_third_quartile_cov)\n",
    "\n",
    "NLOS_Right_Third_Quartile_magnitude = calculate_IQMagnitude(dataWithInterferenceNLOSRightThirdQuartileDC)\n",
    "NLOS_Right_Third_Quartile_mean = np.mean(dataWithInterferenceNLOSRightThirdQuartileDC)\n",
    "NLOS_Right_Third_Quartile_var = np.var(dataWithInterferenceNLOSRightThirdQuartileDC)\n",
    "NLOS_Right_Third_Quartile_median = np.median(dataWithInterferenceNLOSRightThirdQuartileDC)\n",
    "NLOS_Right_Third_Quartile_std_dev = np.std(dataWithInterferenceNLOSRightThirdQuartileDC)\n",
    "NLOS_Right_Third_Quartile_min = np.min(dataWithInterferenceNLOSRightThirdQuartileDC)\n",
    "NLOS_Right_Third_Quartile_max = np.max(dataWithInterferenceNLOSRightThirdQuartileDC)\n",
    "NLOS_Right_Third_Quartile_range = NLOS_Right_Third_Quartile_max - NLOS_Right_Third_Quartile_min\n",
    "NLOS_Right_Third_Quartile_mad = np.mean(\n",
    "    np.abs(dataWithInterferenceNLOSRightThirdQuartileDC - NLOS_Right_Third_Quartile_mean)\n",
    ")\n",
    "NLOS_Right_Third_Quartile_coefficient_of_variance = (\n",
    "    NLOS_Right_Third_Quartile_std_dev / NLOS_Right_Third_Quartile_mean\n",
    "    if NLOS_Right_Third_Quartile_mean != 0\n",
    "    else np.nan\n",
    ")\n",
    "\n",
    "NLOS_Right_Third_Quartile_skewness_withmag = stats.skew(NLOS_Right_Third_Quartile_magnitude)\n",
    "NLOS_Right_Third_Quartile_kurtosis_withmag = stats.kurtosis(NLOS_Right_Third_Quartile_magnitude)\n",
    "NLOS_Right_Third_Quartile_q1_withmag = np.percentile(NLOS_Right_Third_Quartile_magnitude, 25)\n",
    "NLOS_Right_Third_Quartile_q3_withmag = np.percentile(NLOS_Right_Third_Quartile_magnitude, 75)\n",
    "NLOS_Right_Third_Quartile_iqr_withmag = (\n",
    "    NLOS_Right_Third_Quartile_q3_withmag - NLOS_Right_Third_Quartile_q1_withmag\n",
    ")\n",
    "NLOS_Right_Third_Quartile_percentiles_withmag = np.percentile(\n",
    "    NLOS_Right_Third_Quartile_magnitude, [10, 25, 50, 75, 90]\n",
    ")\n",
    "\n",
    "NLOS_Right_Third_Quartile_mean_withmag = np.mean(NLOS_Right_Third_Quartile_magnitude)\n",
    "NLOS_Right_Third_Quartile_var_withmag = np.var(NLOS_Right_Third_Quartile_magnitude)\n",
    "NLOS_Right_Third_Quartile_median_withmag = np.median(NLOS_Right_Third_Quartile_magnitude)\n",
    "NLOS_Right_Third_Quartile_std_dev_withmag = np.std(NLOS_Right_Third_Quartile_magnitude)\n",
    "NLOS_Right_Third_Quartile_min_withmag = np.min(NLOS_Right_Third_Quartile_magnitude)\n",
    "NLOS_Right_Third_Quartile_max_withmag = np.max(NLOS_Right_Third_Quartile_magnitude)\n",
    "NLOS_Right_Third_Quartile_range_withmag = NLOS_Right_Third_Quartile_max_withmag - NLOS_Right_Third_Quartile_min_withmag\n",
    "NLOS_Right_Third_Quartile_mad_withmag = np.mean(\n",
    "    np.abs(NLOS_Right_Third_Quartile_magnitude - NLOS_Right_Third_Quartile_mean)\n",
    ")\n",
    "NLOS_Right_Third_Quartile_coefficient_of_variance_withmag = (\n",
    "    NLOS_Right_Third_Quartile_std_dev_withmag / NLOS_Right_Third_Quartile_mean_withmag\n",
    "    if NLOS_Right_Third_Quartile_mean_withmag != 0\n",
    "    else np.nan\n",
    ")\n",
    "\n",
    "NLOS_Right_Third_Quartile_mean_FFT = np.mean(dataWithInterferenceNLOSRightThirdQuartileFFT)\n",
    "NLOS_Right_Third_Quartile_var_FFT = np.var(dataWithInterferenceNLOSRightThirdQuartileFFT)\n",
    "NLOS_Right_Third_Quartile_median_FFT = np.median(dataWithInterferenceNLOSRightThirdQuartileFFT)\n",
    "NLOS_Right_Third_Quartile_std_dev_FFT = np.std(dataWithInterferenceNLOSRightThirdQuartileFFT)\n",
    "NLOS_Right_Third_Quartile_min_FFT = np.min(dataWithInterferenceNLOSRightThirdQuartileFFT)\n",
    "NLOS_Right_Third_Quartile_max_FFT = np.max(dataWithInterferenceNLOSRightThirdQuartileFFT)\n",
    "NLOS_Right_Third_Quartile_range_FFT = NLOS_Right_Third_Quartile_max_FFT - NLOS_Right_Third_Quartile_min_FFT\n",
    "NLOS_Right_Third_Quartile_mad_FFT = np.mean(np.abs(dataWithInterferenceNLOSRightThirdQuartileFFT - NLOS_Right_Third_Quartile_mean_FFT))\n",
    "NLOS_Right_Third_Quartile_coefficient_of_variance_FFT = (\n",
    "    NLOS_Right_Third_Quartile_std_dev_FFT / NLOS_Right_Third_Quartile_mean_FFT\n",
    "    if NLOS_Right_Third_Quartile_mean_FFT != 0\n",
    "    else np.nan\n",
    ")\n",
    "\n",
    "\n",
    "\n",
    "print(\"NLOS Right Third Quartile Mean:\", NLOS_Right_Third_Quartile_mean)\n",
    "print(\"NLOS Right Third Quartile Variance:\", NLOS_Right_Third_Quartile_var)\n",
    "print(\"NLOS Right Third Quartile Median:\", NLOS_Right_Third_Quartile_median)\n",
    "print(\"NLOS Right Third Quartile Standard Deviation:\", NLOS_Right_Third_Quartile_std_dev)\n",
    "print(\"NLOS Right Third Quartile Min:\", NLOS_Right_Third_Quartile_min)\n",
    "print(\"NLOS Right Third Quartile Max:\", NLOS_Right_Third_Quartile_max)\n",
    "print(\"NLOS Right Third Quartile Range:\", NLOS_Right_Third_Quartile_range)\n",
    "print(\"NLOS Right Third Quartile MAD:\", NLOS_Right_Third_Quartile_mad)\n",
    "print(\"NLOS Right Third Quartile Coefficient of Variance:\", NLOS_Right_Third_Quartile_coefficient_of_variance)\n",
    "\n",
    "print(\"NLOS Right Third Quartile Skewness:\", NLOS_Right_Third_Quartile_skewness_withmag)\n",
    "print(\"NLOS Right Third Quartile Kurtosis:\", NLOS_Right_Third_Quartile_kurtosis_withmag)\n",
    "print(\"NLOS Right Third Quartile Q1:\", NLOS_Right_Third_Quartile_q1_withmag)\n",
    "print(\"NLOS Right Third Quartile Q3:\", NLOS_Right_Third_Quartile_q3_withmag)\n",
    "print(\"NLOS Right Third Quartile IQR:\", NLOS_Right_Third_Quartile_iqr_withmag)\n",
    "print(\"NLOS Right Third Quartile Percentiles (10th, 25th, 50th, 75th, 90th):\", NLOS_Right_Third_Quartile_percentiles_withmag)\n",
    "\n",
    "print(\"\\n\\n\")\n",
    "print(\"Eucleidian Distance with Magnitude\")\n",
    "print(\"NLOS Right Third Quartile Mean:\", NLOS_Right_Third_Quartile_mean_withmag)\n",
    "print(\"NLOS Right Third Quartile Variance:\", NLOS_Right_Third_Quartile_var_withmag)\n",
    "print(\"NLOS Right Third Quartile Median:\", NLOS_Right_Third_Quartile_median_withmag)\n",
    "print(\"NLOS Right Third Quartile Standard Deviation:\", NLOS_Right_Third_Quartile_std_dev_withmag)\n",
    "print(\"NLOS Right Third Quartile Min:\", NLOS_Right_Third_Quartile_min_withmag)\n",
    "print(\"NLOS Right Third Quartile Max:\", NLOS_Right_Third_Quartile_max_withmag)\n",
    "print(\"NLOS Right Third Quartile Range:\", NLOS_Right_Third_Quartile_range_withmag)\n",
    "print(\"NLOS Right Third Quartile MAD:\", NLOS_Right_Third_Quartile_mad_withmag)\n",
    "print(\"NLOS Right Third Quartile Coefficient of Variance:\", NLOS_Right_Third_Quartile_coefficient_of_variance_withmag)\n",
    "\n",
    "print(\"\\n\\n\")\n",
    "print(\"FFT\")\n",
    "print(\"NLOS Right Third Quartile Mean:\", NLOS_Right_Third_Quartile_mean_FFT)\n",
    "print(\"NLOS Right Third Quartile Variance:\", NLOS_Right_Third_Quartile_var_FFT)\n",
    "print(\"NLOS Right Third Quartile Median:\", NLOS_Right_Third_Quartile_median_FFT)\n",
    "print(\"NLOS Right Third Quartile Standard Deviation:\", NLOS_Right_Third_Quartile_std_dev_FFT)\n",
    "print(\"NLOS Right Third Quartile Min:\", NLOS_Right_Third_Quartile_min_FFT)\n",
    "print(\"NLOS Right Third Quartile Max:\", NLOS_Right_Third_Quartile_max_FFT)\n",
    "print(\"NLOS Right Third Quartile Range:\", NLOS_Right_Third_Quartile_range_FFT)\n",
    "print(\"NLOS Right Third Quartile MAD:\", NLOS_Right_Third_Quartile_mad_FFT)\n",
    "print(\"NLOS Right Third Quartile Coefficient of Variance:\", NLOS_Right_Third_Quartile_coefficient_of_variance_FFT)\n"
   ]
  },
  {
   "cell_type": "code",
   "execution_count": null,
   "metadata": {},
   "outputs": [],
   "source": [
    "NLOS_Right_Third_Quartile_vector = np.array([\n",
    "    NLOS_Right_Third_Quartile_mean,\n",
    "    NLOS_Right_Third_Quartile_var,\n",
    "    NLOS_Right_Third_Quartile_median,\n",
    "    NLOS_Right_Third_Quartile_std_dev,\n",
    "    NLOS_Right_Third_Quartile_min,\n",
    "    NLOS_Right_Third_Quartile_max,\n",
    "    NLOS_Right_Third_Quartile_range,\n",
    "    NLOS_Right_Third_Quartile_mad,\n",
    "    NLOS_Right_Third_Quartile_coefficient_of_variance,\n",
    "    NLOS_Right_Third_Quartile_skewness_withmag,\n",
    "    NLOS_Right_Third_Quartile_kurtosis_withmag,\n",
    "    NLOS_Right_Third_Quartile_q1_withmag,\n",
    "    NLOS_Right_Third_Quartile_q3_withmag,\n",
    "    NLOS_Right_Third_Quartile_iqr_withmag,\n",
    "    *NLOS_Right_Third_Quartile_percentiles_withmag  # Unpack percentiles into the vector\n",
    "])\n",
    "\n",
    "print(\"NLOS Right Third Quartile Vector:\", NLOS_Right_Third_Quartile_vector)\n",
    "\n",
    "NLOS_Right_Third_Quartile_vector_withmag = np.array([\n",
    "    NLOS_Right_Third_Quartile_mean_withmag,\n",
    "    NLOS_Right_Third_Quartile_var_withmag,\n",
    "    NLOS_Right_Third_Quartile_median_withmag,\n",
    "    NLOS_Right_Third_Quartile_std_dev_withmag,\n",
    "    NLOS_Right_Third_Quartile_min_withmag,\n",
    "    NLOS_Right_Third_Quartile_max_withmag,\n",
    "    NLOS_Right_Third_Quartile_range_withmag,\n",
    "    NLOS_Right_Third_Quartile_mad_withmag,\n",
    "    NLOS_Right_Third_Quartile_coefficient_of_variance_withmag,\n",
    "    NLOS_Right_Third_Quartile_skewness_withmag,\n",
    "    NLOS_Right_Third_Quartile_kurtosis_withmag,\n",
    "    NLOS_Right_Third_Quartile_q1_withmag,\n",
    "    NLOS_Right_Third_Quartile_q3_withmag,\n",
    "    NLOS_Right_Third_Quartile_iqr_withmag,\n",
    "    *NLOS_Right_Third_Quartile_percentiles_withmag  # Unpack percentiles into the vector\n",
    "])\n",
    "\n",
    "print(\"NLOS Right Third Quartile Vector with magnitude:\", NLOS_Right_Third_Quartile_vector_withmag)\n",
    "\n",
    "NLOS_Right_Third_Quartile_vector_FFT = np.array([\n",
    "    NLOS_Right_Third_Quartile_mean_FFT,\n",
    "    NLOS_Right_Third_Quartile_var_FFT,\n",
    "    NLOS_Right_Third_Quartile_median_FFT,\n",
    "    NLOS_Right_Third_Quartile_std_dev_FFT,\n",
    "    NLOS_Right_Third_Quartile_min_FFT,\n",
    "    NLOS_Right_Third_Quartile_max_FFT,\n",
    "    NLOS_Right_Third_Quartile_range_FFT,\n",
    "    NLOS_Right_Third_Quartile_mad_FFT,\n",
    "    NLOS_Right_Third_Quartile_coefficient_of_variance_FFT,\n",
    "])\n",
    "\n",
    "print(\"NLOS Right Third Quartile Vector with FFT:\", NLOS_Right_Third_Quartile_vector_FFT)\n"
   ]
  },
  {
   "cell_type": "markdown",
   "metadata": {},
   "source": [
    "#### Eucleidian Distance"
   ]
  },
  {
   "cell_type": "code",
   "execution_count": null,
   "metadata": {},
   "outputs": [],
   "source": [
    "# LOS_Center_vector\n",
    "print(\"\\nEucleidian Distance\")\n",
    "print(\"LOS_Center_vector: \", distance.euclidean(LOS_Center_vector, LOS_Center_vector))\n",
    "print(\"LOS_First_Quartile_vector: \", distance.euclidean(LOS_Center_vector, LOS_First_Quartile_vector))\n",
    "print(\"LOS_Third_Quartile_vector: \", distance.euclidean(LOS_Center_vector, LOS_Third_Quartile_vector))\n",
    "print(\"NLOS_Left_Center_vector: \", distance.euclidean(LOS_Center_vector, NLOS_Left_Center_vector))\n",
    "print(\"NLOS_Left_First_Quartile_vector: \", distance.euclidean(LOS_Center_vector, NLOS_Left_First_Quartile_vector))\n",
    "print(\"NLOS_Left_Third_Quartile_vector: \", distance.euclidean(LOS_Center_vector, NLOS_Left_Third_Quartile_vector))\n",
    "print(\"NLOS_Right_Center_vector: \", distance.euclidean(LOS_Center_vector, NLOS_Right_Center_vector))\n",
    "print(\"NLOS_Right_First_Quartile_vector: \", distance.euclidean(LOS_Center_vector, NLOS_Right_First_Quartile_vector))\n",
    "print(\"NLOS_Right_Third_Quartile_vector: \", distance.euclidean(LOS_Center_vector, NLOS_Right_Third_Quartile_vector))\n",
    "\n",
    "# LOS_Center_vector\n",
    "print(\"\\nManhattan Distance\")\n",
    "print(\"LOS_Center_vector: \", cityblock(LOS_Center_vector, LOS_Center_vector))\n",
    "print(\"LOS_First_Quartile_vector: \", cityblock(LOS_Center_vector, LOS_First_Quartile_vector))\n",
    "print(\"LOS_Third_Quartile_vector: \", cityblock(LOS_Center_vector, LOS_Third_Quartile_vector))\n",
    "print(\"NLOS_Left_Center_vector: \", cityblock(LOS_Center_vector, NLOS_Left_Center_vector))\n",
    "print(\"NLOS_Left_First_Quartile_vector: \", cityblock(LOS_Center_vector, NLOS_Left_First_Quartile_vector))\n",
    "print(\"NLOS_Left_Third_Quartile_vector: \", cityblock(LOS_Center_vector, NLOS_Left_Third_Quartile_vector))\n",
    "print(\"NLOS_Right_Center_vector: \", cityblock(LOS_Center_vector, NLOS_Right_Center_vector))\n",
    "print(\"NLOS_Right_First_Quartile_vector: \", cityblock(LOS_Center_vector, NLOS_Right_First_Quartile_vector))\n",
    "print(\"NLOS_Right_Third_Quartile_vector: \", cityblock(LOS_Center_vector, NLOS_Right_Third_Quartile_vector))\n",
    "\n",
    "print(\"\\nEucleidian Distance Magnitude\")\n",
    "print(\"LOS_Center_vector: \", distance.euclidean(LOS_Center_vector_withmag, LOS_Center_vector_withmag))\n",
    "print(\"LOS_First_Quartile_vector: \", distance.euclidean(LOS_Center_vector_withmag, LOS_First_Quartile_vector_withmag))\n",
    "print(\"LOS_Third_Quartile_vector: \", distance.euclidean(LOS_Center_vector_withmag, LOS_Third_Quartile_vector_withmag))\n",
    "print(\"NLOS_Left_Center_vector: \", distance.euclidean(LOS_Center_vector_withmag, NLOS_Left_Center_vector_withmag))\n",
    "print(\"NLOS_Left_First_Quartile_vector: \", distance.euclidean(LOS_Center_vector_withmag, NLOS_Left_First_Quartile_vector_withmag))\n",
    "print(\"NLOS_Left_Third_Quartile_vector: \", distance.euclidean(LOS_Center_vector_withmag, NLOS_Left_Third_Quartile_vector_withmag))\n",
    "print(\"NLOS_Right_Center_vector: \", distance.euclidean(LOS_Center_vector_withmag, NLOS_Right_Center_vector_withmag))\n",
    "print(\"NLOS_Right_First_Quartile_vector: \", distance.euclidean(LOS_Center_vector_withmag, NLOS_Right_First_Quartile_vector_withmag))\n",
    "print(\"NLOS_Right_Third_Quartile_vector: \", distance.euclidean(LOS_Center_vector_withmag, NLOS_Right_Third_Quartile_vector_withmag))\n",
    "\n",
    "print(\"\\nEucleidian Distance FFT\")\n",
    "print(\"LOS_Center_vector: \", distance.euclidean(LOS_Center_vector_FFT, LOS_Center_vector_FFT))\n",
    "print(\"LOS_First_Quartile_vector: \", distance.euclidean(LOS_Center_vector_FFT, LOS_First_Quartile_vector_FFT))\n",
    "print(\"LOS_Third_Quartile_vector: \", distance.euclidean(LOS_Center_vector_FFT, LOS_Third_Quartile_vector_FFT))\n",
    "print(\"NLOS_Left_Center_vector: \", distance.euclidean(LOS_Center_vector_FFT, NLOS_Left_Center_vector_FFT))\n",
    "print(\"NLOS_Left_First_Quartile_vector: \", distance.euclidean(LOS_Center_vector_FFT, NLOS_Left_First_Quartile_vector_FFT))\n",
    "print(\"NLOS_Left_Third_Quartile_vector: \", distance.euclidean(LOS_Center_vector_FFT, NLOS_Left_Third_Quartile_vector_FFT))\n",
    "print(\"NLOS_Right_Center_vector: \", distance.euclidean(LOS_Center_vector_FFT, NLOS_Right_Center_vector_FFT))\n",
    "print(\"NLOS_Right_First_Quartile_vector: \", distance.euclidean(LOS_Center_vector_FFT, NLOS_Right_First_Quartile_vector_FFT))\n",
    "print(\"NLOS_Right_Third_Quartile_vector: \", distance.euclidean(LOS_Center_vector_FFT, NLOS_Right_Third_Quartile_vector_FFT))"
   ]
  },
  {
   "cell_type": "code",
   "execution_count": null,
   "metadata": {},
   "outputs": [],
   "source": [
    "min_size = min(len(LOS_Center_amplitude), len(LOS_first_quartile_amplitude), len(LOS_third_quartile_amplitude))\n",
    "LOS_Center_amplitude = LOS_Center_amplitude[:min_size]\n",
    "LOS_first_quartile_amplitude = LOS_first_quartile_amplitude[:min_size]\n",
    "LOS_third_quartile_amplitude = LOS_third_quartile_amplitude[:min_size]\n",
    "\n",
    "print(distance.euclidean(LOS_Center_amplitude, LOS_Center_amplitude))\n",
    "print(distance.euclidean(LOS_Center_amplitude, LOS_first_quartile_amplitude))\n",
    "print(distance.euclidean(LOS_Center_amplitude, LOS_third_quartile_amplitude))\n",
    "print(distance.euclidean(LOS_first_quartile_amplitude, LOS_third_quartile_amplitude))"
   ]
  },
  {
   "cell_type": "code",
   "execution_count": null,
   "metadata": {},
   "outputs": [],
   "source": [
    "min_size = min(len(LOS_Center_angle), len(LOS_first_quartile_angle), len(LOS_third_quartile_angle))\n",
    "\n",
    "# Trim all arrays to the minimum size\n",
    "LOS_Center_angle = LOS_Center_angle[:min_size]\n",
    "LOS_first_quartile_angle = LOS_first_quartile_angle[:min_size]\n",
    "LOS_third_quartile_angle = LOS_third_quartile_angle[:min_size]\n",
    "\n",
    "# Calculate Euclidean distances\n",
    "print(distance.euclidean(LOS_Center_angle, LOS_Center_angle))\n",
    "print(distance.euclidean(LOS_Center_angle, LOS_first_quartile_angle))\n",
    "print(distance.euclidean(LOS_Center_angle, LOS_third_quartile_angle))\n",
    "print(distance.euclidean(LOS_first_quartile_angle, LOS_third_quartile_angle))"
   ]
  },
  {
   "cell_type": "code",
   "execution_count": null,
   "metadata": {},
   "outputs": [],
   "source": [
    "print(distance.euclidean(LOS_Center_amplitude, LOS_Center_amplitude) + distance.euclidean(LOS_Center_angle, LOS_Center_angle))\n",
    "print(distance.euclidean(LOS_Center_amplitude, LOS_first_quartile_amplitude) + distance.euclidean(LOS_Center_angle, LOS_first_quartile_angle))\n",
    "print(distance.euclidean(LOS_Center_amplitude, LOS_third_quartile_amplitude) + distance.euclidean(LOS_Center_angle, LOS_third_quartile_angle))\n",
    "print(distance.euclidean(LOS_first_quartile_amplitude, LOS_third_quartile_amplitude) + distance.euclidean(LOS_first_quartile_angle, LOS_third_quartile_angle))"
   ]
  },
  {
   "cell_type": "code",
   "execution_count": null,
   "metadata": {},
   "outputs": [],
   "source": [
    "# print(np.shape(LOS_Center_mean_withmag))\n",
    "# print(LOS_Center_mean_withmag)\n",
    "# print(LOS_First_Quartile_mean_withmag)\n",
    "# LOS_Center_mean_withmag_wrap = np.array([LOS_Center_mean_withmag], dtype=float)\n",
    "# LOS_First_Quartile_mean_withmag_wrap = np.array([LOS_First_Quartile_mean_withmag], dtype=float)\n",
    "# # print(\"Shape of LOS_Center_mean_withmag:\", np.shape(LOS_Center_mean_withmag))\n",
    "# LOS_Center_var_withmag_wrap = np.array([LOS_Center_var_withmag], dtype=float)\n",
    "# LOS_First_Quartile_var_withmag_wrap = np.array([LOS_First_Quartile_var_withmag], dtype=float)\n",
    "# print(\"LOS_Center_vector Mean: \", distance.euclidean(LOS_Center_mean_withmag_wrap, LOS_First_Quartile_mean_withmag_wrap))\n",
    "# print(\"LOS_Center_vector Var: \", distance.euclidean(LOS_Center_var_withmag_wrap, LOS_First_Quartile_var_withmag_wrap))\n",
    "# # print(LOS_First_Quartile_var_withmag)\n"
   ]
  },
  {
   "cell_type": "code",
   "execution_count": null,
   "metadata": {},
   "outputs": [],
   "source": [
    "# NLOS_Left_Center_vector\n",
    "print(\"NLOS_Left_Center_vector: \", distance.euclidean(NLOS_Left_Center_vector, NLOS_Left_Center_vector))\n",
    "print(\"LOS_Center_vector: \", distance.euclidean(NLOS_Left_Center_vector, LOS_Center_vector))\n",
    "print(\"LOS_First_Quartile_vector: \", distance.euclidean(NLOS_Left_Center_vector, LOS_First_Quartile_vector))\n",
    "print(\"LOS_Third_Quartile_vector: \", distance.euclidean(NLOS_Left_Center_vector, LOS_Third_Quartile_vector))\n",
    "print(\"NLOS_Left_First_Quartile_vector: \", distance.euclidean(NLOS_Left_Center_vector, NLOS_Left_First_Quartile_vector))\n",
    "print(\"NLOS_Left_Third_Quartile_vector: \", distance.euclidean(NLOS_Left_Center_vector, NLOS_Left_Third_Quartile_vector))\n",
    "print(\"NLOS_Right_Center_vector: \", distance.euclidean(NLOS_Left_Center_vector, NLOS_Right_Center_vector))\n",
    "print(\"NLOS_Right_First_Quartile_vector: \", distance.euclidean(NLOS_Left_Center_vector, NLOS_Right_First_Quartile_vector))\n",
    "print(\"NLOS_Right_Third_Quartile_vector: \", distance.euclidean(NLOS_Left_Center_vector, NLOS_Right_Third_Quartile_vector))\n",
    "\n",
    "print(\"\\nManhattan Distance\")\n",
    "print(\"NLOS_Left_Center_vector: \", cityblock(NLOS_Left_Center_vector, NLOS_Left_Center_vector))\n",
    "print(\"LOS_Center_vector: \", cityblock(NLOS_Left_Center_vector, LOS_Center_vector))\n",
    "print(\"LOS_First_Quartile_vector: \", cityblock(NLOS_Left_Center_vector, LOS_First_Quartile_vector))\n",
    "print(\"LOS_Third_Quartile_vector: \", cityblock(NLOS_Left_Center_vector, LOS_Third_Quartile_vector))\n",
    "print(\"NLOS_Left_First_Quartile_vector: \", cityblock(NLOS_Left_Center_vector, NLOS_Left_First_Quartile_vector))\n",
    "print(\"NLOS_Left_Third_Quartile_vector: \", cityblock(NLOS_Left_Center_vector, NLOS_Left_Third_Quartile_vector))\n",
    "print(\"NLOS_Right_Center_vector: \", cityblock(NLOS_Left_Center_vector, NLOS_Right_Center_vector))\n",
    "print(\"NLOS_Right_First_Quartile_vector: \", cityblock(NLOS_Left_Center_vector, NLOS_Right_First_Quartile_vector))\n",
    "print(\"NLOS_Right_Third_Quartile_vector: \", cityblock(NLOS_Left_Center_vector, NLOS_Right_Third_Quartile_vector))\n",
    "\n",
    "print(\"\\nEucleidian Distance Magnitude\")\n",
    "print(\"NLOS_Left_Center_vector: \", distance.euclidean(NLOS_Left_Center_vector_withmag, NLOS_Left_Center_vector_withmag))\n",
    "print(\"LOS_Center_vector: \", distance.euclidean(NLOS_Left_Center_vector_withmag, LOS_Center_vector_withmag))\n",
    "print(\"LOS_First_Quartile_vector: \", distance.euclidean(NLOS_Left_Center_vector_withmag, LOS_First_Quartile_vector_withmag))\n",
    "print(\"LOS_Third_Quartile_vector: \", distance.euclidean(NLOS_Left_Center_vector_withmag, LOS_Third_Quartile_vector_withmag))\n",
    "print(\"NLOS_Left_First_Quartile_vector: \", distance.euclidean(NLOS_Left_Center_vector_withmag, NLOS_Left_First_Quartile_vector_withmag))\n",
    "print(\"NLOS_Left_Third_Quartile_vector: \", distance.euclidean(NLOS_Left_Center_vector_withmag, NLOS_Left_Third_Quartile_vector_withmag))\n",
    "print(\"NLOS_Right_Center_vector: \", distance.euclidean(NLOS_Left_Center_vector_withmag, NLOS_Right_Center_vector_withmag))\n",
    "print(\"NLOS_Right_First_Quartile_vector: \", distance.euclidean(NLOS_Left_Center_vector_withmag, NLOS_Right_First_Quartile_vector_withmag))\n",
    "print(\"NLOS_Right_Third_Quartile_vector: \", distance.euclidean(NLOS_Left_Center_vector_withmag, NLOS_Right_Third_Quartile_vector_withmag))\n",
    "\n",
    "print(\"\\nEucleidian Distance FFT\")\n",
    "print(\"NLOS_Left_Center_vector: \", distance.euclidean(NLOS_Left_Center_vector_FFT, NLOS_Left_Center_vector_FFT))\n",
    "print(\"LOS_Center_vector: \", distance.euclidean(NLOS_Left_Center_vector_FFT, LOS_Center_vector_FFT))\n",
    "print(\"LOS_First_Quartile_vector: \", distance.euclidean(NLOS_Left_Center_vector_FFT, LOS_First_Quartile_vector_FFT))\n",
    "print(\"LOS_Third_Quartile_vector: \", distance.euclidean(NLOS_Left_Center_vector_FFT, LOS_Third_Quartile_vector_FFT))\n",
    "print(\"NLOS_Left_First_Quartile_vector: \", distance.euclidean(NLOS_Left_Center_vector_FFT, NLOS_Left_First_Quartile_vector_FFT))\n",
    "print(\"NLOS_Left_Third_Quartile_vector: \", distance.euclidean(NLOS_Left_Center_vector_FFT, NLOS_Left_Third_Quartile_vector_FFT))\n",
    "print(\"NLOS_Right_Center_vector: \", distance.euclidean(NLOS_Left_Center_vector_FFT, NLOS_Right_Center_vector_FFT))\n",
    "print(\"NLOS_Right_First_Quartile_vector: \", distance.euclidean(NLOS_Left_Center_vector_FFT, NLOS_Right_First_Quartile_vector_FFT))\n",
    "print(\"NLOS_Right_Third_Quartile_vector: \", distance.euclidean(NLOS_Left_Center_vector_FFT, NLOS_Right_Third_Quartile_vector_FFT))"
   ]
  },
  {
   "cell_type": "code",
   "execution_count": null,
   "metadata": {},
   "outputs": [],
   "source": [
    "print(\"NLOS_Right_Center_vector: \", distance.euclidean(NLOS_Right_Center_vector, NLOS_Right_Center_vector))\n",
    "print(\"LOS_Center_vector: \", distance.euclidean(NLOS_Right_Center_vector, LOS_Center_vector))\n",
    "print(\"LOS_First_Quartile_vector: \", distance.euclidean(NLOS_Right_Center_vector, LOS_First_Quartile_vector))\n",
    "print(\"LOS_Third_Quartile_vector: \", distance.euclidean(NLOS_Right_Center_vector, LOS_Third_Quartile_vector))\n",
    "print(\"NLOS_Left_Center_vector: \", distance.euclidean(NLOS_Right_Center_vector, NLOS_Left_Center_vector))\n",
    "print(\"NLOS_Left_First_Quartile_vector: \", distance.euclidean(NLOS_Right_Center_vector, NLOS_Left_First_Quartile_vector))\n",
    "print(\"NLOS_Left_Third_Quartile_vector: \", distance.euclidean(NLOS_Right_Center_vector, NLOS_Left_Third_Quartile_vector))\n",
    "print(\"NLOS_Right_First_Quartile_vector: \", distance.euclidean(NLOS_Right_Center_vector, NLOS_Right_First_Quartile_vector))\n",
    "print(\"NLOS_Right_Third_Quartile_vector: \", distance.euclidean(NLOS_Right_Center_vector, NLOS_Right_Third_Quartile_vector))\n",
    "\n",
    "print(\"\\nManhattan Distance\")\n",
    "print(\"NLOS_Right_Center_vector: \", cityblock(NLOS_Right_Center_vector, NLOS_Right_Center_vector))\n",
    "print(\"LOS_Center_vector: \", cityblock(NLOS_Right_Center_vector, LOS_Center_vector))\n",
    "print(\"LOS_First_Quartile_vector: \", cityblock(NLOS_Right_Center_vector, LOS_First_Quartile_vector))\n",
    "print(\"LOS_Third_Quartile_vector: \", cityblock(NLOS_Right_Center_vector, LOS_Third_Quartile_vector))\n",
    "print(\"NLOS_Left_Center_vector: \", cityblock(NLOS_Right_Center_vector, NLOS_Left_Center_vector))\n",
    "print(\"NLOS_Left_First_Quartile_vector: \", cityblock(NLOS_Right_Center_vector, NLOS_Left_First_Quartile_vector))\n",
    "print(\"NLOS_Left_Third_Quartile_vector: \", cityblock(NLOS_Right_Center_vector, NLOS_Left_Third_Quartile_vector))\n",
    "print(\"NLOS_Right_First_Quartile_vector: \", cityblock(NLOS_Right_Center_vector, NLOS_Right_First_Quartile_vector))\n",
    "print(\"NLOS_Right_Third_Quartile_vector: \", cityblock(NLOS_Right_Center_vector, NLOS_Right_Third_Quartile_vector))\n",
    "\n",
    "print(\"\\nEucleidian Distance Magnitude\")\n",
    "print(\"NLOS_Right_Center_vector: \", distance.euclidean(NLOS_Right_Center_vector_withmag, NLOS_Right_Center_vector_withmag))\n",
    "print(\"LOS_Center_vector: \", distance.euclidean(NLOS_Right_Center_vector_withmag, LOS_Center_vector_withmag))\n",
    "print(\"LOS_First_Quartile_vector: \", distance.euclidean(NLOS_Right_Center_vector_withmag, LOS_First_Quartile_vector_withmag))\n",
    "print(\"LOS_Third_Quartile_vector: \", distance.euclidean(NLOS_Right_Center_vector_withmag, LOS_Third_Quartile_vector_withmag))\n",
    "print(\"NLOS_Left_Center_vector: \", distance.euclidean(NLOS_Right_Center_vector_withmag, NLOS_Left_Center_vector_withmag))\n",
    "print(\"NLOS_Left_First_Quartile_vector: \", distance.euclidean(NLOS_Right_Center_vector_withmag, NLOS_Left_First_Quartile_vector_withmag))\n",
    "print(\"NLOS_Left_Third_Quartile_vector: \", distance.euclidean(NLOS_Right_Center_vector_withmag, NLOS_Left_Third_Quartile_vector_withmag))\n",
    "print(\"NLOS_Right_First_Quartile_vector: \", distance.euclidean(NLOS_Right_Center_vector_withmag, NLOS_Right_First_Quartile_vector_withmag))\n",
    "print(\"NLOS_Right_Third_Quartile_vector: \", distance.euclidean(NLOS_Right_Center_vector_withmag, NLOS_Right_Third_Quartile_vector_withmag))\n",
    "\n",
    "print(\"\\nEucleidian Distance FFT\")\n",
    "print(\"NLOS_Right_Center_vector: \", distance.euclidean(NLOS_Right_Center_vector_FFT, NLOS_Right_Center_vector_FFT))\n",
    "print(\"LOS_Center_vector: \", distance.euclidean(NLOS_Right_Center_vector_FFT, LOS_Center_vector_FFT))\n",
    "print(\"LOS_First_Quartile_vector: \", distance.euclidean(NLOS_Right_Center_vector_FFT, LOS_First_Quartile_vector_FFT))\n",
    "print(\"LOS_Third_Quartile_vector: \", distance.euclidean(NLOS_Right_Center_vector_FFT, LOS_Third_Quartile_vector_FFT))\n",
    "print(\"NLOS_Left_Center_vector: \", distance.euclidean(NLOS_Right_Center_vector_FFT, NLOS_Left_Center_vector_FFT))\n",
    "print(\"NLOS_Left_First_Quartile_vector: \", distance.euclidean(NLOS_Right_Center_vector_FFT, NLOS_Left_First_Quartile_vector_FFT))\n",
    "print(\"NLOS_Left_Third_Quartile_vector: \", distance.euclidean(NLOS_Right_Center_vector_FFT, NLOS_Left_Third_Quartile_vector_FFT))\n",
    "print(\"NLOS_Right_First_Quartile_vector: \", distance.euclidean(NLOS_Right_Center_vector_FFT, NLOS_Right_First_Quartile_vector_FFT))\n",
    "print(\"NLOS_Right_Third_Quartile_vector: \", distance.euclidean(NLOS_Right_Center_vector_FFT, NLOS_Right_Third_Quartile_vector_FFT))"
   ]
  },
  {
   "cell_type": "code",
   "execution_count": null,
   "metadata": {},
   "outputs": [],
   "source": [
    "# NLOS_Left_First_Quartile_vector\n",
    "\n",
    "print(\"NLOS_Left_First_Quartile_vector: \", distance.euclidean(NLOS_Left_First_Quartile_vector, NLOS_Left_First_Quartile_vector))\n",
    "print(\"LOS_Center_vector: \", distance.euclidean(NLOS_Left_First_Quartile_vector, LOS_Center_vector))\n",
    "print(\"LOS_First_Quartile_vector: \", distance.euclidean(NLOS_Left_First_Quartile_vector, LOS_First_Quartile_vector))\n",
    "print(\"LOS_Third_Quartile_vector: \", distance.euclidean(NLOS_Left_First_Quartile_vector, LOS_Third_Quartile_vector))\n",
    "print(\"NLOS_Left_Center_vector: \", distance.euclidean(NLOS_Left_First_Quartile_vector, NLOS_Left_Center_vector))\n",
    "print(\"NLOS_Left_Third_Quartile_vector: \", distance.euclidean(NLOS_Left_First_Quartile_vector, NLOS_Left_Third_Quartile_vector))\n",
    "print(\"NLOS_Right_Center_vector: \", distance.euclidean(NLOS_Left_First_Quartile_vector, NLOS_Right_Center_vector))\n",
    "print(\"NLOS_Right_First_Quartile_vector: \", distance.euclidean(NLOS_Left_First_Quartile_vector, NLOS_Right_First_Quartile_vector))\n",
    "print(\"NLOS_Right_Third_Quartile_vector: \", distance.euclidean(NLOS_Left_First_Quartile_vector, NLOS_Right_Third_Quartile_vector))\n",
    "\n",
    "print(\"\\nManhattan Distance\")\n",
    "print(\"NLOS_Left_First_Quartile_vector: \", cityblock(NLOS_Left_First_Quartile_vector, NLOS_Left_First_Quartile_vector))\n",
    "print(\"LOS_Center_vector: \", cityblock(NLOS_Left_First_Quartile_vector, LOS_Center_vector))\n",
    "print(\"LOS_First_Quartile_vector: \", cityblock(NLOS_Left_First_Quartile_vector, LOS_First_Quartile_vector))\n",
    "print(\"LOS_Third_Quartile_vector: \", cityblock(NLOS_Left_First_Quartile_vector, LOS_Third_Quartile_vector))\n",
    "print(\"NLOS_Left_Center_vector: \", cityblock(NLOS_Left_First_Quartile_vector, NLOS_Left_Center_vector))\n",
    "print(\"NLOS_Left_Third_Quartile_vector: \", cityblock(NLOS_Left_First_Quartile_vector, NLOS_Left_Third_Quartile_vector))\n",
    "print(\"NLOS_Right_Center_vector: \", cityblock(NLOS_Left_First_Quartile_vector, NLOS_Right_Center_vector))\n",
    "print(\"NLOS_Right_First_Quartile_vector: \", cityblock(NLOS_Left_First_Quartile_vector, NLOS_Right_First_Quartile_vector))\n",
    "print(\"NLOS_Right_Third_Quartile_vector: \", cityblock(NLOS_Left_First_Quartile_vector, NLOS_Right_Third_Quartile_vector))\n",
    "\n",
    "print(\"\\nEucleidian Distance Magnitude\")\n",
    "print(\"NLOS_Left_First_Quartile_vector: \", distance.euclidean(NLOS_Left_First_Quartile_vector_withmag, NLOS_Left_First_Quartile_vector_withmag))\n",
    "print(\"LOS_Center_vector: \", distance.euclidean(NLOS_Left_First_Quartile_vector_withmag, LOS_Center_vector_withmag))\n",
    "print(\"LOS_First_Quartile_vector: \", distance.euclidean(NLOS_Left_First_Quartile_vector_withmag, LOS_First_Quartile_vector_withmag))\n",
    "print(\"LOS_Third_Quartile_vector: \", distance.euclidean(NLOS_Left_First_Quartile_vector_withmag, LOS_Third_Quartile_vector_withmag))\n",
    "print(\"NLOS_Left_Center_vector: \", distance.euclidean(NLOS_Left_First_Quartile_vector_withmag, NLOS_Left_Center_vector_withmag))\n",
    "print(\"NLOS_Left_Third_Quartile_vector: \", distance.euclidean(NLOS_Left_First_Quartile_vector_withmag, NLOS_Left_Third_Quartile_vector_withmag))\n",
    "print(\"NLOS_Right_Center_vector: \", distance.euclidean(NLOS_Left_First_Quartile_vector_withmag, NLOS_Right_Center_vector_withmag))\n",
    "print(\"NLOS_Right_First_Quartile_vector: \", distance.euclidean(NLOS_Left_First_Quartile_vector_withmag, NLOS_Right_First_Quartile_vector_withmag))\n",
    "print(\"NLOS_Right_Third_Quartile_vector: \", distance.euclidean(NLOS_Left_First_Quartile_vector_withmag, NLOS_Right_Third_Quartile_vector_withmag))\n",
    "\n",
    "print(\"\\nEucleidian Distance FFT\")\n",
    "print(\"NLOS_Left_First_Quartile_vector: \", distance.euclidean(NLOS_Left_First_Quartile_vector_FFT, NLOS_Left_First_Quartile_vector_FFT))\n",
    "print(\"LOS_Center_vector: \", distance.euclidean(NLOS_Left_First_Quartile_vector_FFT, LOS_Center_vector_FFT))\n",
    "print(\"LOS_First_Quartile_vector: \", distance.euclidean(NLOS_Left_First_Quartile_vector_FFT, LOS_First_Quartile_vector_FFT))\n",
    "print(\"LOS_Third_Quartile_vector: \", distance.euclidean(NLOS_Left_First_Quartile_vector_FFT, LOS_Third_Quartile_vector_FFT))\n",
    "print(\"NLOS_Left_Center_vector: \", distance.euclidean(NLOS_Left_First_Quartile_vector_FFT, NLOS_Left_Center_vector_FFT))\n",
    "print(\"NLOS_Left_Third_Quartile_vector: \", distance.euclidean(NLOS_Left_First_Quartile_vector_FFT, NLOS_Left_Third_Quartile_vector_FFT))\n",
    "print(\"NLOS_Right_Center_vector: \", distance.euclidean(NLOS_Left_First_Quartile_vector_FFT, NLOS_Right_Center_vector_FFT))\n",
    "print(\"NLOS_Right_First_Quartile_vector: \", distance.euclidean(NLOS_Left_First_Quartile_vector_FFT, NLOS_Right_First_Quartile_vector_FFT))\n",
    "print(\"NLOS_Right_Third_Quartile_vector: \", distance.euclidean(NLOS_Left_First_Quartile_vector_FFT, NLOS_Right_Third_Quartile_vector_FFT))"
   ]
  },
  {
   "cell_type": "markdown",
   "metadata": {},
   "source": [
    "### Calculate IQ Magnitude State"
   ]
  },
  {
   "cell_type": "code",
   "execution_count": null,
   "metadata": {},
   "outputs": [],
   "source": [
    "print(np.var(calculate_IQMagnitude(dataWithOutInterference)))\n",
    "print(np.var(calculate_IQMagnitude(dataWithInterferenceLOSCenter)))\n",
    "print(np.var(calculate_IQMagnitude(dataWithInterferenceLOSFirstQuartile)))\n",
    "print(np.var(calculate_IQMagnitude(dataWithInterferenceLOSThirdQuartile)))\n",
    "print(np.var(calculate_IQMagnitude(dataWithInterferenceNLOSLeftCenter)))\n",
    "print(np.var(calculate_IQMagnitude(dataWithInterferenceNLOSLeftFirstQuartile)))\n",
    "print(np.var(calculate_IQMagnitude(dataWithInterferenceNLOSLeftThirdQuartile)))\n",
    "print(np.var(calculate_IQMagnitude(dataWithInterferenceNLOSRightCenter)))\n",
    "print(np.var(calculate_IQMagnitude(dataWithInterferenceNLOSRightFirstQuartile)))\n",
    "print(np.var(calculate_IQMagnitude(dataWithInterferenceNLOSRightThirdQuartile)))"
   ]
  },
  {
   "cell_type": "markdown",
   "metadata": {},
   "source": [
    "### Plotting FFT"
   ]
  },
  {
   "cell_type": "markdown",
   "metadata": {},
   "source": [
    "### Deleting Variable to Save Memory"
   ]
  },
  {
   "cell_type": "code",
   "execution_count": null,
   "metadata": {},
   "outputs": [],
   "source": [
    "del dataWithOutInterference"
   ]
  },
  {
   "cell_type": "code",
   "execution_count": null,
   "metadata": {},
   "outputs": [],
   "source": [
    "del dataWithInterferenceLOSCenter"
   ]
  },
  {
   "cell_type": "code",
   "execution_count": null,
   "metadata": {},
   "outputs": [],
   "source": []
  }
 ],
 "metadata": {
  "kernelspec": {
   "display_name": "Python 3",
   "language": "python",
   "name": "python3"
  },
  "language_info": {
   "codemirror_mode": {
    "name": "ipython",
    "version": 3
   },
   "file_extension": ".py",
   "mimetype": "text/x-python",
   "name": "python",
   "nbconvert_exporter": "python",
   "pygments_lexer": "ipython3",
   "version": "3.12.6"
  }
 },
 "nbformat": 4,
 "nbformat_minor": 4
}
